{
 "cells": [
  {
   "cell_type": "markdown",
   "id": "35824fd6",
   "metadata": {},
   "source": [
    "# CSE-6040 Extra Credit Analysis #\n",
    "### Utilizing Video Game Sales Dataset: year_genre_region.csv ###\n",
    "https://www.kaggle.com/datasets/stetsondone/video-game-sales-by-genre?resource=download&select=year_genre_region.csv\n",
    "\n",
    "by John Welch"
   ]
  },
  {
   "cell_type": "markdown",
   "id": "3fa3e187",
   "metadata": {},
   "source": [
    "-----------------------------------------------------\n",
    "# Introduction #\n",
    "\n",
    "The data set we'll be analyzing includes the total video game sales for different regions and genres spanning the years 1980-2020.\n",
    "\n",
    "To give an idea of why we might anaylze something like this, let's assume we are working with a **new game developer** that wants to make a brand new video game. Let's also assume they would like to **appeal to the widest audience**, selling the most popular genre in the **most profitable regions**.\n",
    "\n",
    "There are **3 primary objectives** to this anaylsis:\n",
    "  1. **Clean the Data** (Part 1)\n",
    "  2. **Anaylze the Data** (Part 2)\n",
    "  3. **Provide Useful Outputs** (Intermixed in Parts 1 & 2)\n",
    "    \n",
    "In addition, there are **4 questions** we would like to answer:\n",
    "  1. What are the top 3 game genres with the most sales?\n",
    "  2. What genre sells the least?\n",
    "  3. Is there a close top 4th?\n",
    "  4. Is there any top 3 genre that will not sell as well in a specific region, compared to the others?\n",
    "\n"
   ]
  },
  {
   "cell_type": "markdown",
   "id": "249909ad",
   "metadata": {},
   "source": [
    "### Loading Modules & Dataset ###\n",
    "\n",
    "As is tradition, we'll start by loading in the relevant modules and dataset. After that we'll verify that everything loaded in ok without any problems or errors."
   ]
  },
  {
   "cell_type": "code",
   "execution_count": 1,
   "id": "3692fd5e",
   "metadata": {},
   "outputs": [
    {
     "data": {
      "text/html": [
       "\n",
       "    <div class=\"bk-root\">\n",
       "        <a href=\"https://bokeh.org\" target=\"_blank\" class=\"bk-logo bk-logo-small bk-logo-notebook\"></a>\n",
       "        <span id=\"1002\">Loading BokehJS ...</span>\n",
       "    </div>"
      ]
     },
     "metadata": {},
     "output_type": "display_data"
    },
    {
     "data": {
      "application/javascript": [
       "\n",
       "(function(root) {\n",
       "  function now() {\n",
       "    return new Date();\n",
       "  }\n",
       "\n",
       "  const force = true;\n",
       "\n",
       "  if (typeof root._bokeh_onload_callbacks === \"undefined\" || force === true) {\n",
       "    root._bokeh_onload_callbacks = [];\n",
       "    root._bokeh_is_loading = undefined;\n",
       "  }\n",
       "\n",
       "  const JS_MIME_TYPE = 'application/javascript';\n",
       "  const HTML_MIME_TYPE = 'text/html';\n",
       "  const EXEC_MIME_TYPE = 'application/vnd.bokehjs_exec.v0+json';\n",
       "  const CLASS_NAME = 'output_bokeh rendered_html';\n",
       "\n",
       "  /**\n",
       "   * Render data to the DOM node\n",
       "   */\n",
       "  function render(props, node) {\n",
       "    const script = document.createElement(\"script\");\n",
       "    node.appendChild(script);\n",
       "  }\n",
       "\n",
       "  /**\n",
       "   * Handle when an output is cleared or removed\n",
       "   */\n",
       "  function handleClearOutput(event, handle) {\n",
       "    const cell = handle.cell;\n",
       "\n",
       "    const id = cell.output_area._bokeh_element_id;\n",
       "    const server_id = cell.output_area._bokeh_server_id;\n",
       "    // Clean up Bokeh references\n",
       "    if (id != null && id in Bokeh.index) {\n",
       "      Bokeh.index[id].model.document.clear();\n",
       "      delete Bokeh.index[id];\n",
       "    }\n",
       "\n",
       "    if (server_id !== undefined) {\n",
       "      // Clean up Bokeh references\n",
       "      const cmd_clean = \"from bokeh.io.state import curstate; print(curstate().uuid_to_server['\" + server_id + \"'].get_sessions()[0].document.roots[0]._id)\";\n",
       "      cell.notebook.kernel.execute(cmd_clean, {\n",
       "        iopub: {\n",
       "          output: function(msg) {\n",
       "            const id = msg.content.text.trim();\n",
       "            if (id in Bokeh.index) {\n",
       "              Bokeh.index[id].model.document.clear();\n",
       "              delete Bokeh.index[id];\n",
       "            }\n",
       "          }\n",
       "        }\n",
       "      });\n",
       "      // Destroy server and session\n",
       "      const cmd_destroy = \"import bokeh.io.notebook as ion; ion.destroy_server('\" + server_id + \"')\";\n",
       "      cell.notebook.kernel.execute(cmd_destroy);\n",
       "    }\n",
       "  }\n",
       "\n",
       "  /**\n",
       "   * Handle when a new output is added\n",
       "   */\n",
       "  function handleAddOutput(event, handle) {\n",
       "    const output_area = handle.output_area;\n",
       "    const output = handle.output;\n",
       "\n",
       "    // limit handleAddOutput to display_data with EXEC_MIME_TYPE content only\n",
       "    if ((output.output_type != \"display_data\") || (!Object.prototype.hasOwnProperty.call(output.data, EXEC_MIME_TYPE))) {\n",
       "      return\n",
       "    }\n",
       "\n",
       "    const toinsert = output_area.element.find(\".\" + CLASS_NAME.split(' ')[0]);\n",
       "\n",
       "    if (output.metadata[EXEC_MIME_TYPE][\"id\"] !== undefined) {\n",
       "      toinsert[toinsert.length - 1].firstChild.textContent = output.data[JS_MIME_TYPE];\n",
       "      // store reference to embed id on output_area\n",
       "      output_area._bokeh_element_id = output.metadata[EXEC_MIME_TYPE][\"id\"];\n",
       "    }\n",
       "    if (output.metadata[EXEC_MIME_TYPE][\"server_id\"] !== undefined) {\n",
       "      const bk_div = document.createElement(\"div\");\n",
       "      bk_div.innerHTML = output.data[HTML_MIME_TYPE];\n",
       "      const script_attrs = bk_div.children[0].attributes;\n",
       "      for (let i = 0; i < script_attrs.length; i++) {\n",
       "        toinsert[toinsert.length - 1].firstChild.setAttribute(script_attrs[i].name, script_attrs[i].value);\n",
       "        toinsert[toinsert.length - 1].firstChild.textContent = bk_div.children[0].textContent\n",
       "      }\n",
       "      // store reference to server id on output_area\n",
       "      output_area._bokeh_server_id = output.metadata[EXEC_MIME_TYPE][\"server_id\"];\n",
       "    }\n",
       "  }\n",
       "\n",
       "  function register_renderer(events, OutputArea) {\n",
       "\n",
       "    function append_mime(data, metadata, element) {\n",
       "      // create a DOM node to render to\n",
       "      const toinsert = this.create_output_subarea(\n",
       "        metadata,\n",
       "        CLASS_NAME,\n",
       "        EXEC_MIME_TYPE\n",
       "      );\n",
       "      this.keyboard_manager.register_events(toinsert);\n",
       "      // Render to node\n",
       "      const props = {data: data, metadata: metadata[EXEC_MIME_TYPE]};\n",
       "      render(props, toinsert[toinsert.length - 1]);\n",
       "      element.append(toinsert);\n",
       "      return toinsert\n",
       "    }\n",
       "\n",
       "    /* Handle when an output is cleared or removed */\n",
       "    events.on('clear_output.CodeCell', handleClearOutput);\n",
       "    events.on('delete.Cell', handleClearOutput);\n",
       "\n",
       "    /* Handle when a new output is added */\n",
       "    events.on('output_added.OutputArea', handleAddOutput);\n",
       "\n",
       "    /**\n",
       "     * Register the mime type and append_mime function with output_area\n",
       "     */\n",
       "    OutputArea.prototype.register_mime_type(EXEC_MIME_TYPE, append_mime, {\n",
       "      /* Is output safe? */\n",
       "      safe: true,\n",
       "      /* Index of renderer in `output_area.display_order` */\n",
       "      index: 0\n",
       "    });\n",
       "  }\n",
       "\n",
       "  // register the mime type if in Jupyter Notebook environment and previously unregistered\n",
       "  if (root.Jupyter !== undefined) {\n",
       "    const events = require('base/js/events');\n",
       "    const OutputArea = require('notebook/js/outputarea').OutputArea;\n",
       "\n",
       "    if (OutputArea.prototype.mime_types().indexOf(EXEC_MIME_TYPE) == -1) {\n",
       "      register_renderer(events, OutputArea);\n",
       "    }\n",
       "  }\n",
       "\n",
       "  \n",
       "  if (typeof (root._bokeh_timeout) === \"undefined\" || force === true) {\n",
       "    root._bokeh_timeout = Date.now() + 5000;\n",
       "    root._bokeh_failed_load = false;\n",
       "  }\n",
       "\n",
       "  const NB_LOAD_WARNING = {'data': {'text/html':\n",
       "     \"<div style='background-color: #fdd'>\\n\"+\n",
       "     \"<p>\\n\"+\n",
       "     \"BokehJS does not appear to have successfully loaded. If loading BokehJS from CDN, this \\n\"+\n",
       "     \"may be due to a slow or bad network connection. Possible fixes:\\n\"+\n",
       "     \"</p>\\n\"+\n",
       "     \"<ul>\\n\"+\n",
       "     \"<li>re-rerun `output_notebook()` to attempt to load from CDN again, or</li>\\n\"+\n",
       "     \"<li>use INLINE resources instead, as so:</li>\\n\"+\n",
       "     \"</ul>\\n\"+\n",
       "     \"<code>\\n\"+\n",
       "     \"from bokeh.resources import INLINE\\n\"+\n",
       "     \"output_notebook(resources=INLINE)\\n\"+\n",
       "     \"</code>\\n\"+\n",
       "     \"</div>\"}};\n",
       "\n",
       "  function display_loaded() {\n",
       "    const el = document.getElementById(\"1002\");\n",
       "    if (el != null) {\n",
       "      el.textContent = \"BokehJS is loading...\";\n",
       "    }\n",
       "    if (root.Bokeh !== undefined) {\n",
       "      if (el != null) {\n",
       "        el.textContent = \"BokehJS \" + root.Bokeh.version + \" successfully loaded.\";\n",
       "      }\n",
       "    } else if (Date.now() < root._bokeh_timeout) {\n",
       "      setTimeout(display_loaded, 100)\n",
       "    }\n",
       "  }\n",
       "\n",
       "\n",
       "  function run_callbacks() {\n",
       "    try {\n",
       "      root._bokeh_onload_callbacks.forEach(function(callback) {\n",
       "        if (callback != null)\n",
       "          callback();\n",
       "      });\n",
       "    } finally {\n",
       "      delete root._bokeh_onload_callbacks\n",
       "    }\n",
       "    console.debug(\"Bokeh: all callbacks have finished\");\n",
       "  }\n",
       "\n",
       "  function load_libs(css_urls, js_urls, callback) {\n",
       "    if (css_urls == null) css_urls = [];\n",
       "    if (js_urls == null) js_urls = [];\n",
       "\n",
       "    root._bokeh_onload_callbacks.push(callback);\n",
       "    if (root._bokeh_is_loading > 0) {\n",
       "      console.debug(\"Bokeh: BokehJS is being loaded, scheduling callback at\", now());\n",
       "      return null;\n",
       "    }\n",
       "    if (js_urls == null || js_urls.length === 0) {\n",
       "      run_callbacks();\n",
       "      return null;\n",
       "    }\n",
       "    console.debug(\"Bokeh: BokehJS not loaded, scheduling load and callback at\", now());\n",
       "    root._bokeh_is_loading = css_urls.length + js_urls.length;\n",
       "\n",
       "    function on_load() {\n",
       "      root._bokeh_is_loading--;\n",
       "      if (root._bokeh_is_loading === 0) {\n",
       "        console.debug(\"Bokeh: all BokehJS libraries/stylesheets loaded\");\n",
       "        run_callbacks()\n",
       "      }\n",
       "    }\n",
       "\n",
       "    function on_error(url) {\n",
       "      console.error(\"failed to load \" + url);\n",
       "    }\n",
       "\n",
       "    for (let i = 0; i < css_urls.length; i++) {\n",
       "      const url = css_urls[i];\n",
       "      const element = document.createElement(\"link\");\n",
       "      element.onload = on_load;\n",
       "      element.onerror = on_error.bind(null, url);\n",
       "      element.rel = \"stylesheet\";\n",
       "      element.type = \"text/css\";\n",
       "      element.href = url;\n",
       "      console.debug(\"Bokeh: injecting link tag for BokehJS stylesheet: \", url);\n",
       "      document.body.appendChild(element);\n",
       "    }\n",
       "\n",
       "    for (let i = 0; i < js_urls.length; i++) {\n",
       "      const url = js_urls[i];\n",
       "      const element = document.createElement('script');\n",
       "      element.onload = on_load;\n",
       "      element.onerror = on_error.bind(null, url);\n",
       "      element.async = false;\n",
       "      element.src = url;\n",
       "      console.debug(\"Bokeh: injecting script tag for BokehJS library: \", url);\n",
       "      document.head.appendChild(element);\n",
       "    }\n",
       "  };\n",
       "\n",
       "  function inject_raw_css(css) {\n",
       "    const element = document.createElement(\"style\");\n",
       "    element.appendChild(document.createTextNode(css));\n",
       "    document.body.appendChild(element);\n",
       "  }\n",
       "\n",
       "  \n",
       "  const js_urls = [\"https://cdn.bokeh.org/bokeh/release/bokeh-2.4.2.min.js\", \"https://cdn.bokeh.org/bokeh/release/bokeh-gl-2.4.2.min.js\", \"https://cdn.bokeh.org/bokeh/release/bokeh-widgets-2.4.2.min.js\", \"https://cdn.bokeh.org/bokeh/release/bokeh-tables-2.4.2.min.js\", \"https://cdn.bokeh.org/bokeh/release/bokeh-mathjax-2.4.2.min.js\"];\n",
       "  const css_urls = [];\n",
       "  \n",
       "\n",
       "  const inline_js = [\n",
       "    function(Bokeh) {\n",
       "      Bokeh.set_log_level(\"info\");\n",
       "    },\n",
       "    function(Bokeh) {\n",
       "    \n",
       "    \n",
       "    }\n",
       "  ];\n",
       "\n",
       "  function run_inline_js() {\n",
       "    \n",
       "    if (root.Bokeh !== undefined || force === true) {\n",
       "      \n",
       "    for (let i = 0; i < inline_js.length; i++) {\n",
       "      inline_js[i].call(root, root.Bokeh);\n",
       "    }\n",
       "    if (force === true) {\n",
       "        display_loaded();\n",
       "      }} else if (Date.now() < root._bokeh_timeout) {\n",
       "      setTimeout(run_inline_js, 100);\n",
       "    } else if (!root._bokeh_failed_load) {\n",
       "      console.log(\"Bokeh: BokehJS failed to load within specified timeout.\");\n",
       "      root._bokeh_failed_load = true;\n",
       "    } else if (force !== true) {\n",
       "      const cell = $(document.getElementById(\"1002\")).parents('.cell').data().cell;\n",
       "      cell.output_area.append_execute_result(NB_LOAD_WARNING)\n",
       "    }\n",
       "\n",
       "  }\n",
       "\n",
       "  if (root._bokeh_is_loading === 0) {\n",
       "    console.debug(\"Bokeh: BokehJS loaded, going straight to plotting\");\n",
       "    run_inline_js();\n",
       "  } else {\n",
       "    load_libs(css_urls, js_urls, function() {\n",
       "      console.debug(\"Bokeh: BokehJS plotting callback run at\", now());\n",
       "      run_inline_js();\n",
       "    });\n",
       "  }\n",
       "}(window));"
      ],
      "application/vnd.bokehjs_load.v0+json": "\n(function(root) {\n  function now() {\n    return new Date();\n  }\n\n  const force = true;\n\n  if (typeof root._bokeh_onload_callbacks === \"undefined\" || force === true) {\n    root._bokeh_onload_callbacks = [];\n    root._bokeh_is_loading = undefined;\n  }\n\n  \n\n  \n  if (typeof (root._bokeh_timeout) === \"undefined\" || force === true) {\n    root._bokeh_timeout = Date.now() + 5000;\n    root._bokeh_failed_load = false;\n  }\n\n  const NB_LOAD_WARNING = {'data': {'text/html':\n     \"<div style='background-color: #fdd'>\\n\"+\n     \"<p>\\n\"+\n     \"BokehJS does not appear to have successfully loaded. If loading BokehJS from CDN, this \\n\"+\n     \"may be due to a slow or bad network connection. Possible fixes:\\n\"+\n     \"</p>\\n\"+\n     \"<ul>\\n\"+\n     \"<li>re-rerun `output_notebook()` to attempt to load from CDN again, or</li>\\n\"+\n     \"<li>use INLINE resources instead, as so:</li>\\n\"+\n     \"</ul>\\n\"+\n     \"<code>\\n\"+\n     \"from bokeh.resources import INLINE\\n\"+\n     \"output_notebook(resources=INLINE)\\n\"+\n     \"</code>\\n\"+\n     \"</div>\"}};\n\n  function display_loaded() {\n    const el = document.getElementById(\"1002\");\n    if (el != null) {\n      el.textContent = \"BokehJS is loading...\";\n    }\n    if (root.Bokeh !== undefined) {\n      if (el != null) {\n        el.textContent = \"BokehJS \" + root.Bokeh.version + \" successfully loaded.\";\n      }\n    } else if (Date.now() < root._bokeh_timeout) {\n      setTimeout(display_loaded, 100)\n    }\n  }\n\n\n  function run_callbacks() {\n    try {\n      root._bokeh_onload_callbacks.forEach(function(callback) {\n        if (callback != null)\n          callback();\n      });\n    } finally {\n      delete root._bokeh_onload_callbacks\n    }\n    console.debug(\"Bokeh: all callbacks have finished\");\n  }\n\n  function load_libs(css_urls, js_urls, callback) {\n    if (css_urls == null) css_urls = [];\n    if (js_urls == null) js_urls = [];\n\n    root._bokeh_onload_callbacks.push(callback);\n    if (root._bokeh_is_loading > 0) {\n      console.debug(\"Bokeh: BokehJS is being loaded, scheduling callback at\", now());\n      return null;\n    }\n    if (js_urls == null || js_urls.length === 0) {\n      run_callbacks();\n      return null;\n    }\n    console.debug(\"Bokeh: BokehJS not loaded, scheduling load and callback at\", now());\n    root._bokeh_is_loading = css_urls.length + js_urls.length;\n\n    function on_load() {\n      root._bokeh_is_loading--;\n      if (root._bokeh_is_loading === 0) {\n        console.debug(\"Bokeh: all BokehJS libraries/stylesheets loaded\");\n        run_callbacks()\n      }\n    }\n\n    function on_error(url) {\n      console.error(\"failed to load \" + url);\n    }\n\n    for (let i = 0; i < css_urls.length; i++) {\n      const url = css_urls[i];\n      const element = document.createElement(\"link\");\n      element.onload = on_load;\n      element.onerror = on_error.bind(null, url);\n      element.rel = \"stylesheet\";\n      element.type = \"text/css\";\n      element.href = url;\n      console.debug(\"Bokeh: injecting link tag for BokehJS stylesheet: \", url);\n      document.body.appendChild(element);\n    }\n\n    for (let i = 0; i < js_urls.length; i++) {\n      const url = js_urls[i];\n      const element = document.createElement('script');\n      element.onload = on_load;\n      element.onerror = on_error.bind(null, url);\n      element.async = false;\n      element.src = url;\n      console.debug(\"Bokeh: injecting script tag for BokehJS library: \", url);\n      document.head.appendChild(element);\n    }\n  };\n\n  function inject_raw_css(css) {\n    const element = document.createElement(\"style\");\n    element.appendChild(document.createTextNode(css));\n    document.body.appendChild(element);\n  }\n\n  \n  const js_urls = [\"https://cdn.bokeh.org/bokeh/release/bokeh-2.4.2.min.js\", \"https://cdn.bokeh.org/bokeh/release/bokeh-gl-2.4.2.min.js\", \"https://cdn.bokeh.org/bokeh/release/bokeh-widgets-2.4.2.min.js\", \"https://cdn.bokeh.org/bokeh/release/bokeh-tables-2.4.2.min.js\", \"https://cdn.bokeh.org/bokeh/release/bokeh-mathjax-2.4.2.min.js\"];\n  const css_urls = [];\n  \n\n  const inline_js = [\n    function(Bokeh) {\n      Bokeh.set_log_level(\"info\");\n    },\n    function(Bokeh) {\n    \n    \n    }\n  ];\n\n  function run_inline_js() {\n    \n    if (root.Bokeh !== undefined || force === true) {\n      \n    for (let i = 0; i < inline_js.length; i++) {\n      inline_js[i].call(root, root.Bokeh);\n    }\n    if (force === true) {\n        display_loaded();\n      }} else if (Date.now() < root._bokeh_timeout) {\n      setTimeout(run_inline_js, 100);\n    } else if (!root._bokeh_failed_load) {\n      console.log(\"Bokeh: BokehJS failed to load within specified timeout.\");\n      root._bokeh_failed_load = true;\n    } else if (force !== true) {\n      const cell = $(document.getElementById(\"1002\")).parents('.cell').data().cell;\n      cell.output_area.append_execute_result(NB_LOAD_WARNING)\n    }\n\n  }\n\n  if (root._bokeh_is_loading === 0) {\n    console.debug(\"Bokeh: BokehJS loaded, going straight to plotting\");\n    run_inline_js();\n  } else {\n    load_libs(css_urls, js_urls, function() {\n      console.debug(\"Bokeh: BokehJS plotting callback run at\", now());\n      run_inline_js();\n    });\n  }\n}(window));"
     },
     "metadata": {},
     "output_type": "display_data"
    }
   ],
   "source": [
    "# Loading Modules\n",
    "from io import StringIO\n",
    "from IPython.display import display, Markdown\n",
    "import pandas as pd\n",
    "import sqlite3 as db\n",
    "import bokeh\n",
    "from bokeh.models import ColumnDataSource\n",
    "from bokeh.plotting import figure\n",
    "from bokeh.io import output_notebook\n",
    "from bokeh.io import show\n",
    "from bokeh.palettes import brewer\n",
    "output_notebook ()\n",
    "import seaborn as sns\n",
    "import matplotlib.pyplot as plt\n",
    "%matplotlib inline"
   ]
  },
  {
   "cell_type": "code",
   "execution_count": 2,
   "id": "fdb70467",
   "metadata": {},
   "outputs": [
    {
     "name": "stdout",
     "output_type": "stream",
     "text": [
      "RangeIndex(start=0, stop=1950, step=1)\n",
      "------------------------\n",
      "A preview of our dataset\n",
      "------------------------\n"
     ]
    },
    {
     "data": {
      "text/html": [
       "<div>\n",
       "<style scoped>\n",
       "    .dataframe tbody tr th:only-of-type {\n",
       "        vertical-align: middle;\n",
       "    }\n",
       "\n",
       "    .dataframe tbody tr th {\n",
       "        vertical-align: top;\n",
       "    }\n",
       "\n",
       "    .dataframe thead th {\n",
       "        text-align: right;\n",
       "    }\n",
       "</style>\n",
       "<table border=\"1\" class=\"dataframe\">\n",
       "  <thead>\n",
       "    <tr style=\"text-align: right;\">\n",
       "      <th></th>\n",
       "      <th>release_year</th>\n",
       "      <th>genre</th>\n",
       "      <th>region</th>\n",
       "      <th>sales</th>\n",
       "    </tr>\n",
       "  </thead>\n",
       "  <tbody>\n",
       "    <tr>\n",
       "      <th>0</th>\n",
       "      <td>1980</td>\n",
       "      <td>Action</td>\n",
       "      <td>North America</td>\n",
       "      <td>0.32</td>\n",
       "    </tr>\n",
       "    <tr>\n",
       "      <th>1</th>\n",
       "      <td>1980</td>\n",
       "      <td>Fighting</td>\n",
       "      <td>North America</td>\n",
       "      <td>0.72</td>\n",
       "    </tr>\n",
       "    <tr>\n",
       "      <th>2</th>\n",
       "      <td>1980</td>\n",
       "      <td>Misc</td>\n",
       "      <td>North America</td>\n",
       "      <td>2.53</td>\n",
       "    </tr>\n",
       "    <tr>\n",
       "      <th>3</th>\n",
       "      <td>1980</td>\n",
       "      <td>Shooter</td>\n",
       "      <td>North America</td>\n",
       "      <td>6.56</td>\n",
       "    </tr>\n",
       "    <tr>\n",
       "      <th>4</th>\n",
       "      <td>1980</td>\n",
       "      <td>Sports</td>\n",
       "      <td>North America</td>\n",
       "      <td>0.46</td>\n",
       "    </tr>\n",
       "    <tr>\n",
       "      <th>...</th>\n",
       "      <td>...</td>\n",
       "      <td>...</td>\n",
       "      <td>...</td>\n",
       "      <td>...</td>\n",
       "    </tr>\n",
       "    <tr>\n",
       "      <th>1945</th>\n",
       "      <td>2016</td>\n",
       "      <td>Sports</td>\n",
       "      <td>Worldwide</td>\n",
       "      <td>23.53</td>\n",
       "    </tr>\n",
       "    <tr>\n",
       "      <th>1946</th>\n",
       "      <td>2016</td>\n",
       "      <td>Strategy</td>\n",
       "      <td>Worldwide</td>\n",
       "      <td>1.15</td>\n",
       "    </tr>\n",
       "    <tr>\n",
       "      <th>1947</th>\n",
       "      <td>2017</td>\n",
       "      <td>Action</td>\n",
       "      <td>Worldwide</td>\n",
       "      <td>0.01</td>\n",
       "    </tr>\n",
       "    <tr>\n",
       "      <th>1948</th>\n",
       "      <td>2017</td>\n",
       "      <td>Role-Playing</td>\n",
       "      <td>Worldwide</td>\n",
       "      <td>0.05</td>\n",
       "    </tr>\n",
       "    <tr>\n",
       "      <th>1949</th>\n",
       "      <td>2020</td>\n",
       "      <td>Simulation</td>\n",
       "      <td>Worldwide</td>\n",
       "      <td>0.29</td>\n",
       "    </tr>\n",
       "  </tbody>\n",
       "</table>\n",
       "<p>1950 rows × 4 columns</p>\n",
       "</div>"
      ],
      "text/plain": [
       "      release_year         genre         region  sales\n",
       "0             1980        Action  North America   0.32\n",
       "1             1980      Fighting  North America   0.72\n",
       "2             1980          Misc  North America   2.53\n",
       "3             1980       Shooter  North America   6.56\n",
       "4             1980        Sports  North America   0.46\n",
       "...            ...           ...            ...    ...\n",
       "1945          2016        Sports      Worldwide  23.53\n",
       "1946          2016      Strategy      Worldwide   1.15\n",
       "1947          2017        Action      Worldwide   0.01\n",
       "1948          2017  Role-Playing      Worldwide   0.05\n",
       "1949          2020    Simulation      Worldwide   0.29\n",
       "\n",
       "[1950 rows x 4 columns]"
      ]
     },
     "metadata": {},
     "output_type": "display_data"
    }
   ],
   "source": [
    "# Loading Data\n",
    "df = pd.read_csv('year_genre_region.csv')\n",
    "print(df.index)\n",
    "print('------------------------')\n",
    "print('A preview of our dataset')\n",
    "print('------------------------')\n",
    "display(df)"
   ]
  },
  {
   "cell_type": "markdown",
   "id": "cd7b7b95",
   "metadata": {},
   "source": [
    "***sales are represented in millions**"
   ]
  },
  {
   "cell_type": "code",
   "execution_count": 3,
   "id": "d8be76c3",
   "metadata": {},
   "outputs": [
    {
     "name": "stdout",
     "output_type": "stream",
     "text": [
      "------------------\n",
      "Math & Statistics:\n",
      "------------------\n"
     ]
    },
    {
     "data": {
      "text/plain": [
       "count    1950.000000\n",
       "mean        9.042892\n",
       "std        16.171737\n",
       "min         0.000000\n",
       "25%         0.690000\n",
       "50%         2.920000\n",
       "75%         9.580000\n",
       "max       137.660000\n",
       "Name: sales, dtype: float64"
      ]
     },
     "execution_count": 3,
     "metadata": {},
     "output_type": "execute_result"
    }
   ],
   "source": [
    "#Checking Math & Statistics\n",
    "print('------------------')\n",
    "print(\"Math & Statistics:\")\n",
    "print('------------------')\n",
    "df['sales'].describe()"
   ]
  },
  {
   "cell_type": "markdown",
   "id": "8134e790",
   "metadata": {},
   "source": [
    "Upon first look at the data we can already see an issue with it. **That max value looks pretty high!**"
   ]
  },
  {
   "cell_type": "markdown",
   "id": "feb94d4b",
   "metadata": {},
   "source": [
    "---------------------------------------------------------------\n",
    "### Interquartile Range (IQR) and Extreme Outliers ###\n",
    "\n",
    "Now that we have the math and statistics for our dataset we can see that the min looks questionable and the max looks high. Let's take a look at both the min/max values and determine if either one of them are drastic enough to be considered **extreme outliers.**\n",
    "\n",
    "#### Calculating the Interquartile Range (IQR) ####\n",
    "**Q3 - Q1 = IQR**\n",
    "- 9.58 - 0.69 = 8.89\n",
    "\n",
    "#### Checking if min/max are 'extreme' outliers ####\n",
    "If either of these are True, then x is considered to be an extreme outlier.\n",
    "\n",
    "**x < Q1 - 3 * IQR**       \n",
    "**x > Q3 + 3 * IQR**\n",
    "\n",
    "*Checking the min*\n",
    "- 0.00 < 0.69 - 3 * 8.89\n",
    "- 0.00 < -25.98 = False\n",
    "\n",
    "*Checking the max*\n",
    "- 137.66 > 9.58 + 3 * 8.89\n",
    "- 137.66 > 36.25 = True\n",
    "\n",
    "**The max is indeed an extreme outlier.** You could probably tell just by seeing how far it is away from the mean and std. We'll look more into this a little later, just take note for now. More on the math here: https://people.richland.edu/james/lecture/m170/ch03-pos.html"
   ]
  },
  {
   "cell_type": "markdown",
   "id": "7f01ae84",
   "metadata": {},
   "source": [
    "### Non-Null Data Confirmation ###\n",
    "The information below should show that there are 1950 rows in the dataframe, all of which are non-null. Therefore *at this point* there are no missing values that are immediately recognizeable."
   ]
  },
  {
   "cell_type": "code",
   "execution_count": 4,
   "id": "0c77eaf5",
   "metadata": {},
   "outputs": [
    {
     "name": "stdout",
     "output_type": "stream",
     "text": [
      "<class 'pandas.core.frame.DataFrame'>\n",
      "RangeIndex: 1950 entries, 0 to 1949\n",
      "Data columns (total 4 columns):\n",
      " #   Column        Non-Null Count  Dtype  \n",
      "---  ------        --------------  -----  \n",
      " 0   release_year  1950 non-null   int64  \n",
      " 1   genre         1950 non-null   object \n",
      " 2   region        1950 non-null   object \n",
      " 3   sales         1950 non-null   float64\n",
      "dtypes: float64(1), int64(1), object(2)\n",
      "memory usage: 61.1+ KB\n"
     ]
    }
   ],
   "source": [
    "#Checking for Null Values\n",
    "df.info()"
   ]
  },
  {
   "cell_type": "code",
   "execution_count": 5,
   "id": "d51e6412",
   "metadata": {},
   "outputs": [
    {
     "name": "stdout",
     "output_type": "stream",
     "text": [
      "---------------------------------------------\n",
      "Amount of null values (NaN's) in each column:\n",
      "---------------------------------------------\n"
     ]
    },
    {
     "data": {
      "text/plain": [
       "release_year    0\n",
       "genre           0\n",
       "region          0\n",
       "sales           0\n",
       "dtype: int64"
      ]
     },
     "execution_count": 5,
     "metadata": {},
     "output_type": "execute_result"
    }
   ],
   "source": [
    "print('---------------------------------------------')\n",
    "print(\"Amount of null values (NaN's) in each column:\")\n",
    "print('---------------------------------------------')\n",
    "df.isnull().sum()"
   ]
  },
  {
   "cell_type": "markdown",
   "id": "fc039c4d",
   "metadata": {},
   "source": [
    "-------------------------------------------------------------------\n",
    "# Part 1: Cleaning the Data #\n",
    "Let's take a few basic looks at our data and begin to split, clean and filter out the parts we are not interested in."
   ]
  },
  {
   "cell_type": "code",
   "execution_count": 6,
   "id": "bcce25b3",
   "metadata": {},
   "outputs": [
    {
     "name": "stdout",
     "output_type": "stream",
     "text": [
      "---------------------------------------------------------------------------------------------------\n",
      "The regions included in the dataset and their value counts. Worldwide is not comparable the others.\n",
      "---------------------------------------------------------------------------------------------------\n",
      "North America     390\n",
      "European Union    390\n",
      "Japan             390\n",
      "Other             390\n",
      "Worldwide         390\n",
      "Name: region, dtype: int64\n"
     ]
    }
   ],
   "source": [
    "#Value Counting the Regions Column\n",
    "print('---------------------------------------------------------------------------------------------------')\n",
    "print('The regions included in the dataset and their value counts. Worldwide is not comparable the others.')\n",
    "print('---------------------------------------------------------------------------------------------------')\n",
    "print(df.region.value_counts())"
   ]
  },
  {
   "cell_type": "markdown",
   "id": "eaaf3511",
   "metadata": {},
   "source": [
    "### Splitting the Datasets ###\n",
    "In order to get a fair view of this dataset, we'll have to split it into 2 different dataframes. One including just the worldwide region, and the other including everything but the worldwide region (we'll call the latter **\"Relevant Regions\"**.)\n",
    "\n",
    "**Relevant Regions:** North America, European Union, Japan, Other.\n",
    "\n",
    "*Naturally it's unfair to equally compare something like Japan's sales to Worldwide sales.*"
   ]
  },
  {
   "cell_type": "code",
   "execution_count": 7,
   "id": "1067b3a8",
   "metadata": {},
   "outputs": [
    {
     "name": "stdout",
     "output_type": "stream",
     "text": [
      "----------------------------------------\n",
      "The Relevant Regions Dataframe (Preview)\n",
      "----------------------------------------\n"
     ]
    },
    {
     "data": {
      "text/html": [
       "<div>\n",
       "<style scoped>\n",
       "    .dataframe tbody tr th:only-of-type {\n",
       "        vertical-align: middle;\n",
       "    }\n",
       "\n",
       "    .dataframe tbody tr th {\n",
       "        vertical-align: top;\n",
       "    }\n",
       "\n",
       "    .dataframe thead th {\n",
       "        text-align: right;\n",
       "    }\n",
       "</style>\n",
       "<table border=\"1\" class=\"dataframe\">\n",
       "  <thead>\n",
       "    <tr style=\"text-align: right;\">\n",
       "      <th></th>\n",
       "      <th>release_year</th>\n",
       "      <th>genre</th>\n",
       "      <th>region</th>\n",
       "      <th>sales</th>\n",
       "    </tr>\n",
       "  </thead>\n",
       "  <tbody>\n",
       "    <tr>\n",
       "      <th>0</th>\n",
       "      <td>1980</td>\n",
       "      <td>Action</td>\n",
       "      <td>North America</td>\n",
       "      <td>0.32</td>\n",
       "    </tr>\n",
       "    <tr>\n",
       "      <th>1</th>\n",
       "      <td>1980</td>\n",
       "      <td>Fighting</td>\n",
       "      <td>North America</td>\n",
       "      <td>0.72</td>\n",
       "    </tr>\n",
       "    <tr>\n",
       "      <th>2</th>\n",
       "      <td>1980</td>\n",
       "      <td>Misc</td>\n",
       "      <td>North America</td>\n",
       "      <td>2.53</td>\n",
       "    </tr>\n",
       "    <tr>\n",
       "      <th>3</th>\n",
       "      <td>1980</td>\n",
       "      <td>Shooter</td>\n",
       "      <td>North America</td>\n",
       "      <td>6.56</td>\n",
       "    </tr>\n",
       "    <tr>\n",
       "      <th>4</th>\n",
       "      <td>1980</td>\n",
       "      <td>Sports</td>\n",
       "      <td>North America</td>\n",
       "      <td>0.46</td>\n",
       "    </tr>\n",
       "    <tr>\n",
       "      <th>...</th>\n",
       "      <td>...</td>\n",
       "      <td>...</td>\n",
       "      <td>...</td>\n",
       "      <td>...</td>\n",
       "    </tr>\n",
       "    <tr>\n",
       "      <th>1555</th>\n",
       "      <td>2016</td>\n",
       "      <td>Sports</td>\n",
       "      <td>Other</td>\n",
       "      <td>3.02</td>\n",
       "    </tr>\n",
       "    <tr>\n",
       "      <th>1556</th>\n",
       "      <td>2016</td>\n",
       "      <td>Strategy</td>\n",
       "      <td>Other</td>\n",
       "      <td>0.07</td>\n",
       "    </tr>\n",
       "    <tr>\n",
       "      <th>1557</th>\n",
       "      <td>2017</td>\n",
       "      <td>Action</td>\n",
       "      <td>Other</td>\n",
       "      <td>0.00</td>\n",
       "    </tr>\n",
       "    <tr>\n",
       "      <th>1558</th>\n",
       "      <td>2017</td>\n",
       "      <td>Role-Playing</td>\n",
       "      <td>Other</td>\n",
       "      <td>0.00</td>\n",
       "    </tr>\n",
       "    <tr>\n",
       "      <th>1559</th>\n",
       "      <td>2020</td>\n",
       "      <td>Simulation</td>\n",
       "      <td>Other</td>\n",
       "      <td>0.02</td>\n",
       "    </tr>\n",
       "  </tbody>\n",
       "</table>\n",
       "<p>1560 rows × 4 columns</p>\n",
       "</div>"
      ],
      "text/plain": [
       "      release_year         genre         region  sales\n",
       "0             1980        Action  North America   0.32\n",
       "1             1980      Fighting  North America   0.72\n",
       "2             1980          Misc  North America   2.53\n",
       "3             1980       Shooter  North America   6.56\n",
       "4             1980        Sports  North America   0.46\n",
       "...            ...           ...            ...    ...\n",
       "1555          2016        Sports          Other   3.02\n",
       "1556          2016      Strategy          Other   0.07\n",
       "1557          2017        Action          Other   0.00\n",
       "1558          2017  Role-Playing          Other   0.00\n",
       "1559          2020    Simulation          Other   0.02\n",
       "\n",
       "[1560 rows x 4 columns]"
      ]
     },
     "metadata": {},
     "output_type": "display_data"
    },
    {
     "name": "stdout",
     "output_type": "stream",
     "text": [
      "--------------------------------------\n",
      "The Worldwide only Dataframe (Preview)\n",
      "--------------------------------------\n"
     ]
    },
    {
     "data": {
      "text/html": [
       "<div>\n",
       "<style scoped>\n",
       "    .dataframe tbody tr th:only-of-type {\n",
       "        vertical-align: middle;\n",
       "    }\n",
       "\n",
       "    .dataframe tbody tr th {\n",
       "        vertical-align: top;\n",
       "    }\n",
       "\n",
       "    .dataframe thead th {\n",
       "        text-align: right;\n",
       "    }\n",
       "</style>\n",
       "<table border=\"1\" class=\"dataframe\">\n",
       "  <thead>\n",
       "    <tr style=\"text-align: right;\">\n",
       "      <th></th>\n",
       "      <th>release_year</th>\n",
       "      <th>genre</th>\n",
       "      <th>region</th>\n",
       "      <th>sales</th>\n",
       "    </tr>\n",
       "  </thead>\n",
       "  <tbody>\n",
       "    <tr>\n",
       "      <th>1560</th>\n",
       "      <td>1980</td>\n",
       "      <td>Action</td>\n",
       "      <td>Worldwide</td>\n",
       "      <td>0.34</td>\n",
       "    </tr>\n",
       "    <tr>\n",
       "      <th>1561</th>\n",
       "      <td>1980</td>\n",
       "      <td>Fighting</td>\n",
       "      <td>Worldwide</td>\n",
       "      <td>0.77</td>\n",
       "    </tr>\n",
       "    <tr>\n",
       "      <th>1562</th>\n",
       "      <td>1980</td>\n",
       "      <td>Misc</td>\n",
       "      <td>Worldwide</td>\n",
       "      <td>2.71</td>\n",
       "    </tr>\n",
       "    <tr>\n",
       "      <th>1563</th>\n",
       "      <td>1980</td>\n",
       "      <td>Shooter</td>\n",
       "      <td>Worldwide</td>\n",
       "      <td>7.07</td>\n",
       "    </tr>\n",
       "    <tr>\n",
       "      <th>1564</th>\n",
       "      <td>1980</td>\n",
       "      <td>Sports</td>\n",
       "      <td>Worldwide</td>\n",
       "      <td>0.49</td>\n",
       "    </tr>\n",
       "    <tr>\n",
       "      <th>...</th>\n",
       "      <td>...</td>\n",
       "      <td>...</td>\n",
       "      <td>...</td>\n",
       "      <td>...</td>\n",
       "    </tr>\n",
       "    <tr>\n",
       "      <th>1945</th>\n",
       "      <td>2016</td>\n",
       "      <td>Sports</td>\n",
       "      <td>Worldwide</td>\n",
       "      <td>23.53</td>\n",
       "    </tr>\n",
       "    <tr>\n",
       "      <th>1946</th>\n",
       "      <td>2016</td>\n",
       "      <td>Strategy</td>\n",
       "      <td>Worldwide</td>\n",
       "      <td>1.15</td>\n",
       "    </tr>\n",
       "    <tr>\n",
       "      <th>1947</th>\n",
       "      <td>2017</td>\n",
       "      <td>Action</td>\n",
       "      <td>Worldwide</td>\n",
       "      <td>0.01</td>\n",
       "    </tr>\n",
       "    <tr>\n",
       "      <th>1948</th>\n",
       "      <td>2017</td>\n",
       "      <td>Role-Playing</td>\n",
       "      <td>Worldwide</td>\n",
       "      <td>0.05</td>\n",
       "    </tr>\n",
       "    <tr>\n",
       "      <th>1949</th>\n",
       "      <td>2020</td>\n",
       "      <td>Simulation</td>\n",
       "      <td>Worldwide</td>\n",
       "      <td>0.29</td>\n",
       "    </tr>\n",
       "  </tbody>\n",
       "</table>\n",
       "<p>390 rows × 4 columns</p>\n",
       "</div>"
      ],
      "text/plain": [
       "      release_year         genre     region  sales\n",
       "1560          1980        Action  Worldwide   0.34\n",
       "1561          1980      Fighting  Worldwide   0.77\n",
       "1562          1980          Misc  Worldwide   2.71\n",
       "1563          1980       Shooter  Worldwide   7.07\n",
       "1564          1980        Sports  Worldwide   0.49\n",
       "...            ...           ...        ...    ...\n",
       "1945          2016        Sports  Worldwide  23.53\n",
       "1946          2016      Strategy  Worldwide   1.15\n",
       "1947          2017        Action  Worldwide   0.01\n",
       "1948          2017  Role-Playing  Worldwide   0.05\n",
       "1949          2020    Simulation  Worldwide   0.29\n",
       "\n",
       "[390 rows x 4 columns]"
      ]
     },
     "metadata": {},
     "output_type": "display_data"
    }
   ],
   "source": [
    "#Dropping Worldwide from the Dataframe (creating a Relevant Regions Dataframe)\n",
    "df_No_WW = df.copy()\n",
    "filt = df_No_WW['region'] != 'Worldwide'\n",
    "df_No_WW = df_No_WW.loc[filt]\n",
    "print('----------------------------------------')\n",
    "print('The Relevant Regions Dataframe (Preview)')\n",
    "print('----------------------------------------')\n",
    "display(df_No_WW)\n",
    "\n",
    "\n",
    "#Dropping everything but Worldwide from the Dataframe (creating a Worldwide Dataframe)\n",
    "df_WW = df.copy()\n",
    "filt = ((df_WW['region'] != 'North America') & (df_WW['region'] != 'Japan') & (df_WW['region'] != 'Other') & \n",
    "        (df_WW['region'] != 'European Union'))\n",
    "df_WW = df_WW.loc[filt]\n",
    "print('--------------------------------------')\n",
    "print('The Worldwide only Dataframe (Preview)')\n",
    "print('--------------------------------------')\n",
    "display(df_WW)"
   ]
  },
  {
   "cell_type": "markdown",
   "id": "e00928bd",
   "metadata": {},
   "source": [
    "-----------------------------------------------------------\n",
    "### Looking at the largest 6 sales values for each dataframe ###\n",
    "\n",
    "Below we can see the **Top 6** sales observations for each dataframe. This is not representative of the associated genres as a whole, just the **highest instances of sales**. Taking a look at this can help us decide whether or not we want to remove outliers."
   ]
  },
  {
   "cell_type": "code",
   "execution_count": 8,
   "id": "fbdeae9f",
   "metadata": {},
   "outputs": [
    {
     "name": "stdout",
     "output_type": "stream",
     "text": [
      "--------------------------\n",
      "Worldwide Top 6\n",
      "--------------------------\n"
     ]
    },
    {
     "data": {
      "text/html": [
       "<div>\n",
       "<style scoped>\n",
       "    .dataframe tbody tr th:only-of-type {\n",
       "        vertical-align: middle;\n",
       "    }\n",
       "\n",
       "    .dataframe tbody tr th {\n",
       "        vertical-align: top;\n",
       "    }\n",
       "\n",
       "    .dataframe thead th {\n",
       "        text-align: right;\n",
       "    }\n",
       "</style>\n",
       "<table border=\"1\" class=\"dataframe\">\n",
       "  <thead>\n",
       "    <tr style=\"text-align: right;\">\n",
       "      <th></th>\n",
       "      <th>release_year</th>\n",
       "      <th>genre</th>\n",
       "      <th>region</th>\n",
       "      <th>sales</th>\n",
       "    </tr>\n",
       "  </thead>\n",
       "  <tbody>\n",
       "    <tr>\n",
       "      <th>1851</th>\n",
       "      <td>2009</td>\n",
       "      <td>Action</td>\n",
       "      <td>Worldwide</td>\n",
       "      <td>137.66</td>\n",
       "    </tr>\n",
       "    <tr>\n",
       "      <th>1861</th>\n",
       "      <td>2009</td>\n",
       "      <td>Sports</td>\n",
       "      <td>Worldwide</td>\n",
       "      <td>137.33</td>\n",
       "    </tr>\n",
       "    <tr>\n",
       "      <th>1825</th>\n",
       "      <td>2006</td>\n",
       "      <td>Sports</td>\n",
       "      <td>Worldwide</td>\n",
       "      <td>135.83</td>\n",
       "    </tr>\n",
       "    <tr>\n",
       "      <th>1839</th>\n",
       "      <td>2008</td>\n",
       "      <td>Action</td>\n",
       "      <td>Worldwide</td>\n",
       "      <td>135.01</td>\n",
       "    </tr>\n",
       "    <tr>\n",
       "      <th>1899</th>\n",
       "      <td>2013</td>\n",
       "      <td>Action</td>\n",
       "      <td>Worldwide</td>\n",
       "      <td>122.57</td>\n",
       "    </tr>\n",
       "    <tr>\n",
       "      <th>1887</th>\n",
       "      <td>2012</td>\n",
       "      <td>Action</td>\n",
       "      <td>Worldwide</td>\n",
       "      <td>119.10</td>\n",
       "    </tr>\n",
       "  </tbody>\n",
       "</table>\n",
       "</div>"
      ],
      "text/plain": [
       "      release_year   genre     region   sales\n",
       "1851          2009  Action  Worldwide  137.66\n",
       "1861          2009  Sports  Worldwide  137.33\n",
       "1825          2006  Sports  Worldwide  135.83\n",
       "1839          2008  Action  Worldwide  135.01\n",
       "1899          2013  Action  Worldwide  122.57\n",
       "1887          2012  Action  Worldwide  119.10"
      ]
     },
     "execution_count": 8,
     "metadata": {},
     "output_type": "execute_result"
    }
   ],
   "source": [
    "print('--------------------------')\n",
    "print('Worldwide Top 6')\n",
    "print('--------------------------')\n",
    "df_WW.nlargest(6, ['sales'])"
   ]
  },
  {
   "cell_type": "code",
   "execution_count": 9,
   "id": "aa37b4f2",
   "metadata": {},
   "outputs": [
    {
     "name": "stdout",
     "output_type": "stream",
     "text": [
      "--------------------------\n",
      "Relevant Regions Top 6\n",
      "--------------------------\n"
     ]
    },
    {
     "data": {
      "text/html": [
       "<div>\n",
       "<style scoped>\n",
       "    .dataframe tbody tr th:only-of-type {\n",
       "        vertical-align: middle;\n",
       "    }\n",
       "\n",
       "    .dataframe tbody tr th {\n",
       "        vertical-align: top;\n",
       "    }\n",
       "\n",
       "    .dataframe thead th {\n",
       "        text-align: right;\n",
       "    }\n",
       "</style>\n",
       "<table border=\"1\" class=\"dataframe\">\n",
       "  <thead>\n",
       "    <tr style=\"text-align: right;\">\n",
       "      <th></th>\n",
       "      <th>release_year</th>\n",
       "      <th>genre</th>\n",
       "      <th>region</th>\n",
       "      <th>sales</th>\n",
       "    </tr>\n",
       "  </thead>\n",
       "  <tbody>\n",
       "    <tr>\n",
       "      <th>265</th>\n",
       "      <td>2006</td>\n",
       "      <td>Sports</td>\n",
       "      <td>North America</td>\n",
       "      <td>72.78</td>\n",
       "    </tr>\n",
       "    <tr>\n",
       "      <th>279</th>\n",
       "      <td>2008</td>\n",
       "      <td>Action</td>\n",
       "      <td>North America</td>\n",
       "      <td>72.02</td>\n",
       "    </tr>\n",
       "    <tr>\n",
       "      <th>291</th>\n",
       "      <td>2009</td>\n",
       "      <td>Action</td>\n",
       "      <td>North America</td>\n",
       "      <td>71.08</td>\n",
       "    </tr>\n",
       "    <tr>\n",
       "      <th>301</th>\n",
       "      <td>2009</td>\n",
       "      <td>Sports</td>\n",
       "      <td>North America</td>\n",
       "      <td>70.85</td>\n",
       "    </tr>\n",
       "    <tr>\n",
       "      <th>303</th>\n",
       "      <td>2010</td>\n",
       "      <td>Action</td>\n",
       "      <td>North America</td>\n",
       "      <td>59.72</td>\n",
       "    </tr>\n",
       "    <tr>\n",
       "      <th>267</th>\n",
       "      <td>2007</td>\n",
       "      <td>Action</td>\n",
       "      <td>North America</td>\n",
       "      <td>58.43</td>\n",
       "    </tr>\n",
       "  </tbody>\n",
       "</table>\n",
       "</div>"
      ],
      "text/plain": [
       "     release_year   genre         region  sales\n",
       "265          2006  Sports  North America  72.78\n",
       "279          2008  Action  North America  72.02\n",
       "291          2009  Action  North America  71.08\n",
       "301          2009  Sports  North America  70.85\n",
       "303          2010  Action  North America  59.72\n",
       "267          2007  Action  North America  58.43"
      ]
     },
     "execution_count": 9,
     "metadata": {},
     "output_type": "execute_result"
    }
   ],
   "source": [
    "print('--------------------------')\n",
    "print('Relevant Regions Top 6')\n",
    "print('--------------------------')\n",
    "df_No_WW.nlargest(6, ['sales'])"
   ]
  },
  {
   "cell_type": "markdown",
   "id": "b970e654",
   "metadata": {},
   "source": [
    "----------------------------------------\n",
    "In both **Top 6** results above, the top 4 or 5 seem to be very close to each other (and close to the max). This tells us two things:\n",
    "1. Removing the worldwide region won't mitigate this fact (adds credibility to the potential outliers).\n",
    "2. It's not one single point miles above the rest. \n",
    "\n",
    "Remember earlier we found the max for the entire dataframe was **137.66**. Below are the math and statistics for the Relevant Regions dataframe, showing their respective max of **72.78**.\n",
    "\n",
    "----------------------------------------"
   ]
  },
  {
   "cell_type": "code",
   "execution_count": 10,
   "id": "ed6ac996",
   "metadata": {},
   "outputs": [
    {
     "name": "stdout",
     "output_type": "stream",
     "text": [
      "---------------------------------------\n",
      "Math & Statistics for Relevant Regions:\n",
      "---------------------------------------\n"
     ]
    },
    {
     "data": {
      "text/plain": [
       "count    1560.000000\n",
       "mean        5.650462\n",
       "std         9.249308\n",
       "min         0.000000\n",
       "25%         0.460000\n",
       "50%         2.130000\n",
       "75%         6.312500\n",
       "max        72.780000\n",
       "Name: sales, dtype: float64"
      ]
     },
     "execution_count": 10,
     "metadata": {},
     "output_type": "execute_result"
    }
   ],
   "source": [
    "print('---------------------------------------')\n",
    "print(\"Math & Statistics for Relevant Regions:\")\n",
    "print('---------------------------------------')\n",
    "df_No_WW['sales'].describe()"
   ]
  },
  {
   "cell_type": "markdown",
   "id": "e990aa3b",
   "metadata": {},
   "source": [
    "------------------------------------------------------------------\n",
    "### Looking at the smallest 6 sales values for each dataframe ###\n",
    "Below we can see the **Bottom 6** sales observations for each dataframe. **This is important** when deciding whether or not to consider 0.0 sales observations as bad data or not."
   ]
  },
  {
   "cell_type": "code",
   "execution_count": 11,
   "id": "1666365e",
   "metadata": {},
   "outputs": [
    {
     "name": "stdout",
     "output_type": "stream",
     "text": [
      "--------------------------\n",
      "Worldwide Bottom 6\n",
      "--------------------------\n"
     ]
    },
    {
     "data": {
      "text/html": [
       "<div>\n",
       "<style scoped>\n",
       "    .dataframe tbody tr th:only-of-type {\n",
       "        vertical-align: middle;\n",
       "    }\n",
       "\n",
       "    .dataframe tbody tr th {\n",
       "        vertical-align: top;\n",
       "    }\n",
       "\n",
       "    .dataframe thead th {\n",
       "        text-align: right;\n",
       "    }\n",
       "</style>\n",
       "<table border=\"1\" class=\"dataframe\">\n",
       "  <thead>\n",
       "    <tr style=\"text-align: right;\">\n",
       "      <th></th>\n",
       "      <th>release_year</th>\n",
       "      <th>genre</th>\n",
       "      <th>region</th>\n",
       "      <th>sales</th>\n",
       "    </tr>\n",
       "  </thead>\n",
       "  <tbody>\n",
       "    <tr>\n",
       "      <th>1940</th>\n",
       "      <td>2016</td>\n",
       "      <td>Puzzle</td>\n",
       "      <td>Worldwide</td>\n",
       "      <td>0.01</td>\n",
       "    </tr>\n",
       "    <tr>\n",
       "      <th>1947</th>\n",
       "      <td>2017</td>\n",
       "      <td>Action</td>\n",
       "      <td>Worldwide</td>\n",
       "      <td>0.01</td>\n",
       "    </tr>\n",
       "    <tr>\n",
       "      <th>1598</th>\n",
       "      <td>1985</td>\n",
       "      <td>Simulation</td>\n",
       "      <td>Worldwide</td>\n",
       "      <td>0.03</td>\n",
       "    </tr>\n",
       "    <tr>\n",
       "      <th>1619</th>\n",
       "      <td>1988</td>\n",
       "      <td>Simulation</td>\n",
       "      <td>Worldwide</td>\n",
       "      <td>0.03</td>\n",
       "    </tr>\n",
       "    <tr>\n",
       "      <th>1948</th>\n",
       "      <td>2017</td>\n",
       "      <td>Role-Playing</td>\n",
       "      <td>Worldwide</td>\n",
       "      <td>0.05</td>\n",
       "    </tr>\n",
       "    <tr>\n",
       "      <th>1660</th>\n",
       "      <td>1993</td>\n",
       "      <td>Adventure</td>\n",
       "      <td>Worldwide</td>\n",
       "      <td>0.07</td>\n",
       "    </tr>\n",
       "  </tbody>\n",
       "</table>\n",
       "</div>"
      ],
      "text/plain": [
       "      release_year         genre     region  sales\n",
       "1940          2016        Puzzle  Worldwide   0.01\n",
       "1947          2017        Action  Worldwide   0.01\n",
       "1598          1985    Simulation  Worldwide   0.03\n",
       "1619          1988    Simulation  Worldwide   0.03\n",
       "1948          2017  Role-Playing  Worldwide   0.05\n",
       "1660          1993     Adventure  Worldwide   0.07"
      ]
     },
     "execution_count": 11,
     "metadata": {},
     "output_type": "execute_result"
    }
   ],
   "source": [
    "print('--------------------------')\n",
    "print('Worldwide Bottom 6')\n",
    "print('--------------------------')\n",
    "df_WW.nsmallest(6, ['sales'])"
   ]
  },
  {
   "cell_type": "code",
   "execution_count": 12,
   "id": "e2eb931e",
   "metadata": {},
   "outputs": [
    {
     "name": "stdout",
     "output_type": "stream",
     "text": [
      "--------------------------\n",
      "Relevant Regions Bottom 6\n",
      "--------------------------\n"
     ]
    },
    {
     "data": {
      "text/html": [
       "<div>\n",
       "<style scoped>\n",
       "    .dataframe tbody tr th:only-of-type {\n",
       "        vertical-align: middle;\n",
       "    }\n",
       "\n",
       "    .dataframe tbody tr th {\n",
       "        vertical-align: top;\n",
       "    }\n",
       "\n",
       "    .dataframe thead th {\n",
       "        text-align: right;\n",
       "    }\n",
       "</style>\n",
       "<table border=\"1\" class=\"dataframe\">\n",
       "  <thead>\n",
       "    <tr style=\"text-align: right;\">\n",
       "      <th></th>\n",
       "      <th>release_year</th>\n",
       "      <th>genre</th>\n",
       "      <th>region</th>\n",
       "      <th>sales</th>\n",
       "    </tr>\n",
       "  </thead>\n",
       "  <tbody>\n",
       "    <tr>\n",
       "      <th>27</th>\n",
       "      <td>1984</td>\n",
       "      <td>Misc</td>\n",
       "      <td>North America</td>\n",
       "      <td>0.0</td>\n",
       "    </tr>\n",
       "    <tr>\n",
       "      <th>28</th>\n",
       "      <td>1984</td>\n",
       "      <td>Platform</td>\n",
       "      <td>North America</td>\n",
       "      <td>0.0</td>\n",
       "    </tr>\n",
       "    <tr>\n",
       "      <th>34</th>\n",
       "      <td>1985</td>\n",
       "      <td>Fighting</td>\n",
       "      <td>North America</td>\n",
       "      <td>0.0</td>\n",
       "    </tr>\n",
       "    <tr>\n",
       "      <th>38</th>\n",
       "      <td>1985</td>\n",
       "      <td>Simulation</td>\n",
       "      <td>North America</td>\n",
       "      <td>0.0</td>\n",
       "    </tr>\n",
       "    <tr>\n",
       "      <th>59</th>\n",
       "      <td>1988</td>\n",
       "      <td>Simulation</td>\n",
       "      <td>North America</td>\n",
       "      <td>0.0</td>\n",
       "    </tr>\n",
       "    <tr>\n",
       "      <th>62</th>\n",
       "      <td>1989</td>\n",
       "      <td>Misc</td>\n",
       "      <td>North America</td>\n",
       "      <td>0.0</td>\n",
       "    </tr>\n",
       "  </tbody>\n",
       "</table>\n",
       "</div>"
      ],
      "text/plain": [
       "    release_year       genre         region  sales\n",
       "27          1984        Misc  North America    0.0\n",
       "28          1984    Platform  North America    0.0\n",
       "34          1985    Fighting  North America    0.0\n",
       "38          1985  Simulation  North America    0.0\n",
       "59          1988  Simulation  North America    0.0\n",
       "62          1989        Misc  North America    0.0"
      ]
     },
     "execution_count": 12,
     "metadata": {},
     "output_type": "execute_result"
    }
   ],
   "source": [
    "print('--------------------------')\n",
    "print('Relevant Regions Bottom 6')\n",
    "print('--------------------------')\n",
    "df_No_WW.nsmallest(6, ['sales'])"
   ]
  },
  {
   "cell_type": "markdown",
   "id": "48d0487b",
   "metadata": {},
   "source": [
    "In both **Bottom 6** results above, we see some pretty low sales values (especially for the Relevant Regions dataframe.)"
   ]
  },
  {
   "cell_type": "code",
   "execution_count": 13,
   "id": "747d6292",
   "metadata": {},
   "outputs": [
    {
     "name": "stdout",
     "output_type": "stream",
     "text": [
      "Count of observations with 0.0 sales in the Worldwide dataframe:  0\n",
      "Count of observations with 0.0 sales in the Relevant Regions dataframe:  108\n"
     ]
    }
   ],
   "source": [
    "#While we're at it, let's count how many 0.0 results are in our dataframes as well.\n",
    "count = (df_No_WW['sales'] == 0.0).sum()\n",
    "print('Count of observations with 0.0 sales in the Worldwide dataframe: ', 0) #see above bottom 6\n",
    "print('Count of observations with 0.0 sales in the Relevant Regions dataframe: ', count)"
   ]
  },
  {
   "cell_type": "markdown",
   "id": "12a070b7",
   "metadata": {},
   "source": [
    "### Are these 0.0 values above accurate? ###\n",
    "\n",
    "We are often given incorrect or missing data. Sometimes this is hard to tell, so lets use the year 2017 and some outside sources as an example. "
   ]
  },
  {
   "cell_type": "code",
   "execution_count": 14,
   "id": "979cbc45",
   "metadata": {},
   "outputs": [
    {
     "name": "stdout",
     "output_type": "stream",
     "text": [
      "-------------------------------------\n",
      "All records for the release_year 2017\n",
      "-------------------------------------\n",
      "      release_year         genre          region  sales\n",
      "387           2017        Action   North America   0.00\n",
      "388           2017  Role-Playing   North America   0.00\n",
      "777           2017        Action  European Union   0.00\n",
      "778           2017  Role-Playing  European Union   0.00\n",
      "1167          2017        Action           Japan   0.01\n",
      "1168          2017  Role-Playing           Japan   0.05\n",
      "1557          2017        Action           Other   0.00\n",
      "1558          2017  Role-Playing           Other   0.00\n",
      "1947          2017        Action       Worldwide   0.01\n",
      "1948          2017  Role-Playing       Worldwide   0.05\n"
     ]
    }
   ],
   "source": [
    "#Using 2017 as an example\n",
    "filt2017 = df['release_year'] == 2017\n",
    "print('-------------------------------------')\n",
    "print('All records for the release_year 2017')\n",
    "print('-------------------------------------')\n",
    "\n",
    "print(df.loc[filt2017])"
   ]
  },
  {
   "cell_type": "markdown",
   "id": "d03cc7dc",
   "metadata": {},
   "source": [
    "---------------------------------------\n",
    "The above sales results are suspiciously low.\n",
    "-----------------------------------------\n",
    "\n",
    "To quote an outside source:\n",
    "\n",
    "**\"2017 has been widely hailed as the best year ever for video games. And perhaps rightfully so.**\n",
    "\n",
    "*Within those twelve months we saw the release of Legend of Zelda: Breath of the Wild, Resident Evil 7, Nioh, Persona 5, Horizon: Zero Dawn, Neir: Automata, Super Mario Odyssey, Destiny 2, PlayerUnknown’s Battlegrounds, Cuphead, Splatoon 2, Sonic Mania, Divinity: Original Sin 2, Metroid: Samus Returns, Hellblade: Senua’s Sacrifice, Injustice 2…\"*\n",
    "\n",
    "https://levelupentertainment.com/blog/2018/1/22/2017-vs-1998-battle-for-the-best-year-ever\n",
    "\n",
    "For reference, just one of the many games above **\"Legend of Zelda: Breath of the Wild\"** sold almost 5 million units in 2017.\n",
    "Nintendo identifies this game as an Action-Adventure game. The **Action** genre should have more than **0.0 sales.**\n",
    "\n",
    "https://www.ign.com/articles/2017/10/30/zelda-breath-of-the-wild-sales-pass-47-million-on-switch\n",
    "\n",
    "Furthermore, **where are the rest of the genres for the year 2017?** We only see Action & Role-Playing.\n",
    "In the next section below we'll see a list of all the genres included in this dataset that should be present in the year 2017.\n"
   ]
  },
  {
   "cell_type": "markdown",
   "id": "95521b11",
   "metadata": {},
   "source": [
    "--------------------------------------------\n",
    "### The \"Big 12\" Genres ###\n",
    "\n",
    "#### Below we will see how many observations we have per 'genre'. ####"
   ]
  },
  {
   "cell_type": "code",
   "execution_count": 15,
   "id": "5cc26038",
   "metadata": {},
   "outputs": [
    {
     "name": "stdout",
     "output_type": "stream",
     "text": [
      "There are 12 genres included in the data set.\n",
      "---------------------------------------------\n",
      "Action          190\n",
      "Sports          185\n",
      "Shooter         180\n",
      "Platform        180\n",
      "Puzzle          170\n",
      "Racing          160\n",
      "Role-Playing    160\n",
      "Misc            155\n",
      "Simulation      155\n",
      "Fighting        145\n",
      "Adventure       140\n",
      "Strategy        130\n",
      "Name: genre, dtype: int64\n",
      "-----------------------------------------------------------\n",
      "Note the low number of observations for the Strategy genre.\n"
     ]
    }
   ],
   "source": [
    "print('There are 12 genres included in the data set.')\n",
    "print('---------------------------------------------')\n",
    "print(df.genre.value_counts())\n",
    "print('-----------------------------------------------------------')\n",
    "print('Note the low number of observations for the Strategy genre.')"
   ]
  },
  {
   "cell_type": "markdown",
   "id": "85a57bfe",
   "metadata": {},
   "source": [
    "The suspiciously low sales numbers and lack of genres being observed in 2017 is an obvious sign of **both bad and missing data**. We should also check the amount of observations for each other year in the data set, as 2017 might not be the only year with low observations.\n",
    "\n",
    "#### Below we will see how many observations we have per 'release_year'. ####"
   ]
  },
  {
   "cell_type": "code",
   "execution_count": 16,
   "id": "431db5b0",
   "metadata": {},
   "outputs": [
    {
     "name": "stdout",
     "output_type": "stream",
     "text": [
      "-------------------------------\n",
      "Number of Observations per Year\n",
      "-------------------------------\n"
     ]
    },
    {
     "data": {
      "text/html": [
       "<div>\n",
       "<style scoped>\n",
       "    .dataframe tbody tr th:only-of-type {\n",
       "        vertical-align: middle;\n",
       "    }\n",
       "\n",
       "    .dataframe tbody tr th {\n",
       "        vertical-align: top;\n",
       "    }\n",
       "\n",
       "    .dataframe thead th {\n",
       "        text-align: right;\n",
       "    }\n",
       "</style>\n",
       "<table border=\"1\" class=\"dataframe\">\n",
       "  <thead>\n",
       "    <tr style=\"text-align: right;\">\n",
       "      <th></th>\n",
       "      <th>release_year</th>\n",
       "      <th>observations</th>\n",
       "    </tr>\n",
       "  </thead>\n",
       "  <tbody>\n",
       "    <tr>\n",
       "      <th>0</th>\n",
       "      <td>1980</td>\n",
       "      <td>25</td>\n",
       "    </tr>\n",
       "    <tr>\n",
       "      <th>1</th>\n",
       "      <td>1981</td>\n",
       "      <td>35</td>\n",
       "    </tr>\n",
       "    <tr>\n",
       "      <th>2</th>\n",
       "      <td>1982</td>\n",
       "      <td>35</td>\n",
       "    </tr>\n",
       "    <tr>\n",
       "      <th>3</th>\n",
       "      <td>1983</td>\n",
       "      <td>35</td>\n",
       "    </tr>\n",
       "    <tr>\n",
       "      <th>4</th>\n",
       "      <td>1984</td>\n",
       "      <td>35</td>\n",
       "    </tr>\n",
       "    <tr>\n",
       "      <th>5</th>\n",
       "      <td>1985</td>\n",
       "      <td>35</td>\n",
       "    </tr>\n",
       "    <tr>\n",
       "      <th>6</th>\n",
       "      <td>1986</td>\n",
       "      <td>30</td>\n",
       "    </tr>\n",
       "    <tr>\n",
       "      <th>7</th>\n",
       "      <td>1987</td>\n",
       "      <td>35</td>\n",
       "    </tr>\n",
       "    <tr>\n",
       "      <th>8</th>\n",
       "      <td>1988</td>\n",
       "      <td>40</td>\n",
       "    </tr>\n",
       "    <tr>\n",
       "      <th>9</th>\n",
       "      <td>1989</td>\n",
       "      <td>35</td>\n",
       "    </tr>\n",
       "    <tr>\n",
       "      <th>10</th>\n",
       "      <td>1990</td>\n",
       "      <td>35</td>\n",
       "    </tr>\n",
       "    <tr>\n",
       "      <th>11</th>\n",
       "      <td>1991</td>\n",
       "      <td>60</td>\n",
       "    </tr>\n",
       "    <tr>\n",
       "      <th>12</th>\n",
       "      <td>1992</td>\n",
       "      <td>60</td>\n",
       "    </tr>\n",
       "    <tr>\n",
       "      <th>13</th>\n",
       "      <td>1993</td>\n",
       "      <td>60</td>\n",
       "    </tr>\n",
       "    <tr>\n",
       "      <th>14</th>\n",
       "      <td>1994</td>\n",
       "      <td>60</td>\n",
       "    </tr>\n",
       "    <tr>\n",
       "      <th>15</th>\n",
       "      <td>1995</td>\n",
       "      <td>60</td>\n",
       "    </tr>\n",
       "    <tr>\n",
       "      <th>16</th>\n",
       "      <td>1996</td>\n",
       "      <td>60</td>\n",
       "    </tr>\n",
       "    <tr>\n",
       "      <th>17</th>\n",
       "      <td>1997</td>\n",
       "      <td>60</td>\n",
       "    </tr>\n",
       "    <tr>\n",
       "      <th>18</th>\n",
       "      <td>1998</td>\n",
       "      <td>60</td>\n",
       "    </tr>\n",
       "    <tr>\n",
       "      <th>19</th>\n",
       "      <td>1999</td>\n",
       "      <td>60</td>\n",
       "    </tr>\n",
       "    <tr>\n",
       "      <th>20</th>\n",
       "      <td>2000</td>\n",
       "      <td>60</td>\n",
       "    </tr>\n",
       "    <tr>\n",
       "      <th>21</th>\n",
       "      <td>2001</td>\n",
       "      <td>60</td>\n",
       "    </tr>\n",
       "    <tr>\n",
       "      <th>22</th>\n",
       "      <td>2002</td>\n",
       "      <td>60</td>\n",
       "    </tr>\n",
       "    <tr>\n",
       "      <th>23</th>\n",
       "      <td>2003</td>\n",
       "      <td>60</td>\n",
       "    </tr>\n",
       "    <tr>\n",
       "      <th>24</th>\n",
       "      <td>2004</td>\n",
       "      <td>60</td>\n",
       "    </tr>\n",
       "    <tr>\n",
       "      <th>25</th>\n",
       "      <td>2005</td>\n",
       "      <td>60</td>\n",
       "    </tr>\n",
       "    <tr>\n",
       "      <th>26</th>\n",
       "      <td>2006</td>\n",
       "      <td>60</td>\n",
       "    </tr>\n",
       "    <tr>\n",
       "      <th>27</th>\n",
       "      <td>2007</td>\n",
       "      <td>60</td>\n",
       "    </tr>\n",
       "    <tr>\n",
       "      <th>28</th>\n",
       "      <td>2008</td>\n",
       "      <td>60</td>\n",
       "    </tr>\n",
       "    <tr>\n",
       "      <th>29</th>\n",
       "      <td>2009</td>\n",
       "      <td>60</td>\n",
       "    </tr>\n",
       "    <tr>\n",
       "      <th>30</th>\n",
       "      <td>2010</td>\n",
       "      <td>60</td>\n",
       "    </tr>\n",
       "    <tr>\n",
       "      <th>31</th>\n",
       "      <td>2011</td>\n",
       "      <td>60</td>\n",
       "    </tr>\n",
       "    <tr>\n",
       "      <th>32</th>\n",
       "      <td>2012</td>\n",
       "      <td>60</td>\n",
       "    </tr>\n",
       "    <tr>\n",
       "      <th>33</th>\n",
       "      <td>2013</td>\n",
       "      <td>60</td>\n",
       "    </tr>\n",
       "    <tr>\n",
       "      <th>34</th>\n",
       "      <td>2014</td>\n",
       "      <td>60</td>\n",
       "    </tr>\n",
       "    <tr>\n",
       "      <th>35</th>\n",
       "      <td>2015</td>\n",
       "      <td>60</td>\n",
       "    </tr>\n",
       "    <tr>\n",
       "      <th>36</th>\n",
       "      <td>2016</td>\n",
       "      <td>60</td>\n",
       "    </tr>\n",
       "    <tr>\n",
       "      <th>37</th>\n",
       "      <td>2017</td>\n",
       "      <td>10</td>\n",
       "    </tr>\n",
       "    <tr>\n",
       "      <th>38</th>\n",
       "      <td>2020</td>\n",
       "      <td>5</td>\n",
       "    </tr>\n",
       "  </tbody>\n",
       "</table>\n",
       "</div>"
      ],
      "text/plain": [
       "    release_year  observations\n",
       "0           1980            25\n",
       "1           1981            35\n",
       "2           1982            35\n",
       "3           1983            35\n",
       "4           1984            35\n",
       "5           1985            35\n",
       "6           1986            30\n",
       "7           1987            35\n",
       "8           1988            40\n",
       "9           1989            35\n",
       "10          1990            35\n",
       "11          1991            60\n",
       "12          1992            60\n",
       "13          1993            60\n",
       "14          1994            60\n",
       "15          1995            60\n",
       "16          1996            60\n",
       "17          1997            60\n",
       "18          1998            60\n",
       "19          1999            60\n",
       "20          2000            60\n",
       "21          2001            60\n",
       "22          2002            60\n",
       "23          2003            60\n",
       "24          2004            60\n",
       "25          2005            60\n",
       "26          2006            60\n",
       "27          2007            60\n",
       "28          2008            60\n",
       "29          2009            60\n",
       "30          2010            60\n",
       "31          2011            60\n",
       "32          2012            60\n",
       "33          2013            60\n",
       "34          2014            60\n",
       "35          2015            60\n",
       "36          2016            60\n",
       "37          2017            10\n",
       "38          2020             5"
      ]
     },
     "metadata": {},
     "output_type": "display_data"
    },
    {
     "name": "stdout",
     "output_type": "stream",
     "text": [
      "Notice we are completely missing all data for years 2018 and 2019\n",
      "The number of release_year entries:  39\n",
      "The number of release_year entries if 2018 & 2019 are added:  41\n",
      "If we are to assume that only release_years with 60 observations are complete...\n",
      "then there are a lot of incomplete release_years!\n",
      "Amount of observations in our dataset: 1950\n",
      "Amount of observations in a complete dataset: 2460\n",
      "------------------------------------------------------------\n",
      "Video Game Observations by Year, excluding years 2018 & 2019\n",
      "------------------------------------------------------------\n"
     ]
    },
    {
     "data": {
      "image/png": "[encoded data removed]",
      "text/plain": [
       "<Figure size 432x288 with 1 Axes>"
      ]
     },
     "metadata": {
      "needs_background": "light"
     },
     "output_type": "display_data"
    }
   ],
   "source": [
    "#Counting Observations Per release_year\n",
    "records = df.release_year.value_counts().sort_index(axis=0)\n",
    "records = records.rename_axis('release_year').reset_index(name='observations')\n",
    "print('-------------------------------')\n",
    "print('Number of Observations per Year')\n",
    "print('-------------------------------')\n",
    "display(records)\n",
    "\n",
    "#Creating a copy of the dataframe for future use\n",
    "df1 = df.copy()\n",
    "\n",
    "#Creating the Bar Chart\n",
    "barplot = sns.barplot(data=records, x='release_year', y='observations')\n",
    "for ind, label in enumerate(barplot.get_xticklabels()):\n",
    "    if ind % 10 == 0:\n",
    "        label.set_visible(True)\n",
    "    else:\n",
    "        label.set_visible(False)\n",
    "        \n",
    "print(\"Notice we are completely missing all data for years 2018 and 2019\")\n",
    "print(\"The number of release_year entries: \", len(records))\n",
    "print(\"The number of release_year entries if 2018 & 2019 are added: \", (len(records)+2))\n",
    "print('If we are to assume that only release_years with 60 observations are complete...')\n",
    "print('then there are a lot of incomplete release_years!')\n",
    "print(\"Amount of observations in our dataset: 1950\")\n",
    "print(\"Amount of observations in a complete dataset: 2460\")\n",
    "print('------------------------------------------------------------')\n",
    "print(\"Video Game Observations by Year, excluding years 2018 & 2019\")\n",
    "print('------------------------------------------------------------')"
   ]
  },
  {
   "cell_type": "markdown",
   "id": "34468c61",
   "metadata": {},
   "source": [
    "### Bivariate Distribution - Visual Aid ###"
   ]
  },
  {
   "cell_type": "code",
   "execution_count": 17,
   "id": "4e34b844",
   "metadata": {},
   "outputs": [
    {
     "data": {
      "text/plain": [
       "Text(0.5, 0.98, 'Video Game Sales by Year')"
      ]
     },
     "execution_count": 17,
     "metadata": {},
     "output_type": "execute_result"
    },
    {
     "data": {
      "image/png": "[encoded data removed]",
      "text/plain": [
       "<Figure size 432x432 with 3 Axes>"
      ]
     },
     "metadata": {
      "needs_background": "light"
     },
     "output_type": "display_data"
    }
   ],
   "source": [
    "df2 = pd.DataFrame(df1, columns=[\"release_year\", \"sales\"])\n",
    "vgsp = sns.jointplot(x=\"release_year\", y=\"sales\", data=df2)\n",
    "vgsp.fig.subplots_adjust(top=0.95)\n",
    "vgsp.fig.suptitle('Video Game Sales by Year')"
   ]
  },
  {
   "cell_type": "markdown",
   "id": "12d39932",
   "metadata": {},
   "source": [
    "### Scatterplot - Visual Aid ###"
   ]
  },
  {
   "cell_type": "code",
   "execution_count": 18,
   "id": "7f0b654b",
   "metadata": {},
   "outputs": [
    {
     "data": {
      "text/html": [
       "\n",
       "\n",
       "\n",
       "\n",
       "\n",
       "\n",
       "  <div class=\"bk-root\" id=\"6e708ac4-2a88-4a20-b5b2-50dcdc40ca4c\" data-root-id=\"1003\"></div>\n"
      ]
     },
     "metadata": {},
     "output_type": "display_data"
    },
    {
     "data": {
      "application/javascript": [
       "(function(root) {\n",
       "  function embed_document(root) {\n",
       "    \n",
       "  const docs_json = {\"e45de8e8-ed58-4eaa-b38e-2a9f0f2e24a5\":{\"defs\":[],\"roots\":{\"references\":[{\"attributes\":{\"below\":[{\"id\":\"1014\"}],\"center\":[{\"id\":\"1017\"},{\"id\":\"1021\"}],\"left\":[{\"id\":\"1018\"}],\"renderers\":[{\"id\":\"1041\"}],\"title\":{\"id\":\"1004\"},\"toolbar\":{\"id\":\"1029\"},\"x_range\":{\"id\":\"1006\"},\"x_scale\":{\"id\":\"1010\"},\"y_range\":{\"id\":\"1008\"},\"y_scale\":{\"id\":\"1012\"}},\"id\":\"1003\",\"subtype\":\"Figure\",\"type\":\"Plot\"},{\"attributes\":{},\"id\":\"1025\",\"type\":\"SaveTool\"},{\"attributes\":{\"bottom_units\":\"screen\",\"coordinates\":null,\"fill_alpha\":0.5,\"fill_color\":\"lightgrey\",\"group\":null,\"left_units\":\"screen\",\"level\":\"overlay\",\"line_alpha\":1.0,\"line_color\":\"black\",\"line_dash\":[4,4],\"line_width\":2,\"right_units\":\"screen\",\"syncable\":false,\"top_units\":\"screen\"},\"id\":\"1028\",\"type\":\"BoxAnnotation\"},{\"attributes\":{\"fill_alpha\":{\"value\":0.2},\"fill_color\":{\"value\":\"#1f77b4\"},\"hatch_alpha\":{\"value\":0.2},\"line_alpha\":{\"value\":0.2},\"line_color\":{\"value\":\"#1f77b4\"},\"size\":{\"value\":10},\"x\":{\"field\":\"release_year\"},\"y\":{\"field\":\"sales\"}},\"id\":\"1040\",\"type\":\"Circle\"},{\"attributes\":{},\"id\":\"1050\",\"type\":\"UnionRenderers\"},{\"attributes\":{\"data\":{\"genre\":[\"Action\",\"Fighting\",\"Misc\",\"Shooter\",\"Sports\",\"Action\",\"Platform\",\"Puzzle\",\"Racing\",\"Shooter\",\"Simulation\",\"Sports\",\"Action\",\"Misc\",\"Platform\",\"Puzzle\",\"Racing\",\"Shooter\",\"Sports\",\"Action\",\"Adventure\",\"Misc\",\"Platform\",\"Puzzle\",\"Shooter\",\"Sports\",\"Action\",\"Misc\",\"Platform\",\"Puzzle\",\"Racing\",\"Shooter\",\"Sports\",\"Action\",\"Fighting\",\"Platform\",\"Puzzle\",\"Shooter\",\"Simulation\",\"Sports\",\"Action\",\"Platform\",\"Racing\",\"Role-Playing\",\"Shooter\",\"Sports\",\"Action\",\"Adventure\",\"Fighting\",\"Platform\",\"Role-Playing\",\"Shooter\",\"Sports\",\"Action\",\"Platform\",\"Puzzle\",\"Racing\",\"Role-Playing\",\"Shooter\",\"Simulation\",\"Sports\",\"Action\",\"Misc\",\"Platform\",\"Puzzle\",\"Role-Playing\",\"Shooter\",\"Sports\",\"Action\",\"Platform\",\"Puzzle\",\"Racing\",\"Role-Playing\",\"Simulation\",\"Sports\",\"Action\",\"Adventure\",\"Fighting\",\"Misc\",\"Platform\",\"Puzzle\",\"Racing\",\"Role-Playing\",\"Shooter\",\"Simulation\",\"Sports\",\"Strategy\",\"Action\",\"Adventure\",\"Fighting\",\"Misc\",\"Platform\",\"Puzzle\",\"Racing\",\"Role-Playing\",\"Shooter\",\"Simulation\",\"Sports\",\"Strategy\",\"Action\",\"Adventure\",\"Fighting\",\"Misc\",\"Platform\",\"Puzzle\",\"Racing\",\"Role-Playing\",\"Shooter\",\"Simulation\",\"Sports\",\"Strategy\",\"Action\",\"Adventure\",\"Fighting\",\"Misc\",\"Platform\",\"Puzzle\",\"Racing\",\"Role-Playing\",\"Shooter\",\"Simulation\",\"Sports\",\"Strategy\",\"Action\",\"Adventure\",\"Fighting\",\"Misc\",\"Platform\",\"Puzzle\",\"Racing\",\"Role-Playing\",\"Shooter\",\"Simulation\",\"Sports\",\"Strategy\",\"Action\",\"Adventure\",\"Fighting\",\"Misc\",\"Platform\",\"Puzzle\",\"Racing\",\"Role-Playing\",\"Shooter\",\"Simulation\",\"Sports\",\"Strategy\",\"Action\",\"Adventure\",\"Fighting\",\"Misc\",\"Platform\",\"Puzzle\",\"Racing\",\"Role-Playing\",\"Shooter\",\"Simulation\",\"Sports\",\"Strategy\",\"Action\",\"Adventure\",\"Fighting\",\"Misc\",\"Platform\",\"Puzzle\",\"Racing\",\"Role-Playing\",\"Shooter\",\"Simulation\",\"Sports\",\"Strategy\",\"Action\",\"Adventure\",\"Fighting\",\"Misc\",\"Platform\",\"Puzzle\",\"Racing\",\"Role-Playing\",\"Shooter\",\"Simulation\",\"Sports\",\"Strategy\",\"Action\",\"Adventure\",\"Fighting\",\"Misc\",\"Platform\",\"Puzzle\",\"Racing\",\"Role-Playing\",\"Shooter\",\"Simulation\",\"Sports\",\"Strategy\",\"Action\",\"Adventure\",\"Fighting\",\"Misc\",\"Platform\",\"Puzzle\",\"Racing\",\"Role-Playing\",\"Shooter\",\"Simulation\",\"Sports\",\"Strategy\",\"Action\",\"Adventure\",\"Fighting\",\"Misc\",\"Platform\",\"Puzzle\",\"Racing\",\"Role-Playing\",\"Shooter\",\"Simulation\",\"Sports\",\"Strategy\",\"Action\",\"Adventure\",\"Fighting\",\"Misc\",\"Platform\",\"Puzzle\",\"Racing\",\"Role-Playing\",\"Shooter\",\"Simulation\",\"Sports\",\"Strategy\",\"Action\",\"Adventure\",\"Fighting\",\"Misc\",\"Platform\",\"Puzzle\",\"Racing\",\"Role-Playing\",\"Shooter\",\"Simulation\",\"Sports\",\"Strategy\",\"Action\",\"Adventure\",\"Fighting\",\"Misc\",\"Platform\",\"Puzzle\",\"Racing\",\"Role-Playing\",\"Shooter\",\"Simulation\",\"Sports\",\"Strategy\",\"Action\",\"Adventure\",\"Fighting\",\"Misc\",\"Platform\",\"Puzzle\",\"Racing\",\"Role-Playing\",\"Shooter\",\"Simulation\",\"Sports\",\"Strategy\",\"Action\",\"Adventure\",\"Fighting\",\"Misc\",\"Platform\",\"Puzzle\",\"Racing\",\"Role-Playing\",\"Shooter\",\"Simulation\",\"Sports\",\"Strategy\",\"Action\",\"Adventure\",\"Fighting\",\"Misc\",\"Platform\",\"Puzzle\",\"Racing\",\"Role-Playing\",\"Shooter\",\"Simulation\",\"Sports\",\"Strategy\",\"Action\",\"Adventure\",\"Fighting\",\"Misc\",\"Platform\",\"Puzzle\",\"Racing\",\"Role-Playing\",\"Shooter\",\"Simulation\",\"Sports\",\"Strategy\",\"Action\",\"Adventure\",\"Fighting\",\"Misc\",\"Platform\",\"Puzzle\",\"Racing\",\"Role-Playing\",\"Shooter\",\"Simulation\",\"Sports\",\"Strategy\",\"Action\",\"Adventure\",\"Fighting\",\"Misc\",\"Platform\",\"Puzzle\",\"Racing\",\"Role-Playing\",\"Shooter\",\"Simulation\",\"Sports\",\"Strategy\",\"Action\",\"Adventure\",\"Fighting\",\"Misc\",\"Platform\",\"Puzzle\",\"Racing\",\"Role-Playing\",\"Shooter\",\"Simulation\",\"Sports\",\"Strategy\",\"Action\",\"Adventure\",\"Fighting\",\"Misc\",\"Platform\",\"Puzzle\",\"Racing\",\"Role-Playing\",\"Shooter\",\"Simulation\",\"Sports\",\"Strategy\",\"Action\",\"Adventure\",\"Fighting\",\"Misc\",\"Platform\",\"Puzzle\",\"Racing\",\"Role-Playing\",\"Shooter\",\"Simulation\",\"Sports\",\"Strategy\",\"Action\",\"Adventure\",\"Fighting\",\"Misc\",\"Platform\",\"Puzzle\",\"Racing\",\"Role-Playing\",\"Shooter\",\"Simulation\",\"Sports\",\"Strategy\",\"Action\",\"Adventure\",\"Fighting\",\"Misc\",\"Platform\",\"Puzzle\",\"Racing\",\"Role-Playing\",\"Shooter\",\"Simulation\",\"Sports\",\"Strategy\",\"Action\",\"Role-Playing\",\"Simulation\",\"Action\",\"Fighting\",\"Misc\",\"Shooter\",\"Sports\",\"Action\",\"Platform\",\"Puzzle\",\"Racing\",\"Shooter\",\"Simulation\",\"Sports\",\"Action\",\"Misc\",\"Platform\",\"Puzzle\",\"Racing\",\"Shooter\",\"Sports\",\"Action\",\"Adventure\",\"Misc\",\"Platform\",\"Puzzle\",\"Shooter\",\"Sports\",\"Action\",\"Misc\",\"Platform\",\"Puzzle\",\"Racing\",\"Shooter\",\"Sports\",\"Action\",\"Fighting\",\"Platform\",\"Puzzle\",\"Shooter\",\"Simulation\",\"Sports\",\"Action\",\"Platform\",\"Racing\",\"Role-Playing\",\"Shooter\",\"Sports\",\"Action\",\"Adventure\",\"Fighting\",\"Platform\",\"Role-Playing\",\"Shooter\",\"Sports\",\"Action\",\"Platform\",\"Puzzle\",\"Racing\",\"Role-Playing\",\"Shooter\",\"Simulation\",\"Sports\",\"Action\",\"Misc\",\"Platform\",\"Puzzle\",\"Role-Playing\",\"Shooter\",\"Sports\",\"Action\",\"Platform\",\"Puzzle\",\"Racing\",\"Role-Playing\",\"Simulation\",\"Sports\",\"Action\",\"Adventure\",\"Fighting\",\"Misc\",\"Platform\",\"Puzzle\",\"Racing\",\"Role-Playing\",\"Shooter\",\"Simulation\",\"Sports\",\"Strategy\",\"Action\",\"Adventure\",\"Fighting\",\"Misc\",\"Platform\",\"Puzzle\",\"Racing\",\"Role-Playing\",\"Shooter\",\"Simulation\",\"Sports\",\"Strategy\",\"Action\",\"Adventure\",\"Fighting\",\"Misc\",\"Platform\",\"Puzzle\",\"Racing\",\"Role-Playing\",\"Shooter\",\"Simulation\",\"Sports\",\"Strategy\",\"Action\",\"Adventure\",\"Fighting\",\"Misc\",\"Platform\",\"Puzzle\",\"Racing\",\"Role-Playing\",\"Shooter\",\"Simulation\",\"Sports\",\"Strategy\",\"Action\",\"Adventure\",\"Fighting\",\"Misc\",\"Platform\",\"Puzzle\",\"Racing\",\"Role-Playing\",\"Shooter\",\"Simulation\",\"Sports\",\"Strategy\",\"Action\",\"Adventure\",\"Fighting\",\"Misc\",\"Platform\",\"Puzzle\",\"Racing\",\"Role-Playing\",\"Shooter\",\"Simulation\",\"Sports\",\"Strategy\",\"Action\",\"Adventure\",\"Fighting\",\"Misc\",\"Platform\",\"Puzzle\",\"Racing\",\"Role-Playing\",\"Shooter\",\"Simulation\",\"Sports\",\"Strategy\",\"Action\",\"Adventure\",\"Fighting\",\"Misc\",\"Platform\",\"Puzzle\",\"Racing\",\"Role-Playing\",\"Shooter\",\"Simulation\",\"Sports\",\"Strategy\",\"Action\",\"Adventure\",\"Fighting\",\"Misc\",\"Platform\",\"Puzzle\",\"Racing\",\"Role-Playing\",\"Shooter\",\"Simulation\",\"Sports\",\"Strategy\",\"Action\",\"Adventure\",\"Fighting\",\"Misc\",\"Platform\",\"Puzzle\",\"Racing\",\"Role-Playing\",\"Shooter\",\"Simulation\",\"Sports\",\"Strategy\",\"Action\",\"Adventure\",\"Fighting\",\"Misc\",\"Platform\",\"Puzzle\",\"Racing\",\"Role-Playing\",\"Shooter\",\"Simulation\",\"Sports\",\"Strategy\",\"Action\",\"Adventure\",\"Fighting\",\"Misc\",\"Platform\",\"Puzzle\",\"Racing\",\"Role-Playing\",\"Shooter\",\"Simulation\",\"Sports\",\"Strategy\",\"Action\",\"Adventure\",\"Fighting\",\"Misc\",\"Platform\",\"Puzzle\",\"Racing\",\"Role-Playing\",\"Shooter\",\"Simulation\",\"Sports\",\"Strategy\",\"Action\",\"Adventure\",\"Fighting\",\"Misc\",\"Platform\",\"Puzzle\",\"Racing\",\"Role-Playing\",\"Shooter\",\"Simulation\",\"Sports\",\"Strategy\",\"Action\",\"Adventure\",\"Fighting\",\"Misc\",\"Platform\",\"Puzzle\",\"Racing\",\"Role-Playing\",\"Shooter\",\"Simulation\",\"Sports\",\"Strategy\",\"Action\",\"Adventure\",\"Fighting\",\"Misc\",\"Platform\",\"Puzzle\",\"Racing\",\"Role-Playing\",\"Shooter\",\"Simulation\",\"Sports\",\"Strategy\",\"Action\",\"Adventure\",\"Fighting\",\"Misc\",\"Platform\",\"Puzzle\",\"Racing\",\"Role-Playing\",\"Shooter\",\"Simulation\",\"Sports\",\"Strategy\",\"Action\",\"Adventure\",\"Fighting\",\"Misc\",\"Platform\",\"Puzzle\",\"Racing\",\"Role-Playing\",\"Shooter\",\"Simulation\",\"Sports\",\"Strategy\",\"Action\",\"Adventure\",\"Fighting\",\"Misc\",\"Platform\",\"Puzzle\",\"Racing\",\"Role-Playing\",\"Shooter\",\"Simulation\",\"Sports\",\"Strategy\",\"Action\",\"Adventure\",\"Fighting\",\"Misc\",\"Platform\",\"Puzzle\",\"Racing\",\"Role-Playing\",\"Shooter\",\"Simulation\",\"Sports\",\"Strategy\",\"Action\",\"Adventure\",\"Fighting\",\"Misc\",\"Platform\",\"Puzzle\",\"Racing\",\"Role-Playing\",\"Shooter\",\"Simulation\",\"Sports\",\"Strategy\",\"Action\",\"Adventure\",\"Fighting\",\"Misc\",\"Platform\",\"Puzzle\",\"Racing\",\"Role-Playing\",\"Shooter\",\"Simulation\",\"Sports\",\"Strategy\",\"Action\",\"Adventure\",\"Fighting\",\"Misc\",\"Platform\",\"Puzzle\",\"Racing\",\"Role-Playing\",\"Shooter\",\"Simulation\",\"Sports\",\"Strategy\",\"Action\",\"Adventure\",\"Fighting\",\"Misc\",\"Platform\",\"Puzzle\",\"Racing\",\"Role-Playing\",\"Shooter\",\"Simulation\",\"Sports\",\"Strategy\",\"Action\",\"Adventure\",\"Fighting\",\"Misc\",\"Platform\",\"Puzzle\",\"Racing\",\"Role-Playing\",\"Shooter\",\"Simulation\",\"Sports\",\"Strategy\",\"Action\",\"Adventure\",\"Fighting\",\"Misc\",\"Platform\",\"Puzzle\",\"Racing\",\"Role-Playing\",\"Shooter\",\"Simulation\",\"Sports\",\"Strategy\",\"Action\",\"Role-Playing\",\"Simulation\",\"Action\",\"Fighting\",\"Misc\",\"Shooter\",\"Sports\",\"Action\",\"Platform\",\"Puzzle\",\"Racing\",\"Shooter\",\"Simulation\",\"Sports\",\"Action\",\"Misc\",\"Platform\",\"Puzzle\",\"Racing\",\"Shooter\",\"Sports\",\"Action\",\"Adventure\",\"Misc\",\"Platform\",\"Puzzle\",\"Shooter\",\"Sports\",\"Action\",\"Misc\",\"Platform\",\"Puzzle\",\"Racing\",\"Shooter\",\"Sports\",\"Action\",\"Fighting\",\"Platform\",\"Puzzle\",\"Shooter\",\"Simulation\",\"Sports\",\"Action\",\"Platform\",\"Racing\",\"Role-Playing\",\"Shooter\",\"Sports\",\"Action\",\"Adventure\",\"Fighting\",\"Platform\",\"Role-Playing\",\"Shooter\",\"Sports\",\"Action\",\"Platform\",\"Puzzle\",\"Racing\",\"Role-Playing\",\"Shooter\",\"Simulation\",\"Sports\",\"Action\",\"Misc\",\"Platform\",\"Puzzle\",\"Role-Playing\",\"Shooter\",\"Sports\",\"Action\",\"Platform\",\"Puzzle\",\"Racing\",\"Role-Playing\",\"Simulation\",\"Sports\",\"Action\",\"Adventure\",\"Fighting\",\"Misc\",\"Platform\",\"Puzzle\",\"Racing\",\"Role-Playing\",\"Shooter\",\"Simulation\",\"Sports\",\"Strategy\",\"Action\",\"Adventure\",\"Fighting\",\"Misc\",\"Platform\",\"Puzzle\",\"Racing\",\"Role-Playing\",\"Shooter\",\"Simulation\",\"Sports\",\"Strategy\",\"Action\",\"Adventure\",\"Fighting\",\"Misc\",\"Platform\",\"Puzzle\",\"Racing\",\"Role-Playing\",\"Shooter\",\"Simulation\",\"Sports\",\"Strategy\",\"Action\",\"Adventure\",\"Fighting\",\"Misc\",\"Platform\",\"Puzzle\",\"Racing\",\"Role-Playing\",\"Shooter\",\"Simulation\",\"Sports\",\"Strategy\",\"Action\",\"Adventure\",\"Fighting\",\"Misc\",\"Platform\",\"Puzzle\",\"Racing\",\"Role-Playing\",\"Shooter\",\"Simulation\",\"Sports\",\"Strategy\",\"Action\",\"Adventure\",\"Fighting\",\"Misc\",\"Platform\",\"Puzzle\",\"Racing\",\"Role-Playing\",\"Shooter\",\"Simulation\",\"Sports\",\"Strategy\",\"Action\",\"Adventure\",\"Fighting\",\"Misc\",\"Platform\",\"Puzzle\",\"Racing\",\"Role-Playing\",\"Shooter\",\"Simulation\",\"Sports\",\"Strategy\",\"Action\",\"Adventure\",\"Fighting\",\"Misc\",\"Platform\",\"Puzzle\",\"Racing\",\"Role-Playing\",\"Shooter\",\"Simulation\",\"Sports\",\"Strategy\",\"Action\",\"Adventure\",\"Fighting\",\"Misc\",\"Platform\",\"Puzzle\",\"Racing\",\"Role-Playing\",\"Shooter\",\"Simulation\",\"Sports\",\"Strategy\",\"Action\",\"Adventure\",\"Fighting\",\"Misc\",\"Platform\",\"Puzzle\",\"Racing\",\"Role-Playing\",\"Shooter\",\"Simulation\",\"Sports\",\"Strategy\",\"Action\",\"Adventure\",\"Fighting\",\"Misc\",\"Platform\",\"Puzzle\",\"Racing\",\"Role-Playing\",\"Shooter\",\"Simulation\",\"Sports\",\"Strategy\",\"Action\",\"Adventure\",\"Fighting\",\"Misc\",\"Platform\",\"Puzzle\",\"Racing\",\"Role-Playing\",\"Shooter\",\"Simulation\",\"Sports\",\"Strategy\",\"Action\",\"Adventure\",\"Fighting\",\"Misc\",\"Platform\",\"Puzzle\",\"Racing\",\"Role-Playing\",\"Shooter\",\"Simulation\",\"Sports\",\"Strategy\",\"Action\",\"Adventure\",\"Fighting\",\"Misc\",\"Platform\",\"Puzzle\",\"Racing\",\"Role-Playing\",\"Shooter\",\"Simulation\",\"Sports\",\"Strategy\",\"Action\",\"Adventure\",\"Fighting\",\"Misc\",\"Platform\",\"Puzzle\",\"Racing\",\"Role-Playing\",\"Shooter\",\"Simulation\",\"Sports\",\"Strategy\",\"Action\",\"Adventure\",\"Fighting\",\"Misc\",\"Platform\",\"Puzzle\",\"Racing\",\"Role-Playing\",\"Shooter\",\"Simulation\",\"Sports\",\"Strategy\",\"Action\",\"Adventure\",\"Fighting\",\"Misc\",\"Platform\",\"Puzzle\",\"Racing\",\"Role-Playing\",\"Shooter\",\"Simulation\",\"Sports\",\"Strategy\",\"Action\",\"Adventure\",\"Fighting\",\"Misc\",\"Platform\",\"Puzzle\",\"Racing\",\"Role-Playing\",\"Shooter\",\"Simulation\",\"Sports\",\"Strategy\",\"Action\",\"Adventure\",\"Fighting\",\"Misc\",\"Platform\",\"Puzzle\",\"Racing\",\"Role-Playing\",\"Shooter\",\"Simulation\",\"Sports\",\"Strategy\",\"Action\",\"Adventure\",\"Fighting\",\"Misc\",\"Platform\",\"Puzzle\",\"Racing\",\"Role-Playing\",\"Shooter\",\"Simulation\",\"Sports\",\"Strategy\",\"Action\",\"Adventure\",\"Fighting\",\"Misc\",\"Platform\",\"Puzzle\",\"Racing\",\"Role-Playing\",\"Shooter\",\"Simulation\",\"Sports\",\"Strategy\",\"Action\",\"Adventure\",\"Fighting\",\"Misc\",\"Platform\",\"Puzzle\",\"Racing\",\"Role-Playing\",\"Shooter\",\"Simulation\",\"Sports\",\"Strategy\",\"Action\",\"Adventure\",\"Fighting\",\"Misc\",\"Platform\",\"Puzzle\",\"Racing\",\"Role-Playing\",\"Shooter\",\"Simulation\",\"Sports\",\"Strategy\",\"Action\",\"Adventure\",\"Fighting\",\"Misc\",\"Platform\",\"Puzzle\",\"Racing\",\"Role-Playing\",\"Shooter\",\"Simulation\",\"Sports\",\"Strategy\",\"Action\",\"Adventure\",\"Fighting\",\"Misc\",\"Platform\",\"Puzzle\",\"Racing\",\"Role-Playing\",\"Shooter\",\"Simulation\",\"Sports\",\"Strategy\",\"Action\",\"Adventure\",\"Fighting\",\"Misc\",\"Platform\",\"Puzzle\",\"Racing\",\"Role-Playing\",\"Shooter\",\"Simulation\",\"Sports\",\"Strategy\",\"Action\",\"Role-Playing\",\"Simulation\",\"Action\",\"Fighting\",\"Misc\",\"Shooter\",\"Sports\",\"Action\",\"Platform\",\"Puzzle\",\"Racing\",\"Shooter\",\"Simulation\",\"Sports\",\"Action\",\"Misc\",\"Platform\",\"Puzzle\",\"Racing\",\"Shooter\",\"Sports\",\"Action\",\"Adventure\",\"Misc\",\"Platform\",\"Puzzle\",\"Shooter\",\"Sports\",\"Action\",\"Misc\",\"Platform\",\"Puzzle\",\"Racing\",\"Shooter\",\"Sports\",\"Action\",\"Fighting\",\"Platform\",\"Puzzle\",\"Shooter\",\"Simulation\",\"Sports\",\"Action\",\"Platform\",\"Racing\",\"Role-Playing\",\"Shooter\",\"Sports\",\"Action\",\"Adventure\",\"Fighting\",\"Platform\",\"Role-Playing\",\"Shooter\",\"Sports\",\"Action\",\"Platform\",\"Puzzle\",\"Racing\",\"Role-Playing\",\"Shooter\",\"Simulation\",\"Sports\",\"Action\",\"Misc\",\"Platform\",\"Puzzle\",\"Role-Playing\",\"Shooter\",\"Sports\",\"Action\",\"Platform\",\"Puzzle\",\"Racing\",\"Role-Playing\",\"Simulation\",\"Sports\",\"Action\",\"Adventure\",\"Fighting\",\"Misc\",\"Platform\",\"Puzzle\",\"Racing\",\"Role-Playing\",\"Shooter\",\"Simulation\",\"Sports\",\"Strategy\",\"Action\",\"Adventure\",\"Fighting\",\"Misc\",\"Platform\",\"Puzzle\",\"Racing\",\"Role-Playing\",\"Shooter\",\"Simulation\",\"Sports\",\"Strategy\",\"Action\",\"Adventure\",\"Fighting\",\"Misc\",\"Platform\",\"Puzzle\",\"Racing\",\"Role-Playing\",\"Shooter\",\"Simulation\",\"Sports\",\"Strategy\",\"Action\",\"Adventure\",\"Fighting\",\"Misc\",\"Platform\",\"Puzzle\",\"Racing\",\"Role-Playing\",\"Shooter\",\"Simulation\",\"Sports\",\"Strategy\",\"Action\",\"Adventure\",\"Fighting\",\"Misc\",\"Platform\",\"Puzzle\",\"Racing\",\"Role-Playing\",\"Shooter\",\"Simulation\",\"Sports\",\"Strategy\",\"Action\",\"Adventure\",\"Fighting\",\"Misc\",\"Platform\",\"Puzzle\",\"Racing\",\"Role-Playing\",\"Shooter\",\"Simulation\",\"Sports\",\"Strategy\",\"Action\",\"Adventure\",\"Fighting\",\"Misc\",\"Platform\",\"Puzzle\",\"Racing\",\"Role-Playing\",\"Shooter\",\"Simulation\",\"Sports\",\"Strategy\",\"Action\",\"Adventure\",\"Fighting\",\"Misc\",\"Platform\",\"Puzzle\",\"Racing\",\"Role-Playing\",\"Shooter\",\"Simulation\",\"Sports\",\"Strategy\",\"Action\",\"Adventure\",\"Fighting\",\"Misc\",\"Platform\",\"Puzzle\",\"Racing\",\"Role-Playing\",\"Shooter\",\"Simulation\",\"Sports\",\"Strategy\",\"Action\",\"Adventure\",\"Fighting\",\"Misc\",\"Platform\",\"Puzzle\",\"Racing\",\"Role-Playing\",\"Shooter\",\"Simulation\",\"Sports\",\"Strategy\",\"Action\",\"Adventure\",\"Fighting\",\"Misc\",\"Platform\",\"Puzzle\",\"Racing\",\"Role-Playing\",\"Shooter\",\"Simulation\",\"Sports\",\"Strategy\",\"Action\",\"Adventure\",\"Fighting\",\"Misc\",\"Platform\",\"Puzzle\",\"Racing\",\"Role-Playing\",\"Shooter\",\"Simulation\",\"Sports\",\"Strategy\",\"Action\",\"Adventure\",\"Fighting\",\"Misc\",\"Platform\",\"Puzzle\",\"Racing\",\"Role-Playing\",\"Shooter\",\"Simulation\",\"Sports\",\"Strategy\",\"Action\",\"Adventure\",\"Fighting\",\"Misc\",\"Platform\",\"Puzzle\",\"Racing\",\"Role-Playing\",\"Shooter\",\"Simulation\",\"Sports\",\"Strategy\",\"Action\",\"Adventure\",\"Fighting\",\"Misc\",\"Platform\",\"Puzzle\",\"Racing\",\"Role-Playing\",\"Shooter\",\"Simulation\",\"Sports\",\"Strategy\",\"Action\",\"Adventure\",\"Fighting\",\"Misc\",\"Platform\",\"Puzzle\",\"Racing\",\"Role-Playing\",\"Shooter\",\"Simulation\",\"Sports\",\"Strategy\",\"Action\",\"Adventure\",\"Fighting\",\"Misc\",\"Platform\",\"Puzzle\",\"Racing\",\"Role-Playing\",\"Shooter\",\"Simulation\",\"Sports\",\"Strategy\",\"Action\",\"Adventure\",\"Fighting\",\"Misc\",\"Platform\",\"Puzzle\",\"Racing\",\"Role-Playing\",\"Shooter\",\"Simulation\",\"Sports\",\"Strategy\",\"Action\",\"Adventure\",\"Fighting\",\"Misc\",\"Platform\",\"Puzzle\",\"Racing\",\"Role-Playing\",\"Shooter\",\"Simulation\",\"Sports\",\"Strategy\",\"Action\",\"Adventure\",\"Fighting\",\"Misc\",\"Platform\",\"Puzzle\",\"Racing\",\"Role-Playing\",\"Shooter\",\"Simulation\",\"Sports\",\"Strategy\",\"Action\",\"Adventure\",\"Fighting\",\"Misc\",\"Platform\",\"Puzzle\",\"Racing\",\"Role-Playing\",\"Shooter\",\"Simulation\",\"Sports\",\"Strategy\",\"Action\",\"Adventure\",\"Fighting\",\"Misc\",\"Platform\",\"Puzzle\",\"Racing\",\"Role-Playing\",\"Shooter\",\"Simulation\",\"Sports\",\"Strategy\",\"Action\",\"Adventure\",\"Fighting\",\"Misc\",\"Platform\",\"Puzzle\",\"Racing\",\"Role-Playing\",\"Shooter\",\"Simulation\",\"Sports\",\"Strategy\",\"Action\",\"Adventure\",\"Fighting\",\"Misc\",\"Platform\",\"Puzzle\",\"Racing\",\"Role-Playing\",\"Shooter\",\"Simulation\",\"Sports\",\"Strategy\",\"Action\",\"Adventure\",\"Fighting\",\"Misc\",\"Platform\",\"Puzzle\",\"Racing\",\"Role-Playing\",\"Shooter\",\"Simulation\",\"Sports\",\"Strategy\",\"Action\",\"Adventure\",\"Fighting\",\"Misc\",\"Platform\",\"Puzzle\",\"Racing\",\"Role-Playing\",\"Shooter\",\"Simulation\",\"Sports\",\"Strategy\",\"Action\",\"Role-Playing\",\"Simulation\",\"Action\",\"Fighting\",\"Misc\",\"Shooter\",\"Sports\",\"Action\",\"Platform\",\"Puzzle\",\"Racing\",\"Shooter\",\"Simulation\",\"Sports\",\"Action\",\"Misc\",\"Platform\",\"Puzzle\",\"Racing\",\"Shooter\",\"Sports\",\"Action\",\"Adventure\",\"Misc\",\"Platform\",\"Puzzle\",\"Shooter\",\"Sports\",\"Action\",\"Misc\",\"Platform\",\"Puzzle\",\"Racing\",\"Shooter\",\"Sports\",\"Action\",\"Fighting\",\"Platform\",\"Puzzle\",\"Shooter\",\"Simulation\",\"Sports\",\"Action\",\"Platform\",\"Racing\",\"Role-Playing\",\"Shooter\",\"Sports\",\"Action\",\"Adventure\",\"Fighting\",\"Platform\",\"Role-Playing\",\"Shooter\",\"Sports\",\"Action\",\"Platform\",\"Puzzle\",\"Racing\",\"Role-Playing\",\"Shooter\",\"Simulation\",\"Sports\",\"Action\",\"Misc\",\"Platform\",\"Puzzle\",\"Role-Playing\",\"Shooter\",\"Sports\",\"Action\",\"Platform\",\"Puzzle\",\"Racing\",\"Role-Playing\",\"Simulation\",\"Sports\",\"Action\",\"Adventure\",\"Fighting\",\"Misc\",\"Platform\",\"Puzzle\",\"Racing\",\"Role-Playing\",\"Shooter\",\"Simulation\",\"Sports\",\"Strategy\",\"Action\",\"Adventure\",\"Fighting\",\"Misc\",\"Platform\",\"Puzzle\",\"Racing\",\"Role-Playing\",\"Shooter\",\"Simulation\",\"Sports\",\"Strategy\",\"Action\",\"Adventure\",\"Fighting\",\"Misc\",\"Platform\",\"Puzzle\",\"Racing\",\"Role-Playing\",\"Shooter\",\"Simulation\",\"Sports\",\"Strategy\",\"Action\",\"Adventure\",\"Fighting\",\"Misc\",\"Platform\",\"Puzzle\",\"Racing\",\"Role-Playing\",\"Shooter\",\"Simulation\",\"Sports\",\"Strategy\",\"Action\",\"Adventure\",\"Fighting\",\"Misc\",\"Platform\",\"Puzzle\",\"Racing\",\"Role-Playing\",\"Shooter\",\"Simulation\",\"Sports\",\"Strategy\",\"Action\",\"Adventure\",\"Fighting\",\"Misc\",\"Platform\",\"Puzzle\",\"Racing\",\"Role-Playing\",\"Shooter\",\"Simulation\",\"Sports\",\"Strategy\",\"Action\",\"Adventure\",\"Fighting\",\"Misc\",\"Platform\",\"Puzzle\",\"Racing\",\"Role-Playing\",\"Shooter\",\"Simulation\",\"Sports\",\"Strategy\",\"Action\",\"Adventure\",\"Fighting\",\"Misc\",\"Platform\",\"Puzzle\",\"Racing\",\"Role-Playing\",\"Shooter\",\"Simulation\",\"Sports\",\"Strategy\",\"Action\",\"Adventure\",\"Fighting\",\"Misc\",\"Platform\",\"Puzzle\",\"Racing\",\"Role-Playing\",\"Shooter\",\"Simulation\",\"Sports\",\"Strategy\",\"Action\",\"Adventure\",\"Fighting\",\"Misc\",\"Platform\",\"Puzzle\",\"Racing\",\"Role-Playing\",\"Shooter\",\"Simulation\",\"Sports\",\"Strategy\",\"Action\",\"Adventure\",\"Fighting\",\"Misc\",\"Platform\",\"Puzzle\",\"Racing\",\"Role-Playing\",\"Shooter\",\"Simulation\",\"Sports\",\"Strategy\",\"Action\",\"Adventure\",\"Fighting\",\"Misc\",\"Platform\",\"Puzzle\",\"Racing\",\"Role-Playing\",\"Shooter\",\"Simulation\",\"Sports\",\"Strategy\",\"Action\",\"Adventure\",\"Fighting\",\"Misc\",\"Platform\",\"Puzzle\",\"Racing\",\"Role-Playing\",\"Shooter\",\"Simulation\",\"Sports\",\"Strategy\",\"Action\",\"Adventure\",\"Fighting\",\"Misc\",\"Platform\",\"Puzzle\",\"Racing\",\"Role-Playing\",\"Shooter\",\"Simulation\",\"Sports\",\"Strategy\",\"Action\",\"Adventure\",\"Fighting\",\"Misc\",\"Platform\",\"Puzzle\",\"Racing\",\"Role-Playing\",\"Shooter\",\"Simulation\",\"Sports\",\"Strategy\",\"Action\",\"Adventure\",\"Fighting\",\"Misc\",\"Platform\",\"Puzzle\",\"Racing\",\"Role-Playing\",\"Shooter\",\"Simulation\",\"Sports\",\"Strategy\",\"Action\",\"Adventure\",\"Fighting\",\"Misc\",\"Platform\",\"Puzzle\",\"Racing\",\"Role-Playing\",\"Shooter\",\"Simulation\",\"Sports\",\"Strategy\",\"Action\",\"Adventure\",\"Fighting\",\"Misc\",\"Platform\",\"Puzzle\",\"Racing\",\"Role-Playing\",\"Shooter\",\"Simulation\",\"Sports\",\"Strategy\",\"Action\",\"Adventure\",\"Fighting\",\"Misc\",\"Platform\",\"Puzzle\",\"Racing\",\"Role-Playing\",\"Shooter\",\"Simulation\",\"Sports\",\"Strategy\",\"Action\",\"Adventure\",\"Fighting\",\"Misc\",\"Platform\",\"Puzzle\",\"Racing\",\"Role-Playing\",\"Shooter\",\"Simulation\",\"Sports\",\"Strategy\",\"Action\",\"Adventure\",\"Fighting\",\"Misc\",\"Platform\",\"Puzzle\",\"Racing\",\"Role-Playing\",\"Shooter\",\"Simulation\",\"Sports\",\"Strategy\",\"Action\",\"Adventure\",\"Fighting\",\"Misc\",\"Platform\",\"Puzzle\",\"Racing\",\"Role-Playing\",\"Shooter\",\"Simulation\",\"Sports\",\"Strategy\",\"Action\",\"Adventure\",\"Fighting\",\"Misc\",\"Platform\",\"Puzzle\",\"Racing\",\"Role-Playing\",\"Shooter\",\"Simulation\",\"Sports\",\"Strategy\",\"Action\",\"Adventure\",\"Fighting\",\"Misc\",\"Platform\",\"Puzzle\",\"Racing\",\"Role-Playing\",\"Shooter\",\"Simulation\",\"Sports\",\"Strategy\",\"Action\",\"Adventure\",\"Fighting\",\"Misc\",\"Platform\",\"Puzzle\",\"Racing\",\"Role-Playing\",\"Shooter\",\"Simulation\",\"Sports\",\"Strategy\",\"Action\",\"Adventure\",\"Fighting\",\"Misc\",\"Platform\",\"Puzzle\",\"Racing\",\"Role-Playing\",\"Shooter\",\"Simulation\",\"Sports\",\"Strategy\",\"Action\",\"Role-Playing\",\"Simulation\"],\"index\":[0,1,2,3,4,5,6,7,8,9,10,11,12,13,14,15,16,17,18,19,20,21,22,23,24,25,26,27,28,29,30,31,32,33,34,35,36,37,38,39,40,41,42,43,44,45,46,47,48,49,50,51,52,53,54,55,56,57,58,59,60,61,62,63,64,65,66,67,68,69,70,71,72,73,74,75,76,77,78,79,80,81,82,83,84,85,86,87,88,89,90,91,92,93,94,95,96,97,98,99,100,101,102,103,104,105,106,107,108,109,110,111,112,113,114,115,116,117,118,119,120,121,122,123,124,125,126,127,128,129,130,131,132,133,134,135,136,137,138,139,140,141,142,143,144,145,146,147,148,149,150,151,152,153,154,155,156,157,158,159,160,161,162,163,164,165,166,167,168,169,170,171,172,173,174,175,176,177,178,179,180,181,182,183,184,185,186,187,188,189,190,191,192,193,194,195,196,197,198,199,200,201,202,203,204,205,206,207,208,209,210,211,212,213,214,215,216,217,218,219,220,221,222,223,224,225,226,227,228,229,230,231,232,233,234,235,236,237,238,239,240,241,242,243,244,245,246,247,248,249,250,251,252,253,254,255,256,257,258,259,260,261,262,263,264,265,266,267,268,269,270,271,272,273,274,275,276,277,278,279,280,281,282,283,284,285,286,287,288,289,290,291,292,293,294,295,296,297,298,299,300,301,302,303,304,305,306,307,308,309,310,311,312,313,314,315,316,317,318,319,320,321,322,323,324,325,326,327,328,329,330,331,332,333,334,335,336,337,338,339,340,341,342,343,344,345,346,347,348,349,350,351,352,353,354,355,356,357,358,359,360,361,362,363,364,365,366,367,368,369,370,371,372,373,374,375,376,377,378,379,380,381,382,383,384,385,386,387,388,389,390,391,392,393,394,395,396,397,398,399,400,401,402,403,404,405,406,407,408,409,410,411,412,413,414,415,416,417,418,419,420,421,422,423,424,425,426,427,428,429,430,431,432,433,434,435,436,437,438,439,440,441,442,443,444,445,446,447,448,449,450,451,452,453,454,455,456,457,458,459,460,461,462,463,464,465,466,467,468,469,470,471,472,473,474,475,476,477,478,479,480,481,482,483,484,485,486,487,488,489,490,491,492,493,494,495,496,497,498,499,500,501,502,503,504,505,506,507,508,509,510,511,512,513,514,515,516,517,518,519,520,521,522,523,524,525,526,527,528,529,530,531,532,533,534,535,536,537,538,539,540,541,542,543,544,545,546,547,548,549,550,551,552,553,554,555,556,557,558,559,560,561,562,563,564,565,566,567,568,569,570,571,572,573,574,575,576,577,578,579,580,581,582,583,584,585,586,587,588,589,590,591,592,593,594,595,596,597,598,599,600,601,602,603,604,605,606,607,608,609,610,611,612,613,614,615,616,617,618,619,620,621,622,623,624,625,626,627,628,629,630,631,632,633,634,635,636,637,638,639,640,641,642,643,644,645,646,647,648,649,650,651,652,653,654,655,656,657,658,659,660,661,662,663,664,665,666,667,668,669,670,671,672,673,674,675,676,677,678,679,680,681,682,683,684,685,686,687,688,689,690,691,692,693,694,695,696,697,698,699,700,701,702,703,704,705,706,707,708,709,710,711,712,713,714,715,716,717,718,719,720,721,722,723,724,725,726,727,728,729,730,731,732,733,734,735,736,737,738,739,740,741,742,743,744,745,746,747,748,749,750,751,752,753,754,755,756,757,758,759,760,761,762,763,764,765,766,767,768,769,770,771,772,773,774,775,776,777,778,779,780,781,782,783,784,785,786,787,788,789,790,791,792,793,794,795,796,797,798,799,800,801,802,803,804,805,806,807,808,809,810,811,812,813,814,815,816,817,818,819,820,821,822,823,824,825,826,827,828,829,830,831,832,833,834,835,836,837,838,839,840,841,842,843,844,845,846,847,848,849,850,851,852,853,854,855,856,857,858,859,860,861,862,863,864,865,866,867,868,869,870,871,872,873,874,875,876,877,878,879,880,881,882,883,884,885,886,887,888,889,890,891,892,893,894,895,896,897,898,899,900,901,902,903,904,905,906,907,908,909,910,911,912,913,914,915,916,917,918,919,920,921,922,923,924,925,926,927,928,929,930,931,932,933,934,935,936,937,938,939,940,941,942,943,944,945,946,947,948,949,950,951,952,953,954,955,956,957,958,959,960,961,962,963,964,965,966,967,968,969,970,971,972,973,974,975,976,977,978,979,980,981,982,983,984,985,986,987,988,989,990,991,992,993,994,995,996,997,998,999,1000,1001,1002,1003,1004,1005,1006,1007,1008,1009,1010,1011,1012,1013,1014,1015,1016,1017,1018,1019,1020,1021,1022,1023,1024,1025,1026,1027,1028,1029,1030,1031,1032,1033,1034,1035,1036,1037,1038,1039,1040,1041,1042,1043,1044,1045,1046,1047,1048,1049,1050,1051,1052,1053,1054,1055,1056,1057,1058,1059,1060,1061,1062,1063,1064,1065,1066,1067,1068,1069,1070,1071,1072,1073,1074,1075,1076,1077,1078,1079,1080,1081,1082,1083,1084,1085,1086,1087,1088,1089,1090,1091,1092,1093,1094,1095,1096,1097,1098,1099,1100,1101,1102,1103,1104,1105,1106,1107,1108,1109,1110,1111,1112,1113,1114,1115,1116,1117,1118,1119,1120,1121,1122,1123,1124,1125,1126,1127,1128,1129,1130,1131,1132,1133,1134,1135,1136,1137,1138,1139,1140,1141,1142,1143,1144,1145,1146,1147,1148,1149,1150,1151,1152,1153,1154,1155,1156,1157,1158,1159,1160,1161,1162,1163,1164,1165,1166,1167,1168,1169,1170,1171,1172,1173,1174,1175,1176,1177,1178,1179,1180,1181,1182,1183,1184,1185,1186,1187,1188,1189,1190,1191,1192,1193,1194,1195,1196,1197,1198,1199,1200,1201,1202,1203,1204,1205,1206,1207,1208,1209,1210,1211,1212,1213,1214,1215,1216,1217,1218,1219,1220,1221,1222,1223,1224,1225,1226,1227,1228,1229,1230,1231,1232,1233,1234,1235,1236,1237,1238,1239,1240,1241,1242,1243,1244,1245,1246,1247,1248,1249,1250,1251,1252,1253,1254,1255,1256,1257,1258,1259,1260,1261,1262,1263,1264,1265,1266,1267,1268,1269,1270,1271,1272,1273,1274,1275,1276,1277,1278,1279,1280,1281,1282,1283,1284,1285,1286,1287,1288,1289,1290,1291,1292,1293,1294,1295,1296,1297,1298,1299,1300,1301,1302,1303,1304,1305,1306,1307,1308,1309,1310,1311,1312,1313,1314,1315,1316,1317,1318,1319,1320,1321,1322,1323,1324,1325,1326,1327,1328,1329,1330,1331,1332,1333,1334,1335,1336,1337,1338,1339,1340,1341,1342,1343,1344,1345,1346,1347,1348,1349,1350,1351,1352,1353,1354,1355,1356,1357,1358,1359,1360,1361,1362,1363,1364,1365,1366,1367,1368,1369,1370,1371,1372,1373,1374,1375,1376,1377,1378,1379,1380,1381,1382,1383,1384,1385,1386,1387,1388,1389,1390,1391,1392,1393,1394,1395,1396,1397,1398,1399,1400,1401,1402,1403,1404,1405,1406,1407,1408,1409,1410,1411,1412,1413,1414,1415,1416,1417,1418,1419,1420,1421,1422,1423,1424,1425,1426,1427,1428,1429,1430,1431,1432,1433,1434,1435,1436,1437,1438,1439,1440,1441,1442,1443,1444,1445,1446,1447,1448,1449,1450,1451,1452,1453,1454,1455,1456,1457,1458,1459,1460,1461,1462,1463,1464,1465,1466,1467,1468,1469,1470,1471,1472,1473,1474,1475,1476,1477,1478,1479,1480,1481,1482,1483,1484,1485,1486,1487,1488,1489,1490,1491,1492,1493,1494,1495,1496,1497,1498,1499,1500,1501,1502,1503,1504,1505,1506,1507,1508,1509,1510,1511,1512,1513,1514,1515,1516,1517,1518,1519,1520,1521,1522,1523,1524,1525,1526,1527,1528,1529,1530,1531,1532,1533,1534,1535,1536,1537,1538,1539,1540,1541,1542,1543,1544,1545,1546,1547,1548,1549,1550,1551,1552,1553,1554,1555,1556,1557,1558,1559,1560,1561,1562,1563,1564,1565,1566,1567,1568,1569,1570,1571,1572,1573,1574,1575,1576,1577,1578,1579,1580,1581,1582,1583,1584,1585,1586,1587,1588,1589,1590,1591,1592,1593,1594,1595,1596,1597,1598,1599,1600,1601,1602,1603,1604,1605,1606,1607,1608,1609,1610,1611,1612,1613,1614,1615,1616,1617,1618,1619,1620,1621,1622,1623,1624,1625,1626,1627,1628,1629,1630,1631,1632,1633,1634,1635,1636,1637,1638,1639,1640,1641,1642,1643,1644,1645,1646,1647,1648,1649,1650,1651,1652,1653,1654,1655,1656,1657,1658,1659,1660,1661,1662,1663,1664,1665,1666,1667,1668,1669,1670,1671,1672,1673,1674,1675,1676,1677,1678,1679,1680,1681,1682,1683,1684,1685,1686,1687,1688,1689,1690,1691,1692,1693,1694,1695,1696,1697,1698,1699,1700,1701,1702,1703,1704,1705,1706,1707,1708,1709,1710,1711,1712,1713,1714,1715,1716,1717,1718,1719,1720,1721,1722,1723,1724,1725,1726,1727,1728,1729,1730,1731,1732,1733,1734,1735,1736,1737,1738,1739,1740,1741,1742,1743,1744,1745,1746,1747,1748,1749,1750,1751,1752,1753,1754,1755,1756,1757,1758,1759,1760,1761,1762,1763,1764,1765,1766,1767,1768,1769,1770,1771,1772,1773,1774,1775,1776,1777,1778,1779,1780,1781,1782,1783,1784,1785,1786,1787,1788,1789,1790,1791,1792,1793,1794,1795,1796,1797,1798,1799,1800,1801,1802,1803,1804,1805,1806,1807,1808,1809,1810,1811,1812,1813,1814,1815,1816,1817,1818,1819,1820,1821,1822,1823,1824,1825,1826,1827,1828,1829,1830,1831,1832,1833,1834,1835,1836,1837,1838,1839,1840,1841,1842,1843,1844,1845,1846,1847,1848,1849,1850,1851,1852,1853,1854,1855,1856,1857,1858,1859,1860,1861,1862,1863,1864,1865,1866,1867,1868,1869,1870,1871,1872,1873,1874,1875,1876,1877,1878,1879,1880,1881,1882,1883,1884,1885,1886,1887,1888,1889,1890,1891,1892,1893,1894,1895,1896,1897,1898,1899,1900,1901,1902,1903,1904,1905,1906,1907,1908,1909,1910,1911,1912,1913,1914,1915,1916,1917,1918,1919,1920,1921,1922,1923,1924,1925,1926,1927,1928,1929,1930,1931,1932,1933,1934,1935,1936,1937,1938,1939,1940,1941,1942,1943,1944,1945,1946,1947,1948,1949],\"region\":[\"North America\",\"North America\",\"North America\",\"North America\",\"North America\",\"North America\",\"North America\",\"North America\",\"North America\",\"North America\",\"North America\",\"North America\",\"North America\",\"North America\",\"North America\",\"North America\",\"North America\",\"North America\",\"North America\",\"North America\",\"North America\",\"North America\",\"North America\",\"North America\",\"North America\",\"North America\",\"North America\",\"North America\",\"North America\",\"North America\",\"North America\",\"North America\",\"North America\",\"North America\",\"North America\",\"North America\",\"North America\",\"North America\",\"North America\",\"North America\",\"North America\",\"North America\",\"North America\",\"North America\",\"North America\",\"North America\",\"North America\",\"North America\",\"North America\",\"North America\",\"North America\",\"North America\",\"North America\",\"North America\",\"North America\",\"North America\",\"North America\",\"North America\",\"North America\",\"North America\",\"North America\",\"North America\",\"North America\",\"North America\",\"North America\",\"North America\",\"North America\",\"North America\",\"North America\",\"North America\",\"North America\",\"North America\",\"North America\",\"North America\",\"North America\",\"North America\",\"North America\",\"North America\",\"North America\",\"North America\",\"North America\",\"North America\",\"North America\",\"North America\",\"North America\",\"North America\",\"North America\",\"North America\",\"North America\",\"North America\",\"North America\",\"North America\",\"North America\",\"North America\",\"North America\",\"North America\",\"North America\",\"North America\",\"North America\",\"North America\",\"North America\",\"North America\",\"North America\",\"North America\",\"North America\",\"North America\",\"North America\",\"North America\",\"North America\",\"North America\",\"North America\",\"North America\",\"North America\",\"North America\",\"North America\",\"North America\",\"North America\",\"North America\",\"North America\",\"North America\",\"North America\",\"North America\",\"North America\",\"North America\",\"North America\",\"North America\",\"North America\",\"North America\",\"North America\",\"North America\",\"North America\",\"North America\",\"North America\",\"North America\",\"North America\",\"North America\",\"North America\",\"North America\",\"North America\",\"North America\",\"North America\",\"North America\",\"North America\",\"North America\",\"North America\",\"North America\",\"North America\",\"North America\",\"North America\",\"North America\",\"North America\",\"North America\",\"North America\",\"North America\",\"North America\",\"North America\",\"North America\",\"North America\",\"North America\",\"North America\",\"North America\",\"North America\",\"North America\",\"North America\",\"North America\",\"North America\",\"North America\",\"North America\",\"North America\",\"North America\",\"North America\",\"North America\",\"North America\",\"North America\",\"North America\",\"North America\",\"North America\",\"North America\",\"North America\",\"North America\",\"North America\",\"North America\",\"North America\",\"North America\",\"North America\",\"North America\",\"North America\",\"North America\",\"North America\",\"North America\",\"North America\",\"North America\",\"North America\",\"North America\",\"North America\",\"North America\",\"North America\",\"North America\",\"North America\",\"North America\",\"North America\",\"North America\",\"North America\",\"North America\",\"North America\",\"North America\",\"North America\",\"North America\",\"North America\",\"North America\",\"North America\",\"North America\",\"North America\",\"North America\",\"North America\",\"North America\",\"North America\",\"North America\",\"North America\",\"North America\",\"North America\",\"North America\",\"North America\",\"North America\",\"North America\",\"North America\",\"North America\",\"North America\",\"North America\",\"North America\",\"North America\",\"North America\",\"North America\",\"North America\",\"North America\",\"North America\",\"North America\",\"North America\",\"North America\",\"North America\",\"North America\",\"North America\",\"North America\",\"North America\",\"North America\",\"North America\",\"North America\",\"North America\",\"North America\",\"North America\",\"North America\",\"North America\",\"North America\",\"North America\",\"North America\",\"North America\",\"North America\",\"North America\",\"North America\",\"North America\",\"North America\",\"North America\",\"North America\",\"North America\",\"North America\",\"North America\",\"North America\",\"North America\",\"North America\",\"North America\",\"North America\",\"North America\",\"North America\",\"North America\",\"North America\",\"North America\",\"North America\",\"North America\",\"North America\",\"North America\",\"North America\",\"North America\",\"North America\",\"North America\",\"North America\",\"North America\",\"North America\",\"North America\",\"North America\",\"North America\",\"North America\",\"North America\",\"North America\",\"North America\",\"North America\",\"North America\",\"North America\",\"North America\",\"North America\",\"North America\",\"North America\",\"North America\",\"North America\",\"North America\",\"North America\",\"North America\",\"North America\",\"North America\",\"North America\",\"North America\",\"North America\",\"North America\",\"North America\",\"North America\",\"North America\",\"North America\",\"North America\",\"North America\",\"North America\",\"North America\",\"North America\",\"North America\",\"North America\",\"North America\",\"North America\",\"North America\",\"North America\",\"North America\",\"North America\",\"North America\",\"North America\",\"North America\",\"North America\",\"North America\",\"North America\",\"North America\",\"North America\",\"North America\",\"North America\",\"North America\",\"North America\",\"North America\",\"North America\",\"North America\",\"North America\",\"North America\",\"North America\",\"North America\",\"North America\",\"North America\",\"North America\",\"North America\",\"North America\",\"North America\",\"North America\",\"North America\",\"North America\",\"North America\",\"North America\",\"North America\",\"North America\",\"North America\",\"North America\",\"North America\",\"North America\",\"North America\",\"North America\",\"North America\",\"North America\",\"North America\",\"North America\",\"North America\",\"North America\",\"North America\",\"North America\",\"North America\",\"North America\",\"North America\",\"North America\",\"North America\",\"North America\",\"North America\",\"North America\",\"North America\",\"North America\",\"North America\",\"North America\",\"North America\",\"North America\",\"North America\",\"European Union\",\"European Union\",\"European Union\",\"European Union\",\"European Union\",\"European Union\",\"European Union\",\"European Union\",\"European Union\",\"European Union\",\"European Union\",\"European Union\",\"European Union\",\"European Union\",\"European Union\",\"European Union\",\"European Union\",\"European Union\",\"European Union\",\"European Union\",\"European Union\",\"European Union\",\"European Union\",\"European Union\",\"European Union\",\"European Union\",\"European Union\",\"European Union\",\"European Union\",\"European Union\",\"European Union\",\"European Union\",\"European Union\",\"European Union\",\"European Union\",\"European Union\",\"European Union\",\"European Union\",\"European Union\",\"European Union\",\"European Union\",\"European Union\",\"European Union\",\"European Union\",\"European Union\",\"European Union\",\"European Union\",\"European Union\",\"European Union\",\"European Union\",\"European Union\",\"European Union\",\"European Union\",\"European Union\",\"European Union\",\"European Union\",\"European Union\",\"European Union\",\"European Union\",\"European Union\",\"European Union\",\"European Union\",\"European Union\",\"European Union\",\"European Union\",\"European Union\",\"European Union\",\"European Union\",\"European Union\",\"European Union\",\"European Union\",\"European Union\",\"European Union\",\"European Union\",\"European Union\",\"European Union\",\"European Union\",\"European Union\",\"European Union\",\"European Union\",\"European Union\",\"European Union\",\"European Union\",\"European Union\",\"European Union\",\"European Union\",\"European Union\",\"European Union\",\"European Union\",\"European Union\",\"European Union\",\"European Union\",\"European Union\",\"European Union\",\"European Union\",\"European Union\",\"European Union\",\"European Union\",\"European Union\",\"European Union\",\"European Union\",\"European Union\",\"European Union\",\"European Union\",\"European Union\",\"European Union\",\"European Union\",\"European Union\",\"European Union\",\"European Union\",\"European Union\",\"European Union\",\"European Union\",\"European Union\",\"European Union\",\"European Union\",\"European Union\",\"European Union\",\"European Union\",\"European Union\",\"European Union\",\"European Union\",\"European Union\",\"European Union\",\"European Union\",\"European Union\",\"European Union\",\"European Union\",\"European Union\",\"European Union\",\"European Union\",\"European Union\",\"European Union\",\"European Union\",\"European Union\",\"European Union\",\"European Union\",\"European Union\",\"European Union\",\"European Union\",\"European Union\",\"European Union\",\"European Union\",\"European Union\",\"European Union\",\"European Union\",\"European Union\",\"European Union\",\"European Union\",\"European Union\",\"European Union\",\"European Union\",\"European Union\",\"European Union\",\"European Union\",\"European Union\",\"European Union\",\"European Union\",\"European Union\",\"European Union\",\"European Union\",\"European Union\",\"European Union\",\"European Union\",\"European Union\",\"European Union\",\"European Union\",\"European Union\",\"European Union\",\"European Union\",\"European Union\",\"European Union\",\"European Union\",\"European Union\",\"European Union\",\"European Union\",\"European Union\",\"European Union\",\"European Union\",\"European Union\",\"European Union\",\"European Union\",\"European Union\",\"European Union\",\"European Union\",\"European Union\",\"European Union\",\"European Union\",\"European Union\",\"European Union\",\"European Union\",\"European Union\",\"European Union\",\"European Union\",\"European Union\",\"European Union\",\"European Union\",\"European Union\",\"European Union\",\"European Union\",\"European Union\",\"European Union\",\"European Union\",\"European Union\",\"European Union\",\"European Union\",\"European Union\",\"European Union\",\"European Union\",\"European Union\",\"European Union\",\"European Union\",\"European Union\",\"European Union\",\"European Union\",\"European Union\",\"European Union\",\"European Union\",\"European Union\",\"European Union\",\"European Union\",\"European Union\",\"European Union\",\"European Union\",\"European Union\",\"European Union\",\"European Union\",\"European Union\",\"European Union\",\"European Union\",\"European Union\",\"European Union\",\"European Union\",\"European Union\",\"European Union\",\"European Union\",\"European Union\",\"European Union\",\"European Union\",\"European Union\",\"European Union\",\"European Union\",\"European Union\",\"European Union\",\"European Union\",\"European Union\",\"European Union\",\"European Union\",\"European Union\",\"European Union\",\"European Union\",\"European Union\",\"European Union\",\"European Union\",\"European Union\",\"European Union\",\"European Union\",\"European Union\",\"European Union\",\"European Union\",\"European Union\",\"European Union\",\"European Union\",\"European Union\",\"European Union\",\"European Union\",\"European Union\",\"European Union\",\"European Union\",\"European Union\",\"European Union\",\"European Union\",\"European Union\",\"European Union\",\"European Union\",\"European Union\",\"European Union\",\"European Union\",\"European Union\",\"European Union\",\"European Union\",\"European Union\",\"European Union\",\"European Union\",\"European Union\",\"European Union\",\"European Union\",\"European Union\",\"European Union\",\"European Union\",\"European Union\",\"European Union\",\"European Union\",\"European Union\",\"European Union\",\"European Union\",\"European Union\",\"European Union\",\"European Union\",\"European Union\",\"European Union\",\"European Union\",\"European Union\",\"European Union\",\"European Union\",\"European Union\",\"European Union\",\"European Union\",\"European Union\",\"European Union\",\"European Union\",\"European Union\",\"European Union\",\"European Union\",\"European Union\",\"European Union\",\"European Union\",\"European Union\",\"European Union\",\"European Union\",\"European Union\",\"European Union\",\"European Union\",\"European Union\",\"European Union\",\"European Union\",\"European Union\",\"European Union\",\"European Union\",\"European Union\",\"European Union\",\"European Union\",\"European Union\",\"European Union\",\"European Union\",\"European Union\",\"European Union\",\"European Union\",\"European Union\",\"European Union\",\"European Union\",\"European Union\",\"European Union\",\"European Union\",\"European Union\",\"European Union\",\"European Union\",\"European Union\",\"European Union\",\"European Union\",\"European Union\",\"European Union\",\"European Union\",\"European Union\",\"European Union\",\"European Union\",\"European Union\",\"European Union\",\"European Union\",\"European Union\",\"European Union\",\"European Union\",\"European Union\",\"European Union\",\"European Union\",\"European Union\",\"European Union\",\"European Union\",\"European Union\",\"European Union\",\"European Union\",\"European Union\",\"European Union\",\"European Union\",\"European Union\",\"European Union\",\"European Union\",\"European Union\",\"European Union\",\"European Union\",\"European Union\",\"European Union\",\"European Union\",\"European Union\",\"European Union\",\"European Union\",\"European Union\",\"European Union\",\"European Union\",\"European Union\",\"Japan\",\"Japan\",\"Japan\",\"Japan\",\"Japan\",\"Japan\",\"Japan\",\"Japan\",\"Japan\",\"Japan\",\"Japan\",\"Japan\",\"Japan\",\"Japan\",\"Japan\",\"Japan\",\"Japan\",\"Japan\",\"Japan\",\"Japan\",\"Japan\",\"Japan\",\"Japan\",\"Japan\",\"Japan\",\"Japan\",\"Japan\",\"Japan\",\"Japan\",\"Japan\",\"Japan\",\"Japan\",\"Japan\",\"Japan\",\"Japan\",\"Japan\",\"Japan\",\"Japan\",\"Japan\",\"Japan\",\"Japan\",\"Japan\",\"Japan\",\"Japan\",\"Japan\",\"Japan\",\"Japan\",\"Japan\",\"Japan\",\"Japan\",\"Japan\",\"Japan\",\"Japan\",\"Japan\",\"Japan\",\"Japan\",\"Japan\",\"Japan\",\"Japan\",\"Japan\",\"Japan\",\"Japan\",\"Japan\",\"Japan\",\"Japan\",\"Japan\",\"Japan\",\"Japan\",\"Japan\",\"Japan\",\"Japan\",\"Japan\",\"Japan\",\"Japan\",\"Japan\",\"Japan\",\"Japan\",\"Japan\",\"Japan\",\"Japan\",\"Japan\",\"Japan\",\"Japan\",\"Japan\",\"Japan\",\"Japan\",\"Japan\",\"Japan\",\"Japan\",\"Japan\",\"Japan\",\"Japan\",\"Japan\",\"Japan\",\"Japan\",\"Japan\",\"Japan\",\"Japan\",\"Japan\",\"Japan\",\"Japan\",\"Japan\",\"Japan\",\"Japan\",\"Japan\",\"Japan\",\"Japan\",\"Japan\",\"Japan\",\"Japan\",\"Japan\",\"Japan\",\"Japan\",\"Japan\",\"Japan\",\"Japan\",\"Japan\",\"Japan\",\"Japan\",\"Japan\",\"Japan\",\"Japan\",\"Japan\",\"Japan\",\"Japan\",\"Japan\",\"Japan\",\"Japan\",\"Japan\",\"Japan\",\"Japan\",\"Japan\",\"Japan\",\"Japan\",\"Japan\",\"Japan\",\"Japan\",\"Japan\",\"Japan\",\"Japan\",\"Japan\",\"Japan\",\"Japan\",\"Japan\",\"Japan\",\"Japan\",\"Japan\",\"Japan\",\"Japan\",\"Japan\",\"Japan\",\"Japan\",\"Japan\",\"Japan\",\"Japan\",\"Japan\",\"Japan\",\"Japan\",\"Japan\",\"Japan\",\"Japan\",\"Japan\",\"Japan\",\"Japan\",\"Japan\",\"Japan\",\"Japan\",\"Japan\",\"Japan\",\"Japan\",\"Japan\",\"Japan\",\"Japan\",\"Japan\",\"Japan\",\"Japan\",\"Japan\",\"Japan\",\"Japan\",\"Japan\",\"Japan\",\"Japan\",\"Japan\",\"Japan\",\"Japan\",\"Japan\",\"Japan\",\"Japan\",\"Japan\",\"Japan\",\"Japan\",\"Japan\",\"Japan\",\"Japan\",\"Japan\",\"Japan\",\"Japan\",\"Japan\",\"Japan\",\"Japan\",\"Japan\",\"Japan\",\"Japan\",\"Japan\",\"Japan\",\"Japan\",\"Japan\",\"Japan\",\"Japan\",\"Japan\",\"Japan\",\"Japan\",\"Japan\",\"Japan\",\"Japan\",\"Japan\",\"Japan\",\"Japan\",\"Japan\",\"Japan\",\"Japan\",\"Japan\",\"Japan\",\"Japan\",\"Japan\",\"Japan\",\"Japan\",\"Japan\",\"Japan\",\"Japan\",\"Japan\",\"Japan\",\"Japan\",\"Japan\",\"Japan\",\"Japan\",\"Japan\",\"Japan\",\"Japan\",\"Japan\",\"Japan\",\"Japan\",\"Japan\",\"Japan\",\"Japan\",\"Japan\",\"Japan\",\"Japan\",\"Japan\",\"Japan\",\"Japan\",\"Japan\",\"Japan\",\"Japan\",\"Japan\",\"Japan\",\"Japan\",\"Japan\",\"Japan\",\"Japan\",\"Japan\",\"Japan\",\"Japan\",\"Japan\",\"Japan\",\"Japan\",\"Japan\",\"Japan\",\"Japan\",\"Japan\",\"Japan\",\"Japan\",\"Japan\",\"Japan\",\"Japan\",\"Japan\",\"Japan\",\"Japan\",\"Japan\",\"Japan\",\"Japan\",\"Japan\",\"Japan\",\"Japan\",\"Japan\",\"Japan\",\"Japan\",\"Japan\",\"Japan\",\"Japan\",\"Japan\",\"Japan\",\"Japan\",\"Japan\",\"Japan\",\"Japan\",\"Japan\",\"Japan\",\"Japan\",\"Japan\",\"Japan\",\"Japan\",\"Japan\",\"Japan\",\"Japan\",\"Japan\",\"Japan\",\"Japan\",\"Japan\",\"Japan\",\"Japan\",\"Japan\",\"Japan\",\"Japan\",\"Japan\",\"Japan\",\"Japan\",\"Japan\",\"Japan\",\"Japan\",\"Japan\",\"Japan\",\"Japan\",\"Japan\",\"Japan\",\"Japan\",\"Japan\",\"Japan\",\"Japan\",\"Japan\",\"Japan\",\"Japan\",\"Japan\",\"Japan\",\"Japan\",\"Japan\",\"Japan\",\"Japan\",\"Japan\",\"Japan\",\"Japan\",\"Japan\",\"Japan\",\"Japan\",\"Japan\",\"Japan\",\"Japan\",\"Japan\",\"Japan\",\"Japan\",\"Japan\",\"Japan\",\"Japan\",\"Japan\",\"Japan\",\"Japan\",\"Japan\",\"Japan\",\"Japan\",\"Japan\",\"Japan\",\"Japan\",\"Japan\",\"Japan\",\"Japan\",\"Japan\",\"Japan\",\"Japan\",\"Japan\",\"Japan\",\"Japan\",\"Japan\",\"Japan\",\"Japan\",\"Japan\",\"Japan\",\"Japan\",\"Japan\",\"Japan\",\"Japan\",\"Japan\",\"Japan\",\"Japan\",\"Japan\",\"Japan\",\"Japan\",\"Japan\",\"Japan\",\"Japan\",\"Japan\",\"Other\",\"Other\",\"Other\",\"Other\",\"Other\",\"Other\",\"Other\",\"Other\",\"Other\",\"Other\",\"Other\",\"Other\",\"Other\",\"Other\",\"Other\",\"Other\",\"Other\",\"Other\",\"Other\",\"Other\",\"Other\",\"Other\",\"Other\",\"Other\",\"Other\",\"Other\",\"Other\",\"Other\",\"Other\",\"Other\",\"Other\",\"Other\",\"Other\",\"Other\",\"Other\",\"Other\",\"Other\",\"Other\",\"Other\",\"Other\",\"Other\",\"Other\",\"Other\",\"Other\",\"Other\",\"Other\",\"Other\",\"Other\",\"Other\",\"Other\",\"Other\",\"Other\",\"Other\",\"Other\",\"Other\",\"Other\",\"Other\",\"Other\",\"Other\",\"Other\",\"Other\",\"Other\",\"Other\",\"Other\",\"Other\",\"Other\",\"Other\",\"Other\",\"Other\",\"Other\",\"Other\",\"Other\",\"Other\",\"Other\",\"Other\",\"Other\",\"Other\",\"Other\",\"Other\",\"Other\",\"Other\",\"Other\",\"Other\",\"Other\",\"Other\",\"Other\",\"Other\",\"Other\",\"Other\",\"Other\",\"Other\",\"Other\",\"Other\",\"Other\",\"Other\",\"Other\",\"Other\",\"Other\",\"Other\",\"Other\",\"Other\",\"Other\",\"Other\",\"Other\",\"Other\",\"Other\",\"Other\",\"Other\",\"Other\",\"Other\",\"Other\",\"Other\",\"Other\",\"Other\",\"Other\",\"Other\",\"Other\",\"Other\",\"Other\",\"Other\",\"Other\",\"Other\",\"Other\",\"Other\",\"Other\",\"Other\",\"Other\",\"Other\",\"Other\",\"Other\",\"Other\",\"Other\",\"Other\",\"Other\",\"Other\",\"Other\",\"Other\",\"Other\",\"Other\",\"Other\",\"Other\",\"Other\",\"Other\",\"Other\",\"Other\",\"Other\",\"Other\",\"Other\",\"Other\",\"Other\",\"Other\",\"Other\",\"Other\",\"Other\",\"Other\",\"Other\",\"Other\",\"Other\",\"Other\",\"Other\",\"Other\",\"Other\",\"Other\",\"Other\",\"Other\",\"Other\",\"Other\",\"Other\",\"Other\",\"Other\",\"Other\",\"Other\",\"Other\",\"Other\",\"Other\",\"Other\",\"Other\",\"Other\",\"Other\",\"Other\",\"Other\",\"Other\",\"Other\",\"Other\",\"Other\",\"Other\",\"Other\",\"Other\",\"Other\",\"Other\",\"Other\",\"Other\",\"Other\",\"Other\",\"Other\",\"Other\",\"Other\",\"Other\",\"Other\",\"Other\",\"Other\",\"Other\",\"Other\",\"Other\",\"Other\",\"Other\",\"Other\",\"Other\",\"Other\",\"Other\",\"Other\",\"Other\",\"Other\",\"Other\",\"Other\",\"Other\",\"Other\",\"Other\",\"Other\",\"Other\",\"Other\",\"Other\",\"Other\",\"Other\",\"Other\",\"Other\",\"Other\",\"Other\",\"Other\",\"Other\",\"Other\",\"Other\",\"Other\",\"Other\",\"Other\",\"Other\",\"Other\",\"Other\",\"Other\",\"Other\",\"Other\",\"Other\",\"Other\",\"Other\",\"Other\",\"Other\",\"Other\",\"Other\",\"Other\",\"Other\",\"Other\",\"Other\",\"Other\",\"Other\",\"Other\",\"Other\",\"Other\",\"Other\",\"Other\",\"Other\",\"Other\",\"Other\",\"Other\",\"Other\",\"Other\",\"Other\",\"Other\",\"Other\",\"Other\",\"Other\",\"Other\",\"Other\",\"Other\",\"Other\",\"Other\",\"Other\",\"Other\",\"Other\",\"Other\",\"Other\",\"Other\",\"Other\",\"Other\",\"Other\",\"Other\",\"Other\",\"Other\",\"Other\",\"Other\",\"Other\",\"Other\",\"Other\",\"Other\",\"Other\",\"Other\",\"Other\",\"Other\",\"Other\",\"Other\",\"Other\",\"Other\",\"Other\",\"Other\",\"Other\",\"Other\",\"Other\",\"Other\",\"Other\",\"Other\",\"Other\",\"Other\",\"Other\",\"Other\",\"Other\",\"Other\",\"Other\",\"Other\",\"Other\",\"Other\",\"Other\",\"Other\",\"Other\",\"Other\",\"Other\",\"Other\",\"Other\",\"Other\",\"Other\",\"Other\",\"Other\",\"Other\",\"Other\",\"Other\",\"Other\",\"Other\",\"Other\",\"Other\",\"Other\",\"Other\",\"Other\",\"Other\",\"Other\",\"Other\",\"Other\",\"Other\",\"Other\",\"Other\",\"Other\",\"Other\",\"Other\",\"Other\",\"Other\",\"Other\",\"Other\",\"Other\",\"Other\",\"Other\",\"Other\",\"Other\",\"Other\",\"Other\",\"Other\",\"Other\",\"Other\",\"Other\",\"Other\",\"Other\",\"Other\",\"Other\",\"Other\",\"Other\",\"Other\",\"Other\",\"Other\",\"Other\",\"Other\",\"Other\",\"Other\",\"Other\",\"Other\",\"Other\",\"Other\",\"Other\",\"Other\",\"Other\",\"Other\",\"Other\",\"Other\",\"Other\",\"Other\",\"Worldwide\",\"Worldwide\",\"Worldwide\",\"Worldwide\",\"Worldwide\",\"Worldwide\",\"Worldwide\",\"Worldwide\",\"Worldwide\",\"Worldwide\",\"Worldwide\",\"Worldwide\",\"Worldwide\",\"Worldwide\",\"Worldwide\",\"Worldwide\",\"Worldwide\",\"Worldwide\",\"Worldwide\",\"Worldwide\",\"Worldwide\",\"Worldwide\",\"Worldwide\",\"Worldwide\",\"Worldwide\",\"Worldwide\",\"Worldwide\",\"Worldwide\",\"Worldwide\",\"Worldwide\",\"Worldwide\",\"Worldwide\",\"Worldwide\",\"Worldwide\",\"Worldwide\",\"Worldwide\",\"Worldwide\",\"Worldwide\",\"Worldwide\",\"Worldwide\",\"Worldwide\",\"Worldwide\",\"Worldwide\",\"Worldwide\",\"Worldwide\",\"Worldwide\",\"Worldwide\",\"Worldwide\",\"Worldwide\",\"Worldwide\",\"Worldwide\",\"Worldwide\",\"Worldwide\",\"Worldwide\",\"Worldwide\",\"Worldwide\",\"Worldwide\",\"Worldwide\",\"Worldwide\",\"Worldwide\",\"Worldwide\",\"Worldwide\",\"Worldwide\",\"Worldwide\",\"Worldwide\",\"Worldwide\",\"Worldwide\",\"Worldwide\",\"Worldwide\",\"Worldwide\",\"Worldwide\",\"Worldwide\",\"Worldwide\",\"Worldwide\",\"Worldwide\",\"Worldwide\",\"Worldwide\",\"Worldwide\",\"Worldwide\",\"Worldwide\",\"Worldwide\",\"Worldwide\",\"Worldwide\",\"Worldwide\",\"Worldwide\",\"Worldwide\",\"Worldwide\",\"Worldwide\",\"Worldwide\",\"Worldwide\",\"Worldwide\",\"Worldwide\",\"Worldwide\",\"Worldwide\",\"Worldwide\",\"Worldwide\",\"Worldwide\",\"Worldwide\",\"Worldwide\",\"Worldwide\",\"Worldwide\",\"Worldwide\",\"Worldwide\",\"Worldwide\",\"Worldwide\",\"Worldwide\",\"Worldwide\",\"Worldwide\",\"Worldwide\",\"Worldwide\",\"Worldwide\",\"Worldwide\",\"Worldwide\",\"Worldwide\",\"Worldwide\",\"Worldwide\",\"Worldwide\",\"Worldwide\",\"Worldwide\",\"Worldwide\",\"Worldwide\",\"Worldwide\",\"Worldwide\",\"Worldwide\",\"Worldwide\",\"Worldwide\",\"Worldwide\",\"Worldwide\",\"Worldwide\",\"Worldwide\",\"Worldwide\",\"Worldwide\",\"Worldwide\",\"Worldwide\",\"Worldwide\",\"Worldwide\",\"Worldwide\",\"Worldwide\",\"Worldwide\",\"Worldwide\",\"Worldwide\",\"Worldwide\",\"Worldwide\",\"Worldwide\",\"Worldwide\",\"Worldwide\",\"Worldwide\",\"Worldwide\",\"Worldwide\",\"Worldwide\",\"Worldwide\",\"Worldwide\",\"Worldwide\",\"Worldwide\",\"Worldwide\",\"Worldwide\",\"Worldwide\",\"Worldwide\",\"Worldwide\",\"Worldwide\",\"Worldwide\",\"Worldwide\",\"Worldwide\",\"Worldwide\",\"Worldwide\",\"Worldwide\",\"Worldwide\",\"Worldwide\",\"Worldwide\",\"Worldwide\",\"Worldwide\",\"Worldwide\",\"Worldwide\",\"Worldwide\",\"Worldwide\",\"Worldwide\",\"Worldwide\",\"Worldwide\",\"Worldwide\",\"Worldwide\",\"Worldwide\",\"Worldwide\",\"Worldwide\",\"Worldwide\",\"Worldwide\",\"Worldwide\",\"Worldwide\",\"Worldwide\",\"Worldwide\",\"Worldwide\",\"Worldwide\",\"Worldwide\",\"Worldwide\",\"Worldwide\",\"Worldwide\",\"Worldwide\",\"Worldwide\",\"Worldwide\",\"Worldwide\",\"Worldwide\",\"Worldwide\",\"Worldwide\",\"Worldwide\",\"Worldwide\",\"Worldwide\",\"Worldwide\",\"Worldwide\",\"Worldwide\",\"Worldwide\",\"Worldwide\",\"Worldwide\",\"Worldwide\",\"Worldwide\",\"Worldwide\",\"Worldwide\",\"Worldwide\",\"Worldwide\",\"Worldwide\",\"Worldwide\",\"Worldwide\",\"Worldwide\",\"Worldwide\",\"Worldwide\",\"Worldwide\",\"Worldwide\",\"Worldwide\",\"Worldwide\",\"Worldwide\",\"Worldwide\",\"Worldwide\",\"Worldwide\",\"Worldwide\",\"Worldwide\",\"Worldwide\",\"Worldwide\",\"Worldwide\",\"Worldwide\",\"Worldwide\",\"Worldwide\",\"Worldwide\",\"Worldwide\",\"Worldwide\",\"Worldwide\",\"Worldwide\",\"Worldwide\",\"Worldwide\",\"Worldwide\",\"Worldwide\",\"Worldwide\",\"Worldwide\",\"Worldwide\",\"Worldwide\",\"Worldwide\",\"Worldwide\",\"Worldwide\",\"Worldwide\",\"Worldwide\",\"Worldwide\",\"Worldwide\",\"Worldwide\",\"Worldwide\",\"Worldwide\",\"Worldwide\",\"Worldwide\",\"Worldwide\",\"Worldwide\",\"Worldwide\",\"Worldwide\",\"Worldwide\",\"Worldwide\",\"Worldwide\",\"Worldwide\",\"Worldwide\",\"Worldwide\",\"Worldwide\",\"Worldwide\",\"Worldwide\",\"Worldwide\",\"Worldwide\",\"Worldwide\",\"Worldwide\",\"Worldwide\",\"Worldwide\",\"Worldwide\",\"Worldwide\",\"Worldwide\",\"Worldwide\",\"Worldwide\",\"Worldwide\",\"Worldwide\",\"Worldwide\",\"Worldwide\",\"Worldwide\",\"Worldwide\",\"Worldwide\",\"Worldwide\",\"Worldwide\",\"Worldwide\",\"Worldwide\",\"Worldwide\",\"Worldwide\",\"Worldwide\",\"Worldwide\",\"Worldwide\",\"Worldwide\",\"Worldwide\",\"Worldwide\",\"Worldwide\",\"Worldwide\",\"Worldwide\",\"Worldwide\",\"Worldwide\",\"Worldwide\",\"Worldwide\",\"Worldwide\",\"Worldwide\",\"Worldwide\",\"Worldwide\",\"Worldwide\",\"Worldwide\",\"Worldwide\",\"Worldwide\",\"Worldwide\",\"Worldwide\",\"Worldwide\",\"Worldwide\",\"Worldwide\",\"Worldwide\",\"Worldwide\",\"Worldwide\",\"Worldwide\",\"Worldwide\",\"Worldwide\",\"Worldwide\",\"Worldwide\",\"Worldwide\",\"Worldwide\",\"Worldwide\",\"Worldwide\",\"Worldwide\",\"Worldwide\",\"Worldwide\",\"Worldwide\",\"Worldwide\",\"Worldwide\",\"Worldwide\",\"Worldwide\",\"Worldwide\",\"Worldwide\",\"Worldwide\",\"Worldwide\",\"Worldwide\",\"Worldwide\",\"Worldwide\",\"Worldwide\",\"Worldwide\",\"Worldwide\",\"Worldwide\",\"Worldwide\",\"Worldwide\",\"Worldwide\",\"Worldwide\",\"Worldwide\",\"Worldwide\",\"Worldwide\",\"Worldwide\",\"Worldwide\",\"Worldwide\",\"Worldwide\",\"Worldwide\",\"Worldwide\",\"Worldwide\",\"Worldwide\",\"Worldwide\",\"Worldwide\",\"Worldwide\",\"Worldwide\",\"Worldwide\",\"Worldwide\",\"Worldwide\",\"Worldwide\",\"Worldwide\",\"Worldwide\",\"Worldwide\",\"Worldwide\",\"Worldwide\",\"Worldwide\",\"Worldwide\",\"Worldwide\",\"Worldwide\"],\"release_year\":[1980,1980,1980,1980,1980,1981,1981,1981,1981,1981,1981,1981,1982,1982,1982,1982,1982,1982,1982,1983,1983,1983,1983,1983,1983,1983,1984,1984,1984,1984,1984,1984,1984,1985,1985,1985,1985,1985,1985,1985,1986,1986,1986,1986,1986,1986,1987,1987,1987,1987,1987,1987,1987,1988,1988,1988,1988,1988,1988,1988,1988,1989,1989,1989,1989,1989,1989,1989,1990,1990,1990,1990,1990,1990,1990,1991,1991,1991,1991,1991,1991,1991,1991,1991,1991,1991,1991,1992,1992,1992,1992,1992,1992,1992,1992,1992,1992,1992,1992,1993,1993,1993,1993,1993,1993,1993,1993,1993,1993,1993,1993,1994,1994,1994,1994,1994,1994,1994,1994,1994,1994,1994,1994,1995,1995,1995,1995,1995,1995,1995,1995,1995,1995,1995,1995,1996,1996,1996,1996,1996,1996,1996,1996,1996,1996,1996,1996,1997,1997,1997,1997,1997,1997,1997,1997,1997,1997,1997,1997,1998,1998,1998,1998,1998,1998,1998,1998,1998,1998,1998,1998,1999,1999,1999,1999,1999,1999,1999,1999,1999,1999,1999,1999,2000,2000,2000,2000,2000,2000,2000,2000,2000,2000,2000,2000,2001,2001,2001,2001,2001,2001,2001,2001,2001,2001,2001,2001,2002,2002,2002,2002,2002,2002,2002,2002,2002,2002,2002,2002,2003,2003,2003,2003,2003,2003,2003,2003,2003,2003,2003,2003,2004,2004,2004,2004,2004,2004,2004,2004,2004,2004,2004,2004,2005,2005,2005,2005,2005,2005,2005,2005,2005,2005,2005,2005,2006,2006,2006,2006,2006,2006,2006,2006,2006,2006,2006,2006,2007,2007,2007,2007,2007,2007,2007,2007,2007,2007,2007,2007,2008,2008,2008,2008,2008,2008,2008,2008,2008,2008,2008,2008,2009,2009,2009,2009,2009,2009,2009,2009,2009,2009,2009,2009,2010,2010,2010,2010,2010,2010,2010,2010,2010,2010,2010,2010,2011,2011,2011,2011,2011,2011,2011,2011,2011,2011,2011,2011,2012,2012,2012,2012,2012,2012,2012,2012,2012,2012,2012,2012,2013,2013,2013,2013,2013,2013,2013,2013,2013,2013,2013,2013,2014,2014,2014,2014,2014,2014,2014,2014,2014,2014,2014,2014,2015,2015,2015,2015,2015,2015,2015,2015,2015,2015,2015,2015,2016,2016,2016,2016,2016,2016,2016,2016,2016,2016,2016,2016,2017,2017,2020,1980,1980,1980,1980,1980,1981,1981,1981,1981,1981,1981,1981,1982,1982,1982,1982,1982,1982,1982,1983,1983,1983,1983,1983,1983,1983,1984,1984,1984,1984,1984,1984,1984,1985,1985,1985,1985,1985,1985,1985,1986,1986,1986,1986,1986,1986,1987,1987,1987,1987,1987,1987,1987,1988,1988,1988,1988,1988,1988,1988,1988,1989,1989,1989,1989,1989,1989,1989,1990,1990,1990,1990,1990,1990,1990,1991,1991,1991,1991,1991,1991,1991,1991,1991,1991,1991,1991,1992,1992,1992,1992,1992,1992,1992,1992,1992,1992,1992,1992,1993,1993,1993,1993,1993,1993,1993,1993,1993,1993,1993,1993,1994,1994,1994,1994,1994,1994,1994,1994,1994,1994,1994,1994,1995,1995,1995,1995,1995,1995,1995,1995,1995,1995,1995,1995,1996,1996,1996,1996,1996,1996,1996,1996,1996,1996,1996,1996,1997,1997,1997,1997,1997,1997,1997,1997,1997,1997,1997,1997,1998,1998,1998,1998,1998,1998,1998,1998,1998,1998,1998,1998,1999,1999,1999,1999,1999,1999,1999,1999,1999,1999,1999,1999,2000,2000,2000,2000,2000,2000,2000,2000,2000,2000,2000,2000,2001,2001,2001,2001,2001,2001,2001,2001,2001,2001,2001,2001,2002,2002,2002,2002,2002,2002,2002,2002,2002,2002,2002,2002,2003,2003,2003,2003,2003,2003,2003,2003,2003,2003,2003,2003,2004,2004,2004,2004,2004,2004,2004,2004,2004,2004,2004,2004,2005,2005,2005,2005,2005,2005,2005,2005,2005,2005,2005,2005,2006,2006,2006,2006,2006,2006,2006,2006,2006,2006,2006,2006,2007,2007,2007,2007,2007,2007,2007,2007,2007,2007,2007,2007,2008,2008,2008,2008,2008,2008,2008,2008,2008,2008,2008,2008,2009,2009,2009,2009,2009,2009,2009,2009,2009,2009,2009,2009,2010,2010,2010,2010,2010,2010,2010,2010,2010,2010,2010,2010,2011,2011,2011,2011,2011,2011,2011,2011,2011,2011,2011,2011,2012,2012,2012,2012,2012,2012,2012,2012,2012,2012,2012,2012,2013,2013,2013,2013,2013,2013,2013,2013,2013,2013,2013,2013,2014,2014,2014,2014,2014,2014,2014,2014,2014,2014,2014,2014,2015,2015,2015,2015,2015,2015,2015,2015,2015,2015,2015,2015,2016,2016,2016,2016,2016,2016,2016,2016,2016,2016,2016,2016,2017,2017,2020,1980,1980,1980,1980,1980,1981,1981,1981,1981,1981,1981,1981,1982,1982,1982,1982,1982,1982,1982,1983,1983,1983,1983,1983,1983,1983,1984,1984,1984,1984,1984,1984,1984,1985,1985,1985,1985,1985,1985,1985,1986,1986,1986,1986,1986,1986,1987,1987,1987,1987,1987,1987,1987,1988,1988,1988,1988,1988,1988,1988,1988,1989,1989,1989,1989,1989,1989,1989,1990,1990,1990,1990,1990,1990,1990,1991,1991,1991,1991,1991,1991,1991,1991,1991,1991,1991,1991,1992,1992,1992,1992,1992,1992,1992,1992,1992,1992,1992,1992,1993,1993,1993,1993,1993,1993,1993,1993,1993,1993,1993,1993,1994,1994,1994,1994,1994,1994,1994,1994,1994,1994,1994,1994,1995,1995,1995,1995,1995,1995,1995,1995,1995,1995,1995,1995,1996,1996,1996,1996,1996,1996,1996,1996,1996,1996,1996,1996,1997,1997,1997,1997,1997,1997,1997,1997,1997,1997,1997,1997,1998,1998,1998,1998,1998,1998,1998,1998,1998,1998,1998,1998,1999,1999,1999,1999,1999,1999,1999,1999,1999,1999,1999,1999,2000,2000,2000,2000,2000,2000,2000,2000,2000,2000,2000,2000,2001,2001,2001,2001,2001,2001,2001,2001,2001,2001,2001,2001,2002,2002,2002,2002,2002,2002,2002,2002,2002,2002,2002,2002,2003,2003,2003,2003,2003,2003,2003,2003,2003,2003,2003,2003,2004,2004,2004,2004,2004,2004,2004,2004,2004,2004,2004,2004,2005,2005,2005,2005,2005,2005,2005,2005,2005,2005,2005,2005,2006,2006,2006,2006,2006,2006,2006,2006,2006,2006,2006,2006,2007,2007,2007,2007,2007,2007,2007,2007,2007,2007,2007,2007,2008,2008,2008,2008,2008,2008,2008,2008,2008,2008,2008,2008,2009,2009,2009,2009,2009,2009,2009,2009,2009,2009,2009,2009,2010,2010,2010,2010,2010,2010,2010,2010,2010,2010,2010,2010,2011,2011,2011,2011,2011,2011,2011,2011,2011,2011,2011,2011,2012,2012,2012,2012,2012,2012,2012,2012,2012,2012,2012,2012,2013,2013,2013,2013,2013,2013,2013,2013,2013,2013,2013,2013,2014,2014,2014,2014,2014,2014,2014,2014,2014,2014,2014,2014,2015,2015,2015,2015,2015,2015,2015,2015,2015,2015,2015,2015,2016,2016,2016,2016,2016,2016,2016,2016,2016,2016,2016,2016,2017,2017,2020,1980,1980,1980,1980,1980,1981,1981,1981,1981,1981,1981,1981,1982,1982,1982,1982,1982,1982,1982,1983,1983,1983,1983,1983,1983,1983,1984,1984,1984,1984,1984,1984,1984,1985,1985,1985,1985,1985,1985,1985,1986,1986,1986,1986,1986,1986,1987,1987,1987,1987,1987,1987,1987,1988,1988,1988,1988,1988,1988,1988,1988,1989,1989,1989,1989,1989,1989,1989,1990,1990,1990,1990,1990,1990,1990,1991,1991,1991,1991,1991,1991,1991,1991,1991,1991,1991,1991,1992,1992,1992,1992,1992,1992,1992,1992,1992,1992,1992,1992,1993,1993,1993,1993,1993,1993,1993,1993,1993,1993,1993,1993,1994,1994,1994,1994,1994,1994,1994,1994,1994,1994,1994,1994,1995,1995,1995,1995,1995,1995,1995,1995,1995,1995,1995,1995,1996,1996,1996,1996,1996,1996,1996,1996,1996,1996,1996,1996,1997,1997,1997,1997,1997,1997,1997,1997,1997,1997,1997,1997,1998,1998,1998,1998,1998,1998,1998,1998,1998,1998,1998,1998,1999,1999,1999,1999,1999,1999,1999,1999,1999,1999,1999,1999,2000,2000,2000,2000,2000,2000,2000,2000,2000,2000,2000,2000,2001,2001,2001,2001,2001,2001,2001,2001,2001,2001,2001,2001,2002,2002,2002,2002,2002,2002,2002,2002,2002,2002,2002,2002,2003,2003,2003,2003,2003,2003,2003,2003,2003,2003,2003,2003,2004,2004,2004,2004,2004,2004,2004,2004,2004,2004,2004,2004,2005,2005,2005,2005,2005,2005,2005,2005,2005,2005,2005,2005,2006,2006,2006,2006,2006,2006,2006,2006,2006,2006,2006,2006,2007,2007,2007,2007,2007,2007,2007,2007,2007,2007,2007,2007,2008,2008,2008,2008,2008,2008,2008,2008,2008,2008,2008,2008,2009,2009,2009,2009,2009,2009,2009,2009,2009,2009,2009,2009,2010,2010,2010,2010,2010,2010,2010,2010,2010,2010,2010,2010,2011,2011,2011,2011,2011,2011,2011,2011,2011,2011,2011,2011,2012,2012,2012,2012,2012,2012,2012,2012,2012,2012,2012,2012,2013,2013,2013,2013,2013,2013,2013,2013,2013,2013,2013,2013,2014,2014,2014,2014,2014,2014,2014,2014,2014,2014,2014,2014,2015,2015,2015,2015,2015,2015,2015,2015,2015,2015,2015,2015,2016,2016,2016,2016,2016,2016,2016,2016,2016,2016,2016,2016,2017,2017,2020,1980,1980,1980,1980,1980,1981,1981,1981,1981,1981,1981,1981,1982,1982,1982,1982,1982,1982,1982,1983,1983,1983,1983,1983,1983,1983,1984,1984,1984,1984,1984,1984,1984,1985,1985,1985,1985,1985,1985,1985,1986,1986,1986,1986,1986,1986,1987,1987,1987,1987,1987,1987,1987,1988,1988,1988,1988,1988,1988,1988,1988,1989,1989,1989,1989,1989,1989,1989,1990,1990,1990,1990,1990,1990,1990,1991,1991,1991,1991,1991,1991,1991,1991,1991,1991,1991,1991,1992,1992,1992,1992,1992,1992,1992,1992,1992,1992,1992,1992,1993,1993,1993,1993,1993,1993,1993,1993,1993,1993,1993,1993,1994,1994,1994,1994,1994,1994,1994,1994,1994,1994,1994,1994,1995,1995,1995,1995,1995,1995,1995,1995,1995,1995,1995,1995,1996,1996,1996,1996,1996,1996,1996,1996,1996,1996,1996,1996,1997,1997,1997,1997,1997,1997,1997,1997,1997,1997,1997,1997,1998,1998,1998,1998,1998,1998,1998,1998,1998,1998,1998,1998,1999,1999,1999,1999,1999,1999,1999,1999,1999,1999,1999,1999,2000,2000,2000,2000,2000,2000,2000,2000,2000,2000,2000,2000,2001,2001,2001,2001,2001,2001,2001,2001,2001,2001,2001,2001,2002,2002,2002,2002,2002,2002,2002,2002,2002,2002,2002,2002,2003,2003,2003,2003,2003,2003,2003,2003,2003,2003,2003,2003,2004,2004,2004,2004,2004,2004,2004,2004,2004,2004,2004,2004,2005,2005,2005,2005,2005,2005,2005,2005,2005,2005,2005,2005,2006,2006,2006,2006,2006,2006,2006,2006,2006,2006,2006,2006,2007,2007,2007,2007,2007,2007,2007,2007,2007,2007,2007,2007,2008,2008,2008,2008,2008,2008,2008,2008,2008,2008,2008,2008,2009,2009,2009,2009,2009,2009,2009,2009,2009,2009,2009,2009,2010,2010,2010,2010,2010,2010,2010,2010,2010,2010,2010,2010,2011,2011,2011,2011,2011,2011,2011,2011,2011,2011,2011,2011,2012,2012,2012,2012,2012,2012,2012,2012,2012,2012,2012,2012,2013,2013,2013,2013,2013,2013,2013,2013,2013,2013,2013,2013,2014,2014,2014,2014,2014,2014,2014,2014,2014,2014,2014,2014,2015,2015,2015,2015,2015,2015,2015,2015,2015,2015,2015,2015,2016,2016,2016,2016,2016,2016,2016,2016,2016,2016,2016,2016,2017,2017,2020],\"sales\":{\"__ndarray__\":\"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\",\"dtype\":\"float64\",\"order\":\"little\",\"shape\":[1950]}},\"selected\":{\"id\":\"1051\"},\"selection_policy\":{\"id\":\"1050\"}},\"id\":\"1036\",\"type\":\"ColumnDataSource\"},{\"attributes\":{},\"id\":\"1051\",\"type\":\"Selection\"},{\"attributes\":{},\"id\":\"1045\",\"type\":\"BasicTickFormatter\"},{\"attributes\":{},\"id\":\"1027\",\"type\":\"HelpTool\"},{\"attributes\":{},\"id\":\"1048\",\"type\":\"BasicTickFormatter\"},{\"attributes\":{},\"id\":\"1022\",\"type\":\"PanTool\"},{\"attributes\":{},\"id\":\"1023\",\"type\":\"WheelZoomTool\"},{\"attributes\":{\"source\":{\"id\":\"1036\"}},\"id\":\"1042\",\"type\":\"CDSView\"},{\"attributes\":{\"fill_alpha\":{\"value\":0.2},\"fill_color\":{\"value\":\"#1f77b4\"},\"line_color\":{\"value\":\"#1f77b4\"},\"size\":{\"value\":10},\"x\":{\"field\":\"release_year\"},\"y\":{\"field\":\"sales\"}},\"id\":\"1038\",\"type\":\"Circle\"},{\"attributes\":{},\"id\":\"1012\",\"type\":\"LinearScale\"},{\"attributes\":{\"coordinates\":null,\"formatter\":{\"id\":\"1048\"},\"group\":null,\"major_label_policy\":{\"id\":\"1049\"},\"ticker\":{\"id\":\"1015\"}},\"id\":\"1014\",\"type\":\"LinearAxis\"},{\"attributes\":{\"coordinates\":null,\"group\":null,\"text\":\"Video Game Sales by Year\"},\"id\":\"1004\",\"type\":\"Title\"},{\"attributes\":{\"axis\":{\"id\":\"1014\"},\"coordinates\":null,\"group\":null,\"ticker\":null},\"id\":\"1017\",\"type\":\"Grid\"},{\"attributes\":{},\"id\":\"1049\",\"type\":\"AllLabels\"},{\"attributes\":{\"axis\":{\"id\":\"1018\"},\"coordinates\":null,\"dimension\":1,\"group\":null,\"ticker\":null},\"id\":\"1021\",\"type\":\"Grid\"},{\"attributes\":{\"coordinates\":null,\"data_source\":{\"id\":\"1036\"},\"glyph\":{\"id\":\"1038\"},\"group\":null,\"hover_glyph\":null,\"muted_glyph\":{\"id\":\"1040\"},\"nonselection_glyph\":{\"id\":\"1039\"},\"view\":{\"id\":\"1042\"}},\"id\":\"1041\",\"type\":\"GlyphRenderer\"},{\"attributes\":{},\"id\":\"1008\",\"type\":\"DataRange1d\"},{\"attributes\":{\"fill_alpha\":{\"value\":0.1},\"fill_color\":{\"value\":\"#1f77b4\"},\"hatch_alpha\":{\"value\":0.1},\"line_alpha\":{\"value\":0.1},\"line_color\":{\"value\":\"#1f77b4\"},\"size\":{\"value\":10},\"x\":{\"field\":\"release_year\"},\"y\":{\"field\":\"sales\"}},\"id\":\"1039\",\"type\":\"Circle\"},{\"attributes\":{},\"id\":\"1046\",\"type\":\"AllLabels\"},{\"attributes\":{},\"id\":\"1006\",\"type\":\"DataRange1d\"},{\"attributes\":{\"overlay\":{\"id\":\"1028\"}},\"id\":\"1024\",\"type\":\"BoxZoomTool\"},{\"attributes\":{},\"id\":\"1010\",\"type\":\"LinearScale\"},{\"attributes\":{},\"id\":\"1019\",\"type\":\"BasicTicker\"},{\"attributes\":{},\"id\":\"1015\",\"type\":\"BasicTicker\"},{\"attributes\":{\"tools\":[{\"id\":\"1022\"},{\"id\":\"1023\"},{\"id\":\"1024\"},{\"id\":\"1025\"},{\"id\":\"1026\"},{\"id\":\"1027\"}]},\"id\":\"1029\",\"type\":\"Toolbar\"},{\"attributes\":{},\"id\":\"1026\",\"type\":\"ResetTool\"},{\"attributes\":{\"coordinates\":null,\"formatter\":{\"id\":\"1045\"},\"group\":null,\"major_label_policy\":{\"id\":\"1046\"},\"ticker\":{\"id\":\"1019\"}},\"id\":\"1018\",\"type\":\"LinearAxis\"}],\"root_ids\":[\"1003\"]},\"title\":\"Bokeh Application\",\"version\":\"2.4.2\"}};\n",
       "  const render_items = [{\"docid\":\"e45de8e8-ed58-4eaa-b38e-2a9f0f2e24a5\",\"root_ids\":[\"1003\"],\"roots\":{\"1003\":\"6e708ac4-2a88-4a20-b5b2-50dcdc40ca4c\"}}];\n",
       "  root.Bokeh.embed.embed_items_notebook(docs_json, render_items);\n",
       "\n",
       "  }\n",
       "  if (root.Bokeh !== undefined) {\n",
       "    embed_document(root);\n",
       "  } else {\n",
       "    let attempts = 0;\n",
       "    const timer = setInterval(function(root) {\n",
       "      if (root.Bokeh !== undefined) {\n",
       "        clearInterval(timer);\n",
       "        embed_document(root);\n",
       "      } else {\n",
       "        attempts++;\n",
       "        if (attempts > 100) {\n",
       "          clearInterval(timer);\n",
       "          console.log(\"Bokeh: ERROR: Unable to run BokehJS code because BokehJS library is missing\");\n",
       "        }\n",
       "      }\n",
       "    }, 10, root)\n",
       "  }\n",
       "})(window);"
      ],
      "application/vnd.bokehjs_exec.v0+json": ""
     },
     "metadata": {
      "application/vnd.bokehjs_exec.v0+json": {
       "id": "1003"
      }
     },
     "output_type": "display_data"
    }
   ],
   "source": [
    "p = figure(title = \"Video Game Sales by Year\")\n",
    "p.circle('release_year','sales',source=df1,fill_alpha=0.2, size=10)\n",
    "show(p)"
   ]
  },
  {
   "cell_type": "markdown",
   "id": "51938427",
   "metadata": {},
   "source": [
    "### Missing Data: 2018 & 2019 ###\n",
    "With the help of the charts above, we can clearly see we are missing *all* observations for the years **2018** & **2019**, in addition to having barely any observations for the years **2017** & **2020**. Furthermore, many of the years prior to 1991 seem to be missing observations. Therefore it might be reasonable to conclude that we only have (1950/2460) **79% observed data**, while the remaining **21% is missing data**. Again, this is assuming that release_years without 60 observations are considered incomplete. However, **this might not the case.**\n",
    "\n",
    "#### All \"Big 12\" genres might not have been well documented before 1990, purposely left out, absorbed into other genres, or perhaps observing only the top 10 genres was the norm at the time.  ####\n",
    "\n",
    "In the 3 figures below, you will notice the following:\n",
    "\n",
    "- **Figure 1A: 1980-1985** Observations are missing the **Role-Playing & Strategy** Genres.\n",
    "- **Figure 2A: 1980-1990** Observations are missing the **Strategy** Genres.\n",
    "- **Figure 3A: 1980-1995** Observations finally include **all 12** Genres.\n",
    "\n",
    "The Role-Playing Genre doesn't make an appearance in this data set until the years 1985-1990.\n",
    "\n",
    "The Strategy Genre doesn't make an appearance in this data set until the years 1990-1995.\n",
    "\n",
    "*Figures 1A, 2A, & 3A all start at year 1980 and incrementally add 5 years to the span. Sales are in yearly averages.*"
   ]
  },
  {
   "cell_type": "code",
   "execution_count": 19,
   "id": "a6193be5",
   "metadata": {},
   "outputs": [
    {
     "name": "stdout",
     "output_type": "stream",
     "text": [
      "------------------------------------\n",
      "FIGURE 1A: 1980-1985, 10 of 12 Genres\n",
      "------------------------------------\n"
     ]
    },
    {
     "data": {
      "text/plain": [
       "Text(0.5, 1.0, 'Figure 1A: 1980-1985')"
      ]
     },
     "execution_count": 19,
     "metadata": {},
     "output_type": "execute_result"
    },
    {
     "data": {
      "image/png": "[encoded data removed]",
      "text/plain": [
       "<Figure size 432x288 with 1 Axes>"
      ]
     },
     "metadata": {
      "needs_background": "light"
     },
     "output_type": "display_data"
    }
   ],
   "source": [
    "print('------------------------------------')\n",
    "print('FIGURE 1A: 1980-1985, 10 of 12 Genres')\n",
    "print('------------------------------------')\n",
    "df_WW_1985 = df_WW.copy()\n",
    "filt = (df_WW_1985['region'] == 'Worldwide') & (df_WW_1985['release_year'] <= 1985) \n",
    "df_WW_1985 = df_WW_1985.loc[filt]\n",
    "sns.barplot(x=\"sales\", y=\"genre\", hue=\"region\", ci=None, data=df_WW_1985).set_title('Figure 1A: 1980-1985')"
   ]
  },
  {
   "cell_type": "markdown",
   "id": "031fa9ba",
   "metadata": {},
   "source": [
    "**Notice the Role-Playing and Strategy genres are absent in Figure 1A.**"
   ]
  },
  {
   "cell_type": "code",
   "execution_count": 20,
   "id": "5a99abe5",
   "metadata": {},
   "outputs": [
    {
     "name": "stdout",
     "output_type": "stream",
     "text": [
      "------------------------------------\n",
      "FIGURE 2A: 1980-1990, 11 of 12 Genres\n",
      "------------------------------------\n"
     ]
    },
    {
     "data": {
      "text/plain": [
       "Text(0.5, 1.0, 'Figure 2A: 1980-1990')"
      ]
     },
     "execution_count": 20,
     "metadata": {},
     "output_type": "execute_result"
    },
    {
     "data": {
      "image/png": "[encoded data removed]",
      "text/plain": [
       "<Figure size 432x288 with 1 Axes>"
      ]
     },
     "metadata": {
      "needs_background": "light"
     },
     "output_type": "display_data"
    }
   ],
   "source": [
    "print('------------------------------------')\n",
    "print('FIGURE 2A: 1980-1990, 11 of 12 Genres')\n",
    "print('------------------------------------')\n",
    "df_WW_1990 = df_WW.copy()\n",
    "filt = (df_WW_1990['region'] == 'Worldwide') & (df_WW_1990['release_year'] <= 1990) \n",
    "df_WW_1990 = df_WW_1990.loc[filt]\n",
    "\n",
    "\n",
    "sns.barplot(x=\"sales\", y=\"genre\", hue=\"region\", ci=None, data=df_WW_1990).set_title('Figure 2A: 1980-1990')"
   ]
  },
  {
   "cell_type": "markdown",
   "id": "5be90bb0",
   "metadata": {},
   "source": [
    "**Notice the Role-Playing genre is now being observed but the Strategy genre is still absent in Figure 2A.**"
   ]
  },
  {
   "cell_type": "code",
   "execution_count": 21,
   "id": "77b751a4",
   "metadata": {},
   "outputs": [
    {
     "name": "stdout",
     "output_type": "stream",
     "text": [
      "------------------------------------\n",
      "FIGURE 3A: 1980-1995, 12 of 12 Genres\n",
      "------------------------------------\n"
     ]
    },
    {
     "data": {
      "text/plain": [
       "Text(0.5, 1.0, 'Figure 3A: 1980-1995')"
      ]
     },
     "execution_count": 21,
     "metadata": {},
     "output_type": "execute_result"
    },
    {
     "data": {
      "image/png": "[encoded data removed]",
      "text/plain": [
       "<Figure size 432x288 with 1 Axes>"
      ]
     },
     "metadata": {
      "needs_background": "light"
     },
     "output_type": "display_data"
    }
   ],
   "source": [
    "print('------------------------------------')\n",
    "print('FIGURE 3A: 1980-1995, 12 of 12 Genres')\n",
    "print('------------------------------------')\n",
    "df_WW_1995 = df_WW.copy()\n",
    "filt = (df_WW_1995['region'] == 'Worldwide') & (df_WW_1995['release_year'] <= 1995) \n",
    "df_WW_1995 = df_WW_1995.loc[filt]\n",
    "\n",
    "\n",
    "sns.barplot(x=\"sales\", y=\"genre\", hue=\"region\", ci=None, data=df_WW_1995).set_title('Figure 3A: 1980-1995')"
   ]
  },
  {
   "cell_type": "markdown",
   "id": "99505f26",
   "metadata": {},
   "source": [
    "**Notice the Strategy genre and now all Big 12 genres are being observed in Figure 3A.**\n",
    "\n",
    "Interesting to note that during this whole time, the Platform genre dominated the video game industry.\n",
    "Another interesting side note is that we still have equal observations by regions during this time (seen below), despite missing the proposed \"complete 60\" observations each year should have. This means that no particular region is at fault for missing data during this time."
   ]
  },
  {
   "cell_type": "code",
   "execution_count": 22,
   "id": "67e6c495",
   "metadata": {},
   "outputs": [
    {
     "name": "stdout",
     "output_type": "stream",
     "text": [
      "--------------------------------------------\n",
      "Number of Observations per Region: 1980-1995\n",
      "--------------------------------------------\n"
     ]
    },
    {
     "data": {
      "text/plain": [
       "North America     135\n",
       "European Union    135\n",
       "Japan             135\n",
       "Other             135\n",
       "Worldwide         135\n",
       "Name: region, dtype: int64"
      ]
     },
     "execution_count": 22,
     "metadata": {},
     "output_type": "execute_result"
    }
   ],
   "source": [
    "#Checking region observations between 1980 - 1995.\n",
    "filtReg = (df['release_year'] >= 1980) & (df['release_year'] <= 1995)\n",
    "dfReg = df.loc[filtReg]\n",
    "print('--------------------------------------------')\n",
    "print('Number of Observations per Region: 1980-1995')\n",
    "print('--------------------------------------------')\n",
    "dfReg.region.value_counts()"
   ]
  },
  {
   "cell_type": "markdown",
   "id": "65e763f6",
   "metadata": {},
   "source": [
    "## Cleaning the Data: Imputation & Removal ##\n",
    "\n",
    "There are certainly some issues with our data. Here are some of the things we have found out thus far:\n",
    "\n",
    "- We have some **extreme outliers** on the high end (the max values).\n",
    "- There are a lot of **0.0 values** (108 of them) in our data set. We can research some of them (such as the year 2017) and conclude they are bad data. However, researching every instance of 0.0 is tedious and inefficient.\n",
    "- Data from **2017-2020** is either sparse or completely absent.\n",
    "- A couple genres **(Role-Playing & Strategy)** are completely absent until 5 or 10 years into the dataset.\n",
    "\n",
    "With the information we've gathered, we can now **decide whether or not to take action.**\n",
    "\n",
    "#### Should we remove outliers? ####\n",
    "Although the outliers are extreme, it's not one single point guilty of skewing the data. This is the perfect example of a question we would want to ask the people we are analyzing this data for (in this scenario, the game developers.) Do they want us to be generous or conservative with outliers? For simplicity, we will be conservative and keep the outliers in our dataset.\n",
    "\n",
    "#### Should we remove all 0.0 values from our dataset? ####\n",
    "After using 2017 as an example, we can definitely see how misplaced 0.0 sales values can gravely affect the credibility of our data set. On the other hand, we cannot just assume every 0.0 is a bad or missing value. The majority of our 0.0's could be completely legitimate observations and removing all of them might be more harmful than good. We will be conservative on this issue as well.\n",
    "\n",
    "#### Should we remove the years 2017-2020 from our dataset? ####\n",
    "Yes. It is abundantly clear that there is little to no relevant data among these years in our dataset. There is no need to be conservative here.\n",
    "\n",
    "#### Should we impute values for the missing genres? ####\n",
    "This one is tricky. Although we could impute the mean or median sales for the Roleplaying & Strategy genres for the earlier years, it might do more harm than good. (For example, we may incorrectly account for inflation over the years.) Furthermore, while I cannot answer this question, there seems to be a clear intention on leaving the two genres unobserved. Perhaps only the top 10 were observed at this time and they didn't make the cut, or perhaps it was a common practice in the 1980's to absorb certain genres together (like merging Platform & Role-Playing genres together.) It's even possible that the data was just lost all together. Either way, most gamers would recognize Role-Playing & Strategy games to be some of the most popular genres over the years so their absence is strange. For these reasons, we will refrain from ill-informed imputation.\n",
    "\n",
    "Below we will take action and move forward with removing the years 2017-2020 from our dataset. "
   ]
  },
  {
   "cell_type": "code",
   "execution_count": 23,
   "id": "389c2ca3",
   "metadata": {},
   "outputs": [
    {
     "name": "stdout",
     "output_type": "stream",
     "text": [
      "Data Cleaning Complete!\n"
     ]
    }
   ],
   "source": [
    "#Removing 2017-2020 data from our original dataframe\n",
    "filtYears0 = df1['release_year'] <= 2016\n",
    "df1 = df1.loc[filtYears0]\n",
    "\n",
    "#Removing 2017-2020 data from our Relevant Regions dataframe\n",
    "filtYears1 = df_No_WW['release_year'] <= 2016\n",
    "df_No_WW = df_No_WW.loc[filtYears1]\n",
    "\n",
    "#Removing 2017-2020 data from our Worldwide dataframe\n",
    "filtYears2 = df_WW['release_year'] <= 2016\n",
    "df_WW = df_WW.loc[filtYears2]\n",
    "\n",
    "print('Data Cleaning Complete!')"
   ]
  },
  {
   "cell_type": "markdown",
   "id": "f2ca88fd",
   "metadata": {},
   "source": [
    "-------------------------------------------------\n",
    "## Part 2: Analyzing the Data ##\n",
    "\n",
    "Here we are going to start taking a look at our data with some simple SQL queries and visualize some results. We will first show the original dataset, then utilize Relevant Regions dataframe for a better look."
   ]
  },
  {
   "cell_type": "code",
   "execution_count": 24,
   "id": "6246959f",
   "metadata": {},
   "outputs": [],
   "source": [
    "#Setting up SQL Connection\n",
    "conn = db.connect('df1')\n",
    "c = conn.cursor()\n",
    "c.execute(\"DROP TABLE IF EXISTS Game_SalesWW\")\n",
    "c.execute(\"CREATE TABLE Game_SalesWW (sales INTEGER, genre TEXT)\")\n",
    "df1.to_sql('Game_SalesWW', conn, if_exists='replace', index=False)\n",
    "pd.read_sql('select * from Game_SalesWW', conn)\n",
    "conn.commit()"
   ]
  },
  {
   "cell_type": "code",
   "execution_count": 25,
   "id": "8d18b01b",
   "metadata": {},
   "outputs": [
    {
     "name": "stdout",
     "output_type": "stream",
     "text": [
      "---------------------\n",
      "Total Sales by Region\n",
      "---------------------\n"
     ]
    },
    {
     "data": {
      "text/html": [
       "<div>\n",
       "<style scoped>\n",
       "    .dataframe tbody tr th:only-of-type {\n",
       "        vertical-align: middle;\n",
       "    }\n",
       "\n",
       "    .dataframe tbody tr th {\n",
       "        vertical-align: top;\n",
       "    }\n",
       "\n",
       "    .dataframe thead th {\n",
       "        text-align: right;\n",
       "    }\n",
       "</style>\n",
       "<table border=\"1\" class=\"dataframe\">\n",
       "  <thead>\n",
       "    <tr style=\"text-align: right;\">\n",
       "      <th></th>\n",
       "      <th>Region</th>\n",
       "      <th>Total Sales</th>\n",
       "    </tr>\n",
       "  </thead>\n",
       "  <tbody>\n",
       "    <tr>\n",
       "      <th>0</th>\n",
       "      <td>Worldwide</td>\n",
       "      <td>8818.57</td>\n",
       "    </tr>\n",
       "    <tr>\n",
       "      <th>1</th>\n",
       "      <td>North America</td>\n",
       "      <td>4341.42</td>\n",
       "    </tr>\n",
       "    <tr>\n",
       "      <th>2</th>\n",
       "      <td>European Union</td>\n",
       "      <td>2399.68</td>\n",
       "    </tr>\n",
       "    <tr>\n",
       "      <th>3</th>\n",
       "      <td>Japan</td>\n",
       "      <td>1290.64</td>\n",
       "    </tr>\n",
       "    <tr>\n",
       "      <th>4</th>\n",
       "      <td>Other</td>\n",
       "      <td>782.63</td>\n",
       "    </tr>\n",
       "  </tbody>\n",
       "</table>\n",
       "</div>"
      ],
      "text/plain": [
       "           Region  Total Sales\n",
       "0       Worldwide      8818.57\n",
       "1   North America      4341.42\n",
       "2  European Union      2399.68\n",
       "3           Japan      1290.64\n",
       "4           Other       782.63"
      ]
     },
     "metadata": {},
     "output_type": "display_data"
    },
    {
     "data": {
      "image/png": "[encoded data removed]",
      "text/plain": [
       "<Figure size 432x288 with 1 Axes>"
      ]
     },
     "metadata": {},
     "output_type": "display_data"
    }
   ],
   "source": [
    "#Total Sales by Region Query\n",
    "query = c.execute('''\n",
    "        SELECT \n",
    "            DISTINCT region, SUM(sales)\n",
    "        FROM \n",
    "            Game_SalesWW\n",
    "        GROUP BY \n",
    "            region\n",
    "        ORDER BY\n",
    "            sum(sales) DESC\n",
    "        ''')\n",
    "\n",
    "Reg_Sum_df2 = pd.DataFrame(c.fetchall(), columns = ['Region', 'Total Sales'])\n",
    "print('---------------------')\n",
    "print('Total Sales by Region')\n",
    "print('---------------------')\n",
    "display(Reg_Sum_df2)\n",
    "\n",
    "\n",
    "#Total Sales Pie Chart Data\n",
    "region_totals = Reg_Sum_df2.groupby('Region').sum()\n",
    "data = region_totals['Total Sales'].sort_values(ascending=False)\n",
    "labels = Reg_Sum_df2['Region'].unique()\n",
    "colors = sns.color_palette('bright')[0:5]\n",
    "\n",
    "#Create Pie Chart\n",
    "plt.pie(data, labels = labels, colors = colors, shadow=True, startangle=100, autopct='%.0f%%')\n",
    "plt.title(\"   Total Sales Percentage by Region   \", bbox={'facecolor':'0.9', 'pad':5})\n",
    "plt.show()"
   ]
  },
  {
   "cell_type": "markdown",
   "id": "8c705cb6",
   "metadata": {},
   "source": [
    "As you can see, leaving in the Worldwide region is redundant since it's just an accumulation of all the other regions."
   ]
  },
  {
   "cell_type": "markdown",
   "id": "eaabb32c",
   "metadata": {},
   "source": [
    "Now we'll proceed with our Relevant Regions dataframe."
   ]
  },
  {
   "cell_type": "code",
   "execution_count": 26,
   "id": "3739a2aa",
   "metadata": {},
   "outputs": [
    {
     "name": "stdout",
     "output_type": "stream",
     "text": [
      "---------------------\n",
      "Total Sales by Region\n",
      "---------------------\n"
     ]
    },
    {
     "data": {
      "text/html": [
       "<div>\n",
       "<style scoped>\n",
       "    .dataframe tbody tr th:only-of-type {\n",
       "        vertical-align: middle;\n",
       "    }\n",
       "\n",
       "    .dataframe tbody tr th {\n",
       "        vertical-align: top;\n",
       "    }\n",
       "\n",
       "    .dataframe thead th {\n",
       "        text-align: right;\n",
       "    }\n",
       "</style>\n",
       "<table border=\"1\" class=\"dataframe\">\n",
       "  <thead>\n",
       "    <tr style=\"text-align: right;\">\n",
       "      <th></th>\n",
       "      <th>Region</th>\n",
       "      <th>Total Sales</th>\n",
       "    </tr>\n",
       "  </thead>\n",
       "  <tbody>\n",
       "    <tr>\n",
       "      <th>0</th>\n",
       "      <td>North America</td>\n",
       "      <td>4341.42</td>\n",
       "    </tr>\n",
       "    <tr>\n",
       "      <th>1</th>\n",
       "      <td>European Union</td>\n",
       "      <td>2399.68</td>\n",
       "    </tr>\n",
       "    <tr>\n",
       "      <th>2</th>\n",
       "      <td>Japan</td>\n",
       "      <td>1290.64</td>\n",
       "    </tr>\n",
       "    <tr>\n",
       "      <th>3</th>\n",
       "      <td>Other</td>\n",
       "      <td>782.63</td>\n",
       "    </tr>\n",
       "  </tbody>\n",
       "</table>\n",
       "</div>"
      ],
      "text/plain": [
       "           Region  Total Sales\n",
       "0   North America      4341.42\n",
       "1  European Union      2399.68\n",
       "2           Japan      1290.64\n",
       "3           Other       782.63"
      ]
     },
     "metadata": {},
     "output_type": "display_data"
    },
    {
     "data": {
      "image/png": "[encoded data removed]",
      "text/plain": [
       "<Figure size 432x288 with 1 Axes>"
      ]
     },
     "metadata": {},
     "output_type": "display_data"
    },
    {
     "data": {
      "text/plain": [
       "Text(0.5, 1.0, 'Total Sales by Region')"
      ]
     },
     "execution_count": 26,
     "metadata": {},
     "output_type": "execute_result"
    },
    {
     "data": {
      "image/png": "[encoded data removed]",
      "text/plain": [
       "<Figure size 432x288 with 1 Axes>"
      ]
     },
     "metadata": {
      "needs_background": "light"
     },
     "output_type": "display_data"
    }
   ],
   "source": [
    "c.execute(\"DROP TABLE IF EXISTS Game_Sales\")\n",
    "c.execute(\"CREATE TABLE Game_Sales (sales INTEGER, genre TEXT)\")\n",
    "df_No_WW.to_sql('Game_Sales', conn, if_exists='replace', index=False)\n",
    "pd.read_sql('select * from Game_Sales', conn)\n",
    "conn.commit()\n",
    "\n",
    "#Total Sales by Region Query\n",
    "query = c.execute('''\n",
    "        SELECT \n",
    "            DISTINCT region, SUM(sales)\n",
    "        FROM \n",
    "            Game_Sales\n",
    "        GROUP BY \n",
    "            region\n",
    "        ORDER BY\n",
    "            sum(sales) DESC\n",
    "        ''')\n",
    "\n",
    "Reg_Sum_df = pd.DataFrame(c.fetchall(), columns = ['Region', 'Total Sales'])\n",
    "print('---------------------')\n",
    "print('Total Sales by Region')\n",
    "print('---------------------')\n",
    "display(Reg_Sum_df)\n",
    "\n",
    "#Total Sales Pie Chart Data\n",
    "region_totals = Reg_Sum_df.groupby('Region').sum()\n",
    "data = region_totals['Total Sales'].sort_values(ascending=False)\n",
    "labels = Reg_Sum_df['Region'].unique()\n",
    "colors = sns.color_palette('bright')[0:4]\n",
    "#Create Pie Chart\n",
    "plt.pie(data, labels = labels, colors = colors, shadow=True, startangle=100, autopct='%.0f%%')\n",
    "plt.title(\"   Total Sales Percentage by Region   \", bbox={'facecolor':'0.9', 'pad':5})\n",
    "plt.show()\n",
    "#Create Bar Chart\n",
    "sns.barplot(x=\"Total Sales\", y=\"Region\", data=Reg_Sum_df).set_title('Total Sales by Region')"
   ]
  },
  {
   "cell_type": "markdown",
   "id": "bbf768ae",
   "metadata": {},
   "source": [
    "## North America Dominates ##\n",
    "According to this dataset, North America rules the video game industry, maintaining almost 50% of all sales among all regions. The European Union comes in 2nd, while Japan a not so distant 3rd. Then there's the 'Other' region. Let's break down the regions for a moment.\n",
    "\n",
    "- North America: United States, Canada, Mexico, etc.\n",
    "- European Union: Germany, France, Poland, etc.\n",
    "- Japan: Just Japan.\n",
    "- Other: I would assume smaller countries not represented by the other regions.\n",
    "\n",
    "**Just Japan** is an interesting choice here. Those that prepared this dataset must have felt that over the years, Japan was relevant enough to be its own region. This could very well have been the case in the 1980's and 1990's.\n",
    "\n",
    "Furthermore, **where's China?** It can't possibly be in the small 9% category, especially since it's often surpassing USA in video game sales and revenue: https://www.weforum.org/agenda/2021/08/which-countries-have-the-largest-video-gaming-markets.\n",
    "\n",
    "### No Dataset Is Perfect ###\n",
    "\n",
    "This is just something we want to keep in mind. While you could blame the dataset itself, there's always outside factors. Laws, censorship, and market data that isn't allowed to be shared can contribute to the lack of obtainable data.\n",
    "\n",
    "With the regions themselves analyzed, let's go ahead and take a look at the average yearly sales for each region. Then we'll get into answering some of our 4 main questions."
   ]
  },
  {
   "cell_type": "code",
   "execution_count": 27,
   "id": "19d75a63",
   "metadata": {},
   "outputs": [
    {
     "name": "stdout",
     "output_type": "stream",
     "text": [
      "------------------------------\n",
      "Average Yearly Sales by Region\n",
      "------------------------------\n"
     ]
    },
    {
     "data": {
      "text/html": [
       "<div>\n",
       "<style scoped>\n",
       "    .dataframe tbody tr th:only-of-type {\n",
       "        vertical-align: middle;\n",
       "    }\n",
       "\n",
       "    .dataframe tbody tr th {\n",
       "        vertical-align: top;\n",
       "    }\n",
       "\n",
       "    .dataframe thead th {\n",
       "        text-align: right;\n",
       "    }\n",
       "</style>\n",
       "<table border=\"1\" class=\"dataframe\">\n",
       "  <thead>\n",
       "    <tr style=\"text-align: right;\">\n",
       "      <th></th>\n",
       "      <th>Region</th>\n",
       "      <th>Average Sales</th>\n",
       "    </tr>\n",
       "  </thead>\n",
       "  <tbody>\n",
       "    <tr>\n",
       "      <th>0</th>\n",
       "      <td>North America</td>\n",
       "      <td>11.22</td>\n",
       "    </tr>\n",
       "    <tr>\n",
       "      <th>1</th>\n",
       "      <td>European Union</td>\n",
       "      <td>6.20</td>\n",
       "    </tr>\n",
       "    <tr>\n",
       "      <th>2</th>\n",
       "      <td>Japan</td>\n",
       "      <td>3.33</td>\n",
       "    </tr>\n",
       "    <tr>\n",
       "      <th>3</th>\n",
       "      <td>Other</td>\n",
       "      <td>2.02</td>\n",
       "    </tr>\n",
       "  </tbody>\n",
       "</table>\n",
       "</div>"
      ],
      "text/plain": [
       "           Region  Average Sales\n",
       "0   North America          11.22\n",
       "1  European Union           6.20\n",
       "2           Japan           3.33\n",
       "3           Other           2.02"
      ]
     },
     "metadata": {},
     "output_type": "display_data"
    },
    {
     "name": "stdout",
     "output_type": "stream",
     "text": [
      "--------------\n",
      "Storing averages into dictionary...\n",
      "{'North America': 11.22, 'European Union': 6.2, 'Japan': 3.33, 'Other': 2.02}\n"
     ]
    }
   ],
   "source": [
    "print('------------------------------')\n",
    "print('Average Yearly Sales by Region')\n",
    "print('------------------------------')\n",
    "\n",
    "#Collecting the Average Yearly Sales for each Region\n",
    "query = c.execute('''\n",
    "        SELECT \n",
    "            DISTINCT region, ROUND(AVG(sales),2)\n",
    "        FROM \n",
    "            Game_Sales\n",
    "        GROUP BY \n",
    "            region\n",
    "        ORDER BY\n",
    "            SUM(sales) DESC\n",
    "        ''')\n",
    "\n",
    "Reg_Avg_df = pd.DataFrame(c.fetchall(), columns = ['Region', 'Average Sales'])\n",
    "display(Reg_Avg_df)\n",
    "\n",
    "#Storing the Averages into a Dictionary\n",
    "query = c.execute('''\n",
    "        SELECT \n",
    "            DISTINCT region, ROUND(AVG(sales),2)\n",
    "        FROM \n",
    "            Game_Sales\n",
    "        GROUP BY \n",
    "            region\n",
    "        ORDER BY\n",
    "            SUM(sales) DESC\n",
    "        ''')\n",
    "\n",
    "data = c.fetchall() \n",
    "AVG_Sales_Dict = {}\n",
    "for d in data:\n",
    "    AVG_Sales_Dict[d[0]] = d[1]\n",
    "print('--------------')\n",
    "print('Storing averages into dictionary...')    \n",
    "print(AVG_Sales_Dict)"
   ]
  },
  {
   "cell_type": "markdown",
   "id": "2dd31f09",
   "metadata": {},
   "source": [
    "-------------------------------------------------------\n",
    "We can also store these averages into a dictionary to use for imputation. While we already decided *not to imputate* in the previous section, we can always build dictionaries like this (per genre) in case we *or* the game developers change their minds.\n",
    "\n",
    "Now to answer some questions."
   ]
  },
  {
   "cell_type": "markdown",
   "id": "7469101e",
   "metadata": {},
   "source": [
    "------------------------------------------------------------------\n",
    "## Question 1: What are the Top 3 game genres with the most sales from 1980-2020? ##\n",
    "Let's do a little data organization with our Relevant Regions dataframe to find this answer."
   ]
  },
  {
   "cell_type": "code",
   "execution_count": 28,
   "id": "538c7dcf",
   "metadata": {},
   "outputs": [
    {
     "name": "stdout",
     "output_type": "stream",
     "text": [
      "-----------------------\n",
      "Genres Ordered by Sales\n",
      "-----------------------\n"
     ]
    },
    {
     "data": {
      "text/html": [
       "<div>\n",
       "<style scoped>\n",
       "    .dataframe tbody tr th:only-of-type {\n",
       "        vertical-align: middle;\n",
       "    }\n",
       "\n",
       "    .dataframe tbody tr th {\n",
       "        vertical-align: top;\n",
       "    }\n",
       "\n",
       "    .dataframe thead th {\n",
       "        text-align: right;\n",
       "    }\n",
       "</style>\n",
       "<table border=\"1\" class=\"dataframe\">\n",
       "  <thead>\n",
       "    <tr style=\"text-align: right;\">\n",
       "      <th></th>\n",
       "      <th>genre</th>\n",
       "      <th>sales</th>\n",
       "    </tr>\n",
       "  </thead>\n",
       "  <tbody>\n",
       "    <tr>\n",
       "      <th>0</th>\n",
       "      <td>Action</td>\n",
       "      <td>1716.52</td>\n",
       "    </tr>\n",
       "    <tr>\n",
       "      <th>1</th>\n",
       "      <td>Sports</td>\n",
       "      <td>1309.67</td>\n",
       "    </tr>\n",
       "    <tr>\n",
       "      <th>2</th>\n",
       "      <td>Shooter</td>\n",
       "      <td>1041.36</td>\n",
       "    </tr>\n",
       "    <tr>\n",
       "      <th>3</th>\n",
       "      <td>Role-Playing</td>\n",
       "      <td>931.08</td>\n",
       "    </tr>\n",
       "    <tr>\n",
       "      <th>4</th>\n",
       "      <td>Platform</td>\n",
       "      <td>825.55</td>\n",
       "    </tr>\n",
       "    <tr>\n",
       "      <th>5</th>\n",
       "      <td>Misc</td>\n",
       "      <td>790.29</td>\n",
       "    </tr>\n",
       "    <tr>\n",
       "      <th>6</th>\n",
       "      <td>Racing</td>\n",
       "      <td>723.49</td>\n",
       "    </tr>\n",
       "    <tr>\n",
       "      <th>7</th>\n",
       "      <td>Fighting</td>\n",
       "      <td>442.66</td>\n",
       "    </tr>\n",
       "    <tr>\n",
       "      <th>8</th>\n",
       "      <td>Simulation</td>\n",
       "      <td>387.96</td>\n",
       "    </tr>\n",
       "    <tr>\n",
       "      <th>9</th>\n",
       "      <td>Puzzle</td>\n",
       "      <td>239.89</td>\n",
       "    </tr>\n",
       "    <tr>\n",
       "      <th>10</th>\n",
       "      <td>Adventure</td>\n",
       "      <td>233.33</td>\n",
       "    </tr>\n",
       "    <tr>\n",
       "      <th>11</th>\n",
       "      <td>Strategy</td>\n",
       "      <td>172.57</td>\n",
       "    </tr>\n",
       "  </tbody>\n",
       "</table>\n",
       "</div>"
      ],
      "text/plain": [
       "           genre    sales\n",
       "0         Action  1716.52\n",
       "1         Sports  1309.67\n",
       "2        Shooter  1041.36\n",
       "3   Role-Playing   931.08\n",
       "4       Platform   825.55\n",
       "5           Misc   790.29\n",
       "6         Racing   723.49\n",
       "7       Fighting   442.66\n",
       "8     Simulation   387.96\n",
       "9         Puzzle   239.89\n",
       "10     Adventure   233.33\n",
       "11      Strategy   172.57"
      ]
     },
     "execution_count": 28,
     "metadata": {},
     "output_type": "execute_result"
    }
   ],
   "source": [
    "TopGames = df_No_WW.groupby('genre')['sales'].sum().reset_index()\n",
    "TopGames = TopGames.sort_values('sales', ascending=False)\n",
    "TopGames = TopGames.reset_index(drop=True)\n",
    "print('-----------------------')\n",
    "print('Genres Ordered by Sales')\n",
    "print('-----------------------')\n",
    "TopGames"
   ]
  },
  {
   "cell_type": "code",
   "execution_count": 29,
   "id": "1a9e4cb2",
   "metadata": {},
   "outputs": [
    {
     "name": "stdout",
     "output_type": "stream",
     "text": [
      "-----------------\n",
      "Top 3 Game Genres\n",
      "-----------------\n"
     ]
    },
    {
     "data": {
      "text/html": [
       "<div>\n",
       "<style scoped>\n",
       "    .dataframe tbody tr th:only-of-type {\n",
       "        vertical-align: middle;\n",
       "    }\n",
       "\n",
       "    .dataframe tbody tr th {\n",
       "        vertical-align: top;\n",
       "    }\n",
       "\n",
       "    .dataframe thead th {\n",
       "        text-align: right;\n",
       "    }\n",
       "</style>\n",
       "<table border=\"1\" class=\"dataframe\">\n",
       "  <thead>\n",
       "    <tr style=\"text-align: right;\">\n",
       "      <th></th>\n",
       "      <th>genre</th>\n",
       "      <th>sales</th>\n",
       "    </tr>\n",
       "  </thead>\n",
       "  <tbody>\n",
       "    <tr>\n",
       "      <th>0</th>\n",
       "      <td>Action</td>\n",
       "      <td>1716.52</td>\n",
       "    </tr>\n",
       "    <tr>\n",
       "      <th>1</th>\n",
       "      <td>Sports</td>\n",
       "      <td>1309.67</td>\n",
       "    </tr>\n",
       "    <tr>\n",
       "      <th>2</th>\n",
       "      <td>Shooter</td>\n",
       "      <td>1041.36</td>\n",
       "    </tr>\n",
       "  </tbody>\n",
       "</table>\n",
       "</div>"
      ],
      "text/plain": [
       "     genre    sales\n",
       "0   Action  1716.52\n",
       "1   Sports  1309.67\n",
       "2  Shooter  1041.36"
      ]
     },
     "execution_count": 29,
     "metadata": {},
     "output_type": "execute_result"
    }
   ],
   "source": [
    "print('-----------------')\n",
    "print('Top 3 Game Genres')\n",
    "print('-----------------')\n",
    "TopGames.head(3)"
   ]
  },
  {
   "cell_type": "markdown",
   "id": "dddf0763",
   "metadata": {},
   "source": [
    "---------------------------------------\n",
    "### Top 3: Action, Sports, & Shooter ###\n",
    "The above **Top 3** genres give us some insight on what game type we should recommend to our game developer. We should encourage our developers to choose from one of these 3 genres, **highly recommending the Action genre.** The Action genre has **31%** more sales than the 2nd closest genre Sports. ((1716.52/1309.67) - 1) = 0.31"
   ]
  },
  {
   "cell_type": "markdown",
   "id": "e30a384c",
   "metadata": {},
   "source": [
    "-----------------------------------------------------------------\n",
    "## Question 2: What genre sells the least? ##\n",
    "As the dataset and the chart below suggest, the **'Strategy'** genre sells the least. Keep in mind however that the Strategy genre was a absent in this data set from until around the 1990's. That's about **10 years worth of missing sales data.** With that in mind, it's safe to say that our game developers should probably stray away from the **Puzzle, Adventure, and Strategy** genres if they want to target the greatest audience."
   ]
  },
  {
   "cell_type": "code",
   "execution_count": 30,
   "id": "8a390703",
   "metadata": {},
   "outputs": [
    {
     "data": {
      "text/plain": [
       "Text(0.5, 1.0, 'Total Sales by Genre: 1980-2016')"
      ]
     },
     "execution_count": 30,
     "metadata": {},
     "output_type": "execute_result"
    },
    {
     "data": {
      "image/png": "[encoded data removed]",
      "text/plain": [
       "<Figure size 432x288 with 1 Axes>"
      ]
     },
     "metadata": {
      "needs_background": "light"
     },
     "output_type": "display_data"
    }
   ],
   "source": [
    "sns.barplot(x=\"sales\", y=\"genre\", data=TopGames).set_title('Total Sales by Genre: 1980-2016')"
   ]
  },
  {
   "cell_type": "markdown",
   "id": "aca4e0b8",
   "metadata": {},
   "source": [
    "## Question 3: Is there a close Top Number 4? ##\n",
    "The closest number 4 genre is the Role-Playing genre, as shown above. It's really not that far behind the Shooter genre and is something for our game developers to consider. Let's dig a little deeper and find some more information about these top 4 genres, analyzing their sales over time."
   ]
  },
  {
   "cell_type": "code",
   "execution_count": 31,
   "id": "624cb983",
   "metadata": {},
   "outputs": [],
   "source": [
    "#Putting together a Top 4 Dataframe\n",
    "filtTop4 = ((df_WW['genre'] == 'Action') | (df_WW['genre'] == 'Sports') | (df_WW['genre'] == 'Shooter')\n",
    "            | (df_WW['genre'] == 'Role-Playing'))\n",
    "Top4 = df_WW.loc[filtTop4]"
   ]
  },
  {
   "cell_type": "code",
   "execution_count": 32,
   "id": "58baa86a",
   "metadata": {},
   "outputs": [
    {
     "data": {
      "text/plain": [
       "Text(0.5, 1.0, 'Top 4 Genre Sales 1980-2016')"
      ]
     },
     "execution_count": 32,
     "metadata": {},
     "output_type": "execute_result"
    },
    {
     "data": {
      "image/png": "[encoded data removed]",
      "text/plain": [
       "<Figure size 432x288 with 1 Axes>"
      ]
     },
     "metadata": {
      "needs_background": "light"
     },
     "output_type": "display_data"
    }
   ],
   "source": [
    "sns.lineplot(x=\"release_year\", y='sales', hue='genre', ci=None, data=Top4).set_title('Top 4 Genre Sales 1980-2016')"
   ]
  },
  {
   "cell_type": "markdown",
   "id": "1579b802",
   "metadata": {},
   "source": [
    "The chart above shows the **1980-2016 sales data** for the **Top 4 genres** (remember we removed bad 2017-2020 data.)\n",
    "\n",
    "For clarity sake, let's also look at each genre individually."
   ]
  },
  {
   "cell_type": "code",
   "execution_count": 33,
   "id": "fb00c7dd",
   "metadata": {},
   "outputs": [
    {
     "data": {
      "text/plain": [
       "Text(0.5, 1.0, 'Action Genre Sales 1980-2016')"
      ]
     },
     "execution_count": 33,
     "metadata": {},
     "output_type": "execute_result"
    },
    {
     "data": {
      "image/png": "[encoded data removed]",
      "text/plain": [
       "<Figure size 432x288 with 1 Axes>"
      ]
     },
     "metadata": {
      "needs_background": "light"
     },
     "output_type": "display_data"
    }
   ],
   "source": [
    "#Splitting Genres into individual lineplots\n",
    "filtTop4A = (df_WW['genre'] == 'Action')\n",
    "Top4A = df_WW.loc[filtTop4A]\n",
    "\n",
    "filtTop4SP = (df_WW['genre'] == 'Sports')\n",
    "Top4SP = df_WW.loc[filtTop4SP]\n",
    "\n",
    "filtTop4SH = (df_WW['genre'] == 'Shooter')\n",
    "Top4SH = df_WW.loc[filtTop4SH]\n",
    "\n",
    "filtTop4RP = (df_WW['genre'] == 'Role-Playing')\n",
    "Top4RP = df_WW.loc[filtTop4RP]\n",
    "\n",
    "sns.lineplot(x=\"release_year\", y='sales', data=Top4A).set_title('Action Genre Sales 1980-2016')"
   ]
  },
  {
   "cell_type": "code",
   "execution_count": 34,
   "id": "8dc4d0df",
   "metadata": {},
   "outputs": [
    {
     "data": {
      "text/plain": [
       "Text(0.5, 1.0, 'Sports Genre Sales 1980-2016')"
      ]
     },
     "execution_count": 34,
     "metadata": {},
     "output_type": "execute_result"
    },
    {
     "data": {
      "image/png": "[encoded data removed]",
      "text/plain": [
       "<Figure size 432x288 with 1 Axes>"
      ]
     },
     "metadata": {
      "needs_background": "light"
     },
     "output_type": "display_data"
    }
   ],
   "source": [
    "sns.lineplot(x=\"release_year\", y='sales', data=Top4SP).set_title('Sports Genre Sales 1980-2016')"
   ]
  },
  {
   "cell_type": "code",
   "execution_count": 35,
   "id": "567b5998",
   "metadata": {},
   "outputs": [
    {
     "data": {
      "text/plain": [
       "Text(0.5, 1.0, 'Shooter Genre Sales 1980-2016')"
      ]
     },
     "execution_count": 35,
     "metadata": {},
     "output_type": "execute_result"
    },
    {
     "data": {
      "image/png": "[encoded data removed]",
      "text/plain": [
       "<Figure size 432x288 with 1 Axes>"
      ]
     },
     "metadata": {
      "needs_background": "light"
     },
     "output_type": "display_data"
    }
   ],
   "source": [
    "sns.lineplot(x=\"release_year\", y='sales', data=Top4SH).set_title('Shooter Genre Sales 1980-2016')"
   ]
  },
  {
   "cell_type": "code",
   "execution_count": 36,
   "id": "83851913",
   "metadata": {},
   "outputs": [
    {
     "data": {
      "text/plain": [
       "Text(0.5, 1.0, 'Role-Playing Genre Sales 1980-2016')"
      ]
     },
     "execution_count": 36,
     "metadata": {},
     "output_type": "execute_result"
    },
    {
     "data": {
      "image/png": "[encoded data removed]",
      "text/plain": [
       "<Figure size 432x288 with 1 Axes>"
      ]
     },
     "metadata": {
      "needs_background": "light"
     },
     "output_type": "display_data"
    }
   ],
   "source": [
    "sns.lineplot(x=\"release_year\", y='sales', data=Top4RP).set_title('Role-Playing Genre Sales 1980-2016')"
   ]
  },
  {
   "cell_type": "markdown",
   "id": "e1cd0b3e",
   "metadata": {},
   "source": [
    "### Role-Playing Genre ###\n",
    "\n",
    "The Roleplaying Genre has a pretty wild history of sales! It seems to indicate that every few years a **strong video game release** happens. Perhaps this can be related to one or two immensely popular game titles, like the famous **Final Fantasy** game series, releasing a new title to their collection every few years. The **Elder Scrolls** series might also be an accomplice to this, as both are well known to the gaming industry as the most popular Role-Playing game franchises.\n",
    "\n",
    "More on that here: https://www.thetoptens.com/franchises/rpg-series/\n",
    "\n",
    "At any rate, if our game developers decide to make a Role-Playing video game, we want to advise them to **carefully plan their release date** around these other two monstrous titles!"
   ]
  },
  {
   "cell_type": "markdown",
   "id": "fc80dd8d",
   "metadata": {},
   "source": [
    "### Dropping Sales for all Genres? ###\n",
    "\n",
    "Interestingly enough, our dataset seems to suggest **sales are dropping** for all genres. This could be due to technological factors like pirating video games or the ability to share games online with others (Steam Family Sharing). Economical factors like inflation could also contribute to this. Unfortunately, since we did prove earlier that the sales data for 2017 was incorrect, it might simply suggest that the **most recent years data might be inaccurate.**"
   ]
  },
  {
   "cell_type": "code",
   "execution_count": 37,
   "id": "6b67e9c1",
   "metadata": {},
   "outputs": [
    {
     "data": {
      "text/plain": [
       "Text(0.5, 1.0, 'Top 4 Avg. Yearly Sales by Region: 1980-2016')"
      ]
     },
     "execution_count": 37,
     "metadata": {},
     "output_type": "execute_result"
    },
    {
     "data": {
      "image/png": "[encoded data removed]",
      "text/plain": [
       "<Figure size 432x288 with 1 Axes>"
      ]
     },
     "metadata": {
      "needs_background": "light"
     },
     "output_type": "display_data"
    }
   ],
   "source": [
    "#Putting together a Top 4 Relevant Region Dataframe\n",
    "filtTop4RR = ((df_No_WW['genre'] == 'Action') | (df_No_WW['genre'] == 'Sports') | (df_No_WW['genre'] == 'Shooter')\n",
    "            | (df_No_WW['genre'] == 'Role-Playing'))\n",
    "Top4RR = df_No_WW.loc[filtTop4RR]\n",
    "sns.barplot(x=\"region\", y=\"sales\", hue=\"genre\", ci=None,data=Top4RR).set_title('Top 4 Avg. Yearly Sales by Region: 1980-2016')"
   ]
  },
  {
   "cell_type": "markdown",
   "id": "8023e8b1",
   "metadata": {},
   "source": [
    "### Top 4 Genre Sales by Region ###\n",
    "For the most part the **Top 3: Action, Sports, and Shooter** game genres perform consistently across all regions (in regards to their respective sales hierarchy: Action > Sports > Shooter.) On the other hand, we do notice something interesting with Japan, so let's take a closer look at Japan alone."
   ]
  },
  {
   "cell_type": "code",
   "execution_count": 38,
   "id": "137c67a8",
   "metadata": {},
   "outputs": [
    {
     "data": {
      "text/plain": [
       "Text(0.5, 1.0, 'Top 4 Avg. Yearly Sales by Genre in Japan: 1980-2016')"
      ]
     },
     "execution_count": 38,
     "metadata": {},
     "output_type": "execute_result"
    },
    {
     "data": {
      "image/png": "[encoded data removed]",
      "text/plain": [
       "<Figure size 432x288 with 1 Axes>"
      ]
     },
     "metadata": {
      "needs_background": "light"
     },
     "output_type": "display_data"
    }
   ],
   "source": [
    "filtTop4J = (Top4RR['region'] == 'Japan')\n",
    "Top4J = Top4RR.loc[filtTop4J]\n",
    "sns.barplot(x=\"genre\", y=\"sales\", ci=None, data=Top4J).set_title('Top 4 Avg. Yearly Sales by Genre in Japan: 1980-2016')"
   ]
  },
  {
   "cell_type": "markdown",
   "id": "938702ca",
   "metadata": {},
   "source": [
    "### Role-Playing #1 in Japan ###\n",
    "\n",
    "Wow, **look at those Role-Playing game sales!** Not only does this genre jump into the Top 3 for Japan, it shoots straight to the **Top #1!**\n",
    "\n",
    "What's the deal with **Shooter sales being so low in Japan?** Well, looking into outside sources, it appears that Shooter (FPS) games were made to appeal to a mostly American audience. As our data and below sources back up, American made Shooter games have never sold well in Japan. Furthermore, Japan has a proud history of popular Role-Playing (RPG) game titles, like the **Dragon Quest** and **Final Fantasy** franchises. To quote an outside source:\n",
    "\n",
    "**\"FPS games have become more popular; however, most Japanese people are resistant to FPS games,\" said Kouji Aizawa, editor in chief of Famitsu PS, a popular gaming magazine in Japan .  \"A lot of people [still] resent the idea of shooting people in games.\"* \n",
    "\n",
    "*https://www.nbcnews.com/id/wbna4780423\n",
    "\n",
    "More on this topic here: https://www.japantimes.co.jp/life/2012/05/02/digital/japans-gamers-are-starting-to-shoot-em-up/\n"
   ]
  },
  {
   "cell_type": "markdown",
   "id": "8e1668b3",
   "metadata": {},
   "source": [
    "## Question 4: Is there any Top 3 Genre that won't sell well in one region compared to the rest? ##\n",
    "As we just found out above, Shooters will not sell well in Japan. Aside from that instance, there should be no other issues like this among the Top 4."
   ]
  },
  {
   "cell_type": "code",
   "execution_count": 39,
   "id": "4985f93a",
   "metadata": {},
   "outputs": [
    {
     "data": {
      "text/plain": [
       "Text(0.5, 1.0, 'Avg. Yearly Sales: Role-Playing vs Shooter')"
      ]
     },
     "execution_count": 39,
     "metadata": {},
     "output_type": "execute_result"
    },
    {
     "data": {
      "image/png": "[encoded data removed]",
      "text/plain": [
       "<Figure size 432x288 with 1 Axes>"
      ]
     },
     "metadata": {
      "needs_background": "light"
     },
     "output_type": "display_data"
    }
   ],
   "source": [
    "RvsS_filt = (df_No_WW['genre'] == 'Shooter') | (df1['genre'] == 'Role-Playing')\n",
    "RvsS_df = df_No_WW.loc[RvsS_filt]\n",
    "sns.barplot(x=\"region\", y=\"sales\", hue=\"genre\", ci=None, data=RvsS_df).set_title('Avg. Yearly Sales: Role-Playing vs Shooter')"
   ]
  },
  {
   "cell_type": "markdown",
   "id": "ac91a0f9",
   "metadata": {},
   "source": [
    "There really is a dramatic difference in the amount of sales between Shooter games and Role-Playing games in Japan. Let's take a better look at the sales numbers so we can better put it into perspective."
   ]
  },
  {
   "cell_type": "code",
   "execution_count": 40,
   "id": "b320a42f",
   "metadata": {},
   "outputs": [
    {
     "name": "stdout",
     "output_type": "stream",
     "text": [
      "---------------------------------------------------------------\n",
      "Total Sales in Japan by Genre: Roleplaying vs Shooter 1980-2016\n",
      "---------------------------------------------------------------\n"
     ]
    },
    {
     "data": {
      "text/html": [
       "<div>\n",
       "<style scoped>\n",
       "    .dataframe tbody tr th:only-of-type {\n",
       "        vertical-align: middle;\n",
       "    }\n",
       "\n",
       "    .dataframe tbody tr th {\n",
       "        vertical-align: top;\n",
       "    }\n",
       "\n",
       "    .dataframe thead th {\n",
       "        text-align: right;\n",
       "    }\n",
       "</style>\n",
       "<table border=\"1\" class=\"dataframe\">\n",
       "  <thead>\n",
       "    <tr style=\"text-align: right;\">\n",
       "      <th></th>\n",
       "      <th>genre</th>\n",
       "      <th>sales</th>\n",
       "    </tr>\n",
       "  </thead>\n",
       "  <tbody>\n",
       "    <tr>\n",
       "      <th>0</th>\n",
       "      <td>Role-Playing</td>\n",
       "      <td>353.39</td>\n",
       "    </tr>\n",
       "    <tr>\n",
       "      <th>1</th>\n",
       "      <td>Shooter</td>\n",
       "      <td>38.68</td>\n",
       "    </tr>\n",
       "  </tbody>\n",
       "</table>\n",
       "</div>"
      ],
      "text/plain": [
       "          genre   sales\n",
       "0  Role-Playing  353.39\n",
       "1       Shooter   38.68"
      ]
     },
     "execution_count": 40,
     "metadata": {},
     "output_type": "execute_result"
    }
   ],
   "source": [
    "#Filtering the data and calculating sales...\n",
    "filtJ = ((df1['region'] == 'Japan') & ((df1['genre'] == 'Shooter') | (df1['genre'] == 'Role-Playing')))\n",
    "JSales = df1.loc[filtJ]\n",
    "JSales = JSales.groupby('genre')['sales'].sum().reset_index()\n",
    "JSales = JSales.sort_values('sales', ascending=False)\n",
    "print('---------------------------------------------------------------')\n",
    "print('Total Sales in Japan by Genre: Roleplaying vs Shooter 1980-2016')\n",
    "print('---------------------------------------------------------------')\n",
    "JSales"
   ]
  },
  {
   "cell_type": "markdown",
   "id": "6d7a4608",
   "metadata": {},
   "source": [
    "Over the past 40 years, our dataset suggests that in Japan the Role-Playing game genre earned **$314.71 million dollars more** than the Shooter genre did in Japan. (353.39 - 38.68 = 314.71)\n",
    "\n",
    "To get a little better idea of how those numbers look in the big picture, let's take a glance at all worldwide video game sales over time. Remember, sales numbers are in millions."
   ]
  },
  {
   "cell_type": "code",
   "execution_count": 41,
   "id": "19286564",
   "metadata": {},
   "outputs": [
    {
     "name": "stdout",
     "output_type": "stream",
     "text": [
      "----------------------------\n",
      "Sales by Year for All Genres\n",
      "----------------------------\n"
     ]
    },
    {
     "data": {
      "image/png": "[encoded data removed]",
      "text/plain": [
       "<Figure size 432x288 with 1 Axes>"
      ]
     },
     "metadata": {
      "needs_background": "light"
     },
     "output_type": "display_data"
    }
   ],
   "source": [
    "c.execute(\"DROP TABLE IF EXISTS Worldwide_Sales\")\n",
    "c.execute(\"CREATE TABLE Worldwide_Sales (sales INTEGER, genre TEXT)\")\n",
    "df1.to_sql('Worldwide_Sales', conn, if_exists='replace', index=False)\n",
    "pd.read_sql('select * from Worldwide_Sales', conn)\n",
    "conn.commit()\n",
    "\n",
    "#Total Sales by Region Query\n",
    "query = c.execute('''\n",
    "        SELECT \n",
    "            DISTINCT release_year, SUM(sales)\n",
    "        FROM \n",
    "            Worldwide_Sales\n",
    "        GROUP BY \n",
    "            release_year\n",
    "        ORDER BY\n",
    "            sum(sales) DESC\n",
    "        ''')\n",
    "\n",
    "WW_Sum = pd.DataFrame(c.fetchall(), columns = ['Year', 'Sales'])\n",
    "\n",
    "print('----------------------------')\n",
    "print('Sales by Year for All Genres')\n",
    "print('----------------------------')\n",
    "barplot = sns.barplot(data=WW_Sum, x='Year', y='Sales', ci=None)\n",
    "for ind, label in enumerate(barplot.get_xticklabels()):\n",
    "    if ind % 5 == 0:\n",
    "        label.set_visible(True)\n",
    "    else:\n",
    "        label.set_visible(False)"
   ]
  },
  {
   "cell_type": "markdown",
   "id": "c80017b2",
   "metadata": {},
   "source": [
    "It looks like the **best year** for the gaming industry was **2008**, followed by a close **2009**. Here they both appear to be breaching past **$1300 million**. The **worst year** for the gaming industry is the first recorded one at **1980**, which is likely the case for many industries."
   ]
  },
  {
   "cell_type": "markdown",
   "id": "ac835082",
   "metadata": {},
   "source": [
    "------------------------------------------------------------------\n",
    "## Insights ##\n",
    "Here are some of the insights we've gathered with our analysis, which we will share with our game developers.\n",
    "\n",
    "- **The Top 3 video game genres are Action, Sports, and Shooter**, in that order. There is a regional exception with Japan however, as the Top 3 game genres in that region are Role-Playing, Action, and Sports. The Shooter genre does not sell well in Japan.\n",
    "\n",
    "- **The Role-Playing genre is the 4th most popular**, but 1st most popular in Japan. It's not far behind the Shooter genre, so depending on your target market it's worthy of mention.\n",
    "\n",
    "- **Action is the most popular genre** that surpasses the second most popular genre (Sports) by **31%**. *The Action genre is highly recommended.*\n",
    "\n",
    "- **The least most popular game genres are Strategy, Adventure, and Puzzle.** It's worth mentioning that 10 years worth of Strategy genre data is missing and likely contributes to the genres low perceived popularity.\n",
    "\n",
    "- **Platform Games dominated** the video game industry between **1980-1995.** This is likely due to the popularity of arcade machines during that time.\n",
    "\n",
    "- **Action** games had their best years in **2008, 2009, 2012, and 2013.** **Sports** games had their best years in **2006 and 2009.** These are the 6 highest instances of sales by genre.\n",
    "\n",
    "- **North America** is responsible for almost **50%** of all video game sales between **1980-2020.** They are the most profitable region to sell to.\n",
    "\n",
    "- Selling Action games in North America or selling Role-Playing games in Japan appear the be the most efficient practices, although selling Action games worldwide should be fine as well.\n",
    "\n",
    "- **The dataset isn't perfect**, but few datasets are. My primary concerns are the quality of the most recent observations (think the 2017 example) and the absence of a huge region like China.\n",
    "\n",
    "### Future Thoughts for Improvement ###\n",
    "In the future I might be a little pickier about my dataset in regards to missing data. I might have appreciated more null values (NaN's) in my data set if it meant not having to determine which 0.0 values were *real* accurate observations or not. Coding wise, I have yet to decide on the style I like to title my visuals with and am currently experimenting. I'm sure my code blocks could be shorter and sharper, but that will come with experience. In addition, this is my first time using Markdown, so I'm excited to see how my peers used it and how I can improve with my overall presentation.  \n",
    "\n",
    "Thank you for reading this analysis, I hope you found it fun and informing!\n",
    "Feedback is always welcome!"
   ]
  }
 ],
 "metadata": {
  "kernelspec": {
   "display_name": "Python 3 (ipykernel)",
   "language": "python",
   "name": "python3"
  },
  "language_info": {
   "codemirror_mode": {
    "name": "ipython",
    "version": 3
   },
   "file_extension": ".py",
   "mimetype": "text/x-python",
   "name": "python",
   "nbconvert_exporter": "python",
   "pygments_lexer": "ipython3",
   "version": "3.9.12"
  }
 },
 "nbformat": 4,
 "nbformat_minor": 5
}
